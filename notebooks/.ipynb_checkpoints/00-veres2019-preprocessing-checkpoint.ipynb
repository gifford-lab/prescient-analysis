{
 "cells": [
  {
   "cell_type": "markdown",
   "metadata": {},
   "source": [
    "Re-implement preprocessing in Seurat\n",
    "\n",
    "> Dimensionality reduction and clus-tering for each dataset was performed by broadly following a modified version of a previously published approach. Using the unnormalized counts, highly varia-ble genes were identified as previously described, by finding outliers with high coefficients of variations as a function of mean expression. Then, within each dataset, depth-normalized counts values were further z-normalized per gene, to yield z-normalized values. The z-normalized values of variable genes per dataset were used as input for principal component analysis. When computing principal components for the stage-5 datasets, we identified genes correlated with cell-cycle marker TOP2A (Pearson correlation greater 0.15), and excluded them. Clustering was carried out using Leiden community detection, a recently published improve-ment on Louvain community detection. \n",
    "\n",
    "See [here](https://satijalab.org/seurat/v3.1/pbmc3k_tutorial.html) for standard workflow"
   ]
  },
  {
   "cell_type": "code",
   "execution_count": 1,
   "metadata": {},
   "outputs": [],
   "source": [
    "library(Seurat)"
   ]
  },
  {
   "cell_type": "code",
   "execution_count": 29,
   "metadata": {},
   "outputs": [
    {
     "data": {
      "text/plain": [
       "R version 3.6.2 (2019-12-12)\n",
       "Platform: x86_64-conda_cos6-linux-gnu (64-bit)\n",
       "Running under: Ubuntu 18.04.3 LTS\n",
       "\n",
       "Matrix products: default\n",
       "BLAS/LAPACK: /data/gl/g5/yhtgrace/env/miniconda3/envs/r3.6.2/lib/libopenblasp-r0.3.7.so\n",
       "\n",
       "locale:\n",
       " [1] LC_CTYPE=en_US.UTF-8       LC_NUMERIC=C              \n",
       " [3] LC_TIME=en_US.UTF-8        LC_COLLATE=en_US.UTF-8    \n",
       " [5] LC_MONETARY=en_US.UTF-8    LC_MESSAGES=en_US.UTF-8   \n",
       " [7] LC_PAPER=en_US.UTF-8       LC_NAME=C                 \n",
       " [9] LC_ADDRESS=C               LC_TELEPHONE=C            \n",
       "[11] LC_MEASUREMENT=en_US.UTF-8 LC_IDENTIFICATION=C       \n",
       "\n",
       "attached base packages:\n",
       "[1] stats     graphics  grDevices utils     datasets  methods   base     \n",
       "\n",
       "other attached packages:\n",
       "[1] Seurat_3.1.5\n",
       "\n",
       "loaded via a namespace (and not attached):\n",
       " [1] nlme_3.1-145        tsne_0.1-3          bitops_1.0-6       \n",
       " [4] RcppAnnoy_0.0.16    RColorBrewer_1.1-2  httr_1.4.1         \n",
       " [7] repr_1.1.0          sctransform_0.2.1   tools_3.6.2        \n",
       "[10] R6_2.4.1            irlba_2.3.3         KernSmooth_2.23-16 \n",
       "[13] uwot_0.1.8          lazyeval_0.2.2      colorspace_1.4-1   \n",
       "[16] npsurv_0.4-0        tidyselect_1.0.0    gridExtra_2.3      \n",
       "[19] compiler_3.6.2      plotly_4.9.2        caTools_1.18.0     \n",
       "[22] scales_1.1.0        lmtest_0.9-37       ggridges_0.5.2     \n",
       "[25] pbapply_1.4-2       rappdirs_0.3.1      pbdZMQ_0.3-3       \n",
       "[28] stringr_1.4.0       digest_0.6.25       base64enc_0.1-3    \n",
       "[31] pkgconfig_2.0.3     htmltools_0.4.0     htmlwidgets_1.5.1  \n",
       "[34] rlang_0.4.5         zoo_1.8-7           jsonlite_1.6.1     \n",
       "[37] ica_1.0-2           gtools_3.8.2        dplyr_0.8.5        \n",
       "[40] magrittr_1.5        patchwork_1.0.0     Matrix_1.2-18      \n",
       "[43] Rcpp_1.0.4          IRkernel_1.1        munsell_0.5.0      \n",
       "[46] ape_5.3             reticulate_1.15     lifecycle_0.2.0    \n",
       "[49] stringi_1.4.6       MASS_7.3-51.5       gplots_3.0.3       \n",
       "[52] Rtsne_0.15          plyr_1.8.6          grid_3.6.2         \n",
       "[55] parallel_3.6.2      gdata_2.18.0        listenv_0.8.0      \n",
       "[58] ggrepel_0.8.2       crayon_1.3.4        lattice_0.20-40    \n",
       "[61] IRdisplay_0.7.0     cowplot_1.0.0       splines_3.6.2      \n",
       "[64] pillar_1.4.3        igraph_1.2.5        uuid_0.1-4         \n",
       "[67] future.apply_1.5.0  reshape2_1.4.3      codetools_0.2-16   \n",
       "[70] leiden_0.3.3        glue_1.3.2          evaluate_0.14      \n",
       "[73] lsei_1.2-0          data.table_1.12.8   vctrs_0.3.1        \n",
       "[76] png_0.1-7           gtable_0.3.0        RANN_2.6.1         \n",
       "[79] purrr_0.3.3         tidyr_1.0.2         future_1.17.0      \n",
       "[82] assertthat_0.2.1    ggplot2_3.3.0       rsvd_1.0.3         \n",
       "[85] survival_3.1-11     viridisLite_0.3.0   tibble_3.0.1       \n",
       "[88] cluster_2.1.0       globals_0.12.5      fitdistrplus_1.0-14\n",
       "[91] ellipsis_0.3.0      ROCR_1.0-7         "
      ]
     },
     "metadata": {},
     "output_type": "display_data"
    }
   ],
   "source": [
    "sessionInfo()"
   ]
  },
  {
   "cell_type": "markdown",
   "metadata": {},
   "source": [
    "Load data"
   ]
  },
  {
   "cell_type": "code",
   "execution_count": 16,
   "metadata": {},
   "outputs": [
    {
     "data": {
      "text/html": [
       "<table>\n",
       "<caption>A data.frame: 6 × 8</caption>\n",
       "<thead>\n",
       "\t<tr><th></th><th scope=col>Assigned_cluster</th><th scope=col>Assigned_subcluster</th><th scope=col>tSNE_dim1</th><th scope=col>tSNE_dim2</th><th scope=col>Differentiation</th><th scope=col>CellWeek</th><th scope=col>Lib_prep_batch</th><th scope=col>Indrops_barcode_sequence</th></tr>\n",
       "\t<tr><th></th><th scope=col>&lt;fct&gt;</th><th scope=col>&lt;fct&gt;</th><th scope=col>&lt;dbl&gt;</th><th scope=col>&lt;dbl&gt;</th><th scope=col>&lt;int&gt;</th><th scope=col>&lt;int&gt;</th><th scope=col>&lt;fct&gt;</th><th scope=col>&lt;fct&gt;</th></tr>\n",
       "</thead>\n",
       "<tbody>\n",
       "\t<tr><th scope=row>stg5diff1_S5d0_b1.bcEKBI</th><td>prog_sox2       </td><td>prog_sox2             </td><td>-23.483145</td><td>-17.51581431</td><td>1</td><td>0</td><td>stg5diff1_S5d0_b1</td><td>AGGCAACG-AAGCGTAC   </td></tr>\n",
       "\t<tr><th scope=row>stg5diff1_S5d0_b1.bcDAND</th><td>fev_high_isl_low</td><td>fev_high_isl_low__day0</td><td>  6.776112</td><td> 29.83986815</td><td>1</td><td>0</td><td>stg5diff1_S5d0_b1</td><td>GAATGGAAAT-AGCGAAGT </td></tr>\n",
       "\t<tr><th scope=row>stg5diff1_S5d0_b1.bcGQEK</th><td>prog_sox2       </td><td>prog_sox2             </td><td>-27.248994</td><td>-14.21536773</td><td>1</td><td>0</td><td>stg5diff1_S5d0_b1</td><td>TGAGGTCTGAC-TCTCACTT</td></tr>\n",
       "\t<tr><th scope=row>stg5diff1_S5d0_b1.bcFOEC</th><td>prog_sox2       </td><td>prog_sox2             </td><td>-30.845154</td><td> -7.47394697</td><td>1</td><td>0</td><td>stg5diff1_S5d0_b1</td><td>ACTGAGTGC-AAGCGTAC  </td></tr>\n",
       "\t<tr><th scope=row>stg5diff1_S5d0_b1.bcAVAX</th><td>prog_sox2       </td><td>prog_sox2             </td><td> -7.391701</td><td>-16.01483610</td><td>1</td><td>0</td><td>stg5diff1_S5d0_b1</td><td>AGATGTATT-ATGACTTT  </td></tr>\n",
       "\t<tr><th scope=row>stg5diff1_S5d0_b1.bcFEDZ</th><td>prog_nkx61      </td><td>prog_nkx61            </td><td>-28.494072</td><td> -0.05024911</td><td>1</td><td>0</td><td>stg5diff1_S5d0_b1</td><td>TTTGTGTC-GTCGTCGT   </td></tr>\n",
       "</tbody>\n",
       "</table>\n"
      ],
      "text/latex": [
       "A data.frame: 6 × 8\n",
       "\\begin{tabular}{r|llllllll}\n",
       "  & Assigned\\_cluster & Assigned\\_subcluster & tSNE\\_dim1 & tSNE\\_dim2 & Differentiation & CellWeek & Lib\\_prep\\_batch & Indrops\\_barcode\\_sequence\\\\\n",
       "  & <fct> & <fct> & <dbl> & <dbl> & <int> & <int> & <fct> & <fct>\\\\\n",
       "\\hline\n",
       "\tstg5diff1\\_S5d0\\_b1.bcEKBI & prog\\_sox2        & prog\\_sox2              & -23.483145 & -17.51581431 & 1 & 0 & stg5diff1\\_S5d0\\_b1 & AGGCAACG-AAGCGTAC   \\\\\n",
       "\tstg5diff1\\_S5d0\\_b1.bcDAND & fev\\_high\\_isl\\_low & fev\\_high\\_isl\\_low\\_\\_day0 &   6.776112 &  29.83986815 & 1 & 0 & stg5diff1\\_S5d0\\_b1 & GAATGGAAAT-AGCGAAGT \\\\\n",
       "\tstg5diff1\\_S5d0\\_b1.bcGQEK & prog\\_sox2        & prog\\_sox2              & -27.248994 & -14.21536773 & 1 & 0 & stg5diff1\\_S5d0\\_b1 & TGAGGTCTGAC-TCTCACTT\\\\\n",
       "\tstg5diff1\\_S5d0\\_b1.bcFOEC & prog\\_sox2        & prog\\_sox2              & -30.845154 &  -7.47394697 & 1 & 0 & stg5diff1\\_S5d0\\_b1 & ACTGAGTGC-AAGCGTAC  \\\\\n",
       "\tstg5diff1\\_S5d0\\_b1.bcAVAX & prog\\_sox2        & prog\\_sox2              &  -7.391701 & -16.01483610 & 1 & 0 & stg5diff1\\_S5d0\\_b1 & AGATGTATT-ATGACTTT  \\\\\n",
       "\tstg5diff1\\_S5d0\\_b1.bcFEDZ & prog\\_nkx61       & prog\\_nkx61             & -28.494072 &  -0.05024911 & 1 & 0 & stg5diff1\\_S5d0\\_b1 & TTTGTGTC-GTCGTCGT   \\\\\n",
       "\\end{tabular}\n"
      ],
      "text/markdown": [
       "\n",
       "A data.frame: 6 × 8\n",
       "\n",
       "| <!--/--> | Assigned_cluster &lt;fct&gt; | Assigned_subcluster &lt;fct&gt; | tSNE_dim1 &lt;dbl&gt; | tSNE_dim2 &lt;dbl&gt; | Differentiation &lt;int&gt; | CellWeek &lt;int&gt; | Lib_prep_batch &lt;fct&gt; | Indrops_barcode_sequence &lt;fct&gt; |\n",
       "|---|---|---|---|---|---|---|---|---|\n",
       "| stg5diff1_S5d0_b1.bcEKBI | prog_sox2        | prog_sox2              | -23.483145 | -17.51581431 | 1 | 0 | stg5diff1_S5d0_b1 | AGGCAACG-AAGCGTAC    |\n",
       "| stg5diff1_S5d0_b1.bcDAND | fev_high_isl_low | fev_high_isl_low__day0 |   6.776112 |  29.83986815 | 1 | 0 | stg5diff1_S5d0_b1 | GAATGGAAAT-AGCGAAGT  |\n",
       "| stg5diff1_S5d0_b1.bcGQEK | prog_sox2        | prog_sox2              | -27.248994 | -14.21536773 | 1 | 0 | stg5diff1_S5d0_b1 | TGAGGTCTGAC-TCTCACTT |\n",
       "| stg5diff1_S5d0_b1.bcFOEC | prog_sox2        | prog_sox2              | -30.845154 |  -7.47394697 | 1 | 0 | stg5diff1_S5d0_b1 | ACTGAGTGC-AAGCGTAC   |\n",
       "| stg5diff1_S5d0_b1.bcAVAX | prog_sox2        | prog_sox2              |  -7.391701 | -16.01483610 | 1 | 0 | stg5diff1_S5d0_b1 | AGATGTATT-ATGACTTT   |\n",
       "| stg5diff1_S5d0_b1.bcFEDZ | prog_nkx61       | prog_nkx61             | -28.494072 |  -0.05024911 | 1 | 0 | stg5diff1_S5d0_b1 | TTTGTGTC-GTCGTCGT    |\n",
       "\n"
      ],
      "text/plain": [
       "                         Assigned_cluster Assigned_subcluster    tSNE_dim1 \n",
       "stg5diff1_S5d0_b1.bcEKBI prog_sox2        prog_sox2              -23.483145\n",
       "stg5diff1_S5d0_b1.bcDAND fev_high_isl_low fev_high_isl_low__day0   6.776112\n",
       "stg5diff1_S5d0_b1.bcGQEK prog_sox2        prog_sox2              -27.248994\n",
       "stg5diff1_S5d0_b1.bcFOEC prog_sox2        prog_sox2              -30.845154\n",
       "stg5diff1_S5d0_b1.bcAVAX prog_sox2        prog_sox2               -7.391701\n",
       "stg5diff1_S5d0_b1.bcFEDZ prog_nkx61       prog_nkx61             -28.494072\n",
       "                         tSNE_dim2    Differentiation CellWeek\n",
       "stg5diff1_S5d0_b1.bcEKBI -17.51581431 1               0       \n",
       "stg5diff1_S5d0_b1.bcDAND  29.83986815 1               0       \n",
       "stg5diff1_S5d0_b1.bcGQEK -14.21536773 1               0       \n",
       "stg5diff1_S5d0_b1.bcFOEC  -7.47394697 1               0       \n",
       "stg5diff1_S5d0_b1.bcAVAX -16.01483610 1               0       \n",
       "stg5diff1_S5d0_b1.bcFEDZ  -0.05024911 1               0       \n",
       "                         Lib_prep_batch    Indrops_barcode_sequence\n",
       "stg5diff1_S5d0_b1.bcEKBI stg5diff1_S5d0_b1 AGGCAACG-AAGCGTAC       \n",
       "stg5diff1_S5d0_b1.bcDAND stg5diff1_S5d0_b1 GAATGGAAAT-AGCGAAGT     \n",
       "stg5diff1_S5d0_b1.bcGQEK stg5diff1_S5d0_b1 TGAGGTCTGAC-TCTCACTT    \n",
       "stg5diff1_S5d0_b1.bcFOEC stg5diff1_S5d0_b1 ACTGAGTGC-AAGCGTAC      \n",
       "stg5diff1_S5d0_b1.bcAVAX stg5diff1_S5d0_b1 AGATGTATT-ATGACTTT      \n",
       "stg5diff1_S5d0_b1.bcFEDZ stg5diff1_S5d0_b1 TTTGTGTC-GTCGTCGT       "
      ]
     },
     "metadata": {},
     "output_type": "display_data"
    }
   ],
   "source": [
    "meta.data <- read.table(\"../data/Veres2019/GSE114412_Stage_5.all.cell_metadata.tsv.gz\", header = T, row.names = 1)\n",
    "head(meta.data)"
   ]
  },
  {
   "cell_type": "code",
   "execution_count": 17,
   "metadata": {},
   "outputs": [
    {
     "data": {
      "text/html": [
       "<style>\n",
       ".list-inline {list-style: none; margin:0; padding: 0}\n",
       ".list-inline>li {display: inline-block}\n",
       ".list-inline>li:not(:last-child)::after {content: \"\\00b7\"; padding: 0 .5ex}\n",
       "</style>\n",
       "<ol class=list-inline><li>51274</li><li>8</li></ol>\n"
      ],
      "text/latex": [
       "\\begin{enumerate*}\n",
       "\\item 51274\n",
       "\\item 8\n",
       "\\end{enumerate*}\n"
      ],
      "text/markdown": [
       "1. 51274\n",
       "2. 8\n",
       "\n",
       "\n"
      ],
      "text/plain": [
       "[1] 51274     8"
      ]
     },
     "metadata": {},
     "output_type": "display_data"
    }
   ],
   "source": [
    "dim(meta.data)"
   ]
  },
  {
   "cell_type": "code",
   "execution_count": 18,
   "metadata": {},
   "outputs": [],
   "source": [
    "raw.cts <- read.table(\"../data/Veres2019/GSE114412_Stage_5.all.processed_counts.tsv.gz\", \n",
    "    sep = \"\\t\", header = T, comment.char = \"\", row.names = 1)"
   ]
  },
  {
   "cell_type": "code",
   "execution_count": 23,
   "metadata": {},
   "outputs": [
    {
     "data": {
      "text/html": [
       "<style>\n",
       ".list-inline {list-style: none; margin:0; padding: 0}\n",
       ".list-inline>li {display: inline-block}\n",
       ".list-inline>li:not(:last-child)::after {content: \"\\00b7\"; padding: 0 .5ex}\n",
       "</style>\n",
       "<ol class=list-inline><li>51274</li><li>16224</li></ol>\n"
      ],
      "text/latex": [
       "\\begin{enumerate*}\n",
       "\\item 51274\n",
       "\\item 16224\n",
       "\\end{enumerate*}\n"
      ],
      "text/markdown": [
       "1. 51274\n",
       "2. 16224\n",
       "\n",
       "\n"
      ],
      "text/plain": [
       "[1] 51274 16224"
      ]
     },
     "metadata": {},
     "output_type": "display_data"
    }
   ],
   "source": [
    "dim(raw.cts)"
   ]
  },
  {
   "cell_type": "markdown",
   "metadata": {},
   "source": [
    "Create Seurat object\n",
    "\n",
    "Note that a gene is valid if it is observed in at least 10 cells. Cell-cycle genes are also excluded from the PCA calculation, but we might actually expect that to contain useful information for estimating cell proliferation rates. For now, retain all genes observed in at least 10 cells"
   ]
  },
  {
   "cell_type": "code",
   "execution_count": 22,
   "metadata": {},
   "outputs": [
    {
     "name": "stderr",
     "output_type": "stream",
     "text": [
      "Warning message:\n",
      "“Feature names cannot have underscores ('_'), replacing with dashes ('-')”\n"
     ]
    },
    {
     "data": {
      "text/plain": [
       "An object of class Seurat \n",
       "16066 features across 51274 samples within 1 assay \n",
       "Active assay: RNA (16066 features, 0 variable features)"
      ]
     },
     "metadata": {},
     "output_type": "display_data"
    }
   ],
   "source": [
    "sc <- CreateSeuratObject(counts = t(raw.cts), meta.data = meta.data, min.cells = 10)\n",
    "sc"
   ]
  },
  {
   "cell_type": "markdown",
   "metadata": {},
   "source": [
    "Normalize data"
   ]
  },
  {
   "cell_type": "code",
   "execution_count": 24,
   "metadata": {},
   "outputs": [
    {
     "data": {
      "text/plain": [
       "An object of class Seurat \n",
       "16066 features across 51274 samples within 1 assay \n",
       "Active assay: RNA (16066 features, 0 variable features)"
      ]
     },
     "metadata": {},
     "output_type": "display_data"
    }
   ],
   "source": [
    "sc <- NormalizeData(object = sc)\n",
    "sc"
   ]
  },
  {
   "cell_type": "markdown",
   "metadata": {},
   "source": [
    "Select top 2500 highly variable genes"
   ]
  },
  {
   "cell_type": "code",
   "execution_count": 30,
   "metadata": {},
   "outputs": [
    {
     "data": {
      "text/plain": [
       "An object of class Seurat \n",
       "16066 features across 51274 samples within 1 assay \n",
       "Active assay: RNA (16066 features, 2500 variable features)"
      ]
     },
     "metadata": {},
     "output_type": "display_data"
    }
   ],
   "source": [
    "sc <- FindVariableFeatures(object = sc, nfeatures = 2500)\n",
    "sc"
   ]
  },
  {
   "cell_type": "markdown",
   "metadata": {},
   "source": [
    "Scale the data for these features"
   ]
  },
  {
   "cell_type": "code",
   "execution_count": 32,
   "metadata": {},
   "outputs": [
    {
     "name": "stderr",
     "output_type": "stream",
     "text": [
      "Centering and scaling data matrix\n",
      "\n"
     ]
    },
    {
     "data": {
      "text/plain": [
       "An object of class Seurat \n",
       "16066 features across 51274 samples within 1 assay \n",
       "Active assay: RNA (16066 features, 2500 variable features)"
      ]
     },
     "metadata": {},
     "output_type": "display_data"
    }
   ],
   "source": [
    "sc <- ScaleData(sc, features = VariableFeatures(sc))\n",
    "sc"
   ]
  },
  {
   "cell_type": "markdown",
   "metadata": {},
   "source": [
    "Hand off downstream preprocessing to python \n",
    "\n",
    "Save normalized, unscaled data for top 2500 highly variable genes"
   ]
  },
  {
   "cell_type": "code",
   "execution_count": 43,
   "metadata": {},
   "outputs": [],
   "source": [
    "write.csv(t(as.matrix(sc[['RNA']]@data[VariableFeatures(sc),])), file = \"../data/Veres2019/Stage_5.Seurat.csv\")"
   ]
  },
  {
   "cell_type": "code",
   "execution_count": null,
   "metadata": {},
   "outputs": [],
   "source": []
  }
 ],
 "metadata": {
  "kernelspec": {
   "display_name": "r3.6.2",
   "language": "R",
   "name": "ir3.6.2"
  },
  "language_info": {
   "codemirror_mode": "r",
   "file_extension": ".r",
   "mimetype": "text/x-r-source",
   "name": "R",
   "pygments_lexer": "r",
   "version": "3.6.2"
  }
 },
 "nbformat": 4,
 "nbformat_minor": 4
}
