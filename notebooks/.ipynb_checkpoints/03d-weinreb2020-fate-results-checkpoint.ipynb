{
 "cells": [
  {
   "cell_type": "code",
   "execution_count": 1,
   "metadata": {},
   "outputs": [],
   "source": [
    "import pandas as pd\n",
    "import numpy as np\n",
    "import scipy.stats\n",
    "import sklearn.metrics\n",
    "\n",
    "\n",
    "import matplotlib.pyplot as plt\n",
    "import seaborn as sns\n",
    "\n",
    "import glob\n",
    "import os\n",
    "\n",
    "\n",
    "import torch\n",
    "\n",
    "from types import SimpleNamespace"
   ]
  },
  {
   "cell_type": "code",
   "execution_count": 2,
   "metadata": {},
   "outputs": [],
   "source": [
    "sns.set_context('talk')"
   ]
  },
  {
   "cell_type": "markdown",
   "metadata": {},
   "source": [
    "# Load predictions"
   ]
  },
  {
   "cell_type": "code",
   "execution_count": 3,
   "metadata": {},
   "outputs": [],
   "source": [
    "data_pt = torch.load(\"../data/Weinreb2020_fate/fate_test.pt\")\n",
    "x = data_pt['x']\n",
    "y = data_pt['y']\n",
    "t = data_pt['t']"
   ]
  },
  {
   "cell_type": "code",
   "execution_count": 4,
   "metadata": {},
   "outputs": [
    {
     "data": {
      "text/plain": [
       "335"
      ]
     },
     "execution_count": 4,
     "metadata": {},
     "output_type": "execute_result"
    }
   ],
   "source": [
    "len(y)"
   ]
  },
  {
   "cell_type": "markdown",
   "metadata": {},
   "source": [
    "## Ensemble predictions over last 5 evaluated epochs"
   ]
  },
  {
   "cell_type": "code",
   "execution_count": 5,
   "metadata": {},
   "outputs": [],
   "source": [
    "weights = ['none', 'kegg', 'd26']\n",
    "\n",
    "results = []\n",
    "\n",
    "for weight in weights:\n",
    "\n",
    "    base_dir = \"../experiments/weinreb-fate-train_batch-0.1/{}-softplus_2_400-1e-06/\".format(weight)\n",
    "\n",
    "    for seed in range(1, 5+1): \n",
    "        \n",
    "        config_path = os.path.join(base_dir, 'seed_{}/config.pt'.format(seed))\n",
    "        config = SimpleNamespace(**torch.load(config_path))\n",
    "\n",
    "        fate_pt = torch.load(\"../\" + os.path.join(config.out_dir, 'fate.pt'))\n",
    "        scores = fate_pt['scores']\n",
    "        mask = fate_pt['mask']\n",
    "        names = fate_pt['names']\n",
    "\n",
    "        ensembled_scores = np.stack(scores[-5:], axis = 0).mean(axis = 0)\n",
    "\n",
    "        last_r = scipy.stats.pearsonr(scores[-1], y)[0]\n",
    "        ensembled_r = scipy.stats.pearsonr(ensembled_scores, y)[0]\n",
    "\n",
    "        last_auroc = sklearn.metrics.roc_auc_score(y > 0.5, scores[-1])\n",
    "        ensembled_auroc = sklearn.metrics.roc_auc_score(y > 0.5, ensembled_scores)\n",
    "\n",
    "        # number of cells for which at least a monocyte or neutrophil was sampled\n",
    "        n = np.array(mask[-5:]).any(axis = 0).sum() / len(y)\n",
    "        \n",
    "        results.append((weight, seed, ensembled_r, ensembled_auroc, n))\n",
    "    \n",
    "results = pd.DataFrame(results, columns = ['weight', 'seed', 'r', 'auroc', 'n'])"
   ]
  },
  {
   "cell_type": "code",
   "execution_count": 6,
   "metadata": {},
   "outputs": [
    {
     "data": {
      "text/html": [
       "<div>\n",
       "<style scoped>\n",
       "    .dataframe tbody tr th:only-of-type {\n",
       "        vertical-align: middle;\n",
       "    }\n",
       "\n",
       "    .dataframe tbody tr th {\n",
       "        vertical-align: top;\n",
       "    }\n",
       "\n",
       "    .dataframe thead tr th {\n",
       "        text-align: left;\n",
       "    }\n",
       "\n",
       "    .dataframe thead tr:last-of-type th {\n",
       "        text-align: right;\n",
       "    }\n",
       "</style>\n",
       "<table border=\"1\" class=\"dataframe\">\n",
       "  <thead>\n",
       "    <tr>\n",
       "      <th></th>\n",
       "      <th colspan=\"2\" halign=\"left\">r</th>\n",
       "      <th colspan=\"2\" halign=\"left\">auroc</th>\n",
       "      <th colspan=\"2\" halign=\"left\">n</th>\n",
       "    </tr>\n",
       "    <tr>\n",
       "      <th></th>\n",
       "      <th>mean</th>\n",
       "      <th>std</th>\n",
       "      <th>mean</th>\n",
       "      <th>std</th>\n",
       "      <th>mean</th>\n",
       "      <th>std</th>\n",
       "    </tr>\n",
       "    <tr>\n",
       "      <th>weight</th>\n",
       "      <th></th>\n",
       "      <th></th>\n",
       "      <th></th>\n",
       "      <th></th>\n",
       "      <th></th>\n",
       "      <th></th>\n",
       "    </tr>\n",
       "  </thead>\n",
       "  <tbody>\n",
       "    <tr>\n",
       "      <th>d26</th>\n",
       "      <td>0.346567</td>\n",
       "      <td>0.029348</td>\n",
       "      <td>0.691953</td>\n",
       "      <td>0.011729</td>\n",
       "      <td>0.685970</td>\n",
       "      <td>0.010211</td>\n",
       "    </tr>\n",
       "    <tr>\n",
       "      <th>kegg</th>\n",
       "      <td>0.399128</td>\n",
       "      <td>0.025074</td>\n",
       "      <td>0.724548</td>\n",
       "      <td>0.007975</td>\n",
       "      <td>0.737313</td>\n",
       "      <td>0.011367</td>\n",
       "    </tr>\n",
       "    <tr>\n",
       "      <th>none</th>\n",
       "      <td>0.195667</td>\n",
       "      <td>0.019550</td>\n",
       "      <td>0.601240</td>\n",
       "      <td>0.006470</td>\n",
       "      <td>0.466866</td>\n",
       "      <td>0.038029</td>\n",
       "    </tr>\n",
       "  </tbody>\n",
       "</table>\n",
       "</div>"
      ],
      "text/plain": [
       "               r               auroc                   n          \n",
       "            mean       std      mean       std      mean       std\n",
       "weight                                                            \n",
       "d26     0.346567  0.029348  0.691953  0.011729  0.685970  0.010211\n",
       "kegg    0.399128  0.025074  0.724548  0.007975  0.737313  0.011367\n",
       "none    0.195667  0.019550  0.601240  0.006470  0.466866  0.038029"
      ]
     },
     "execution_count": 6,
     "metadata": {},
     "output_type": "execute_result"
    }
   ],
   "source": [
    "results.groupby('weight')[['r', 'auroc', 'n']].describe().loc[:, pd.IndexSlice[:,['mean', 'std']]]"
   ]
  },
  {
   "cell_type": "code",
   "execution_count": 7,
   "metadata": {},
   "outputs": [],
   "source": [
    "weights = ['all_none', 'all_kegg']\n",
    "\n",
    "all_results = []\n",
    "\n",
    "for weight in weights:\n",
    "\n",
    "    base_dir = \"../experiments/weinreb-fate-train_batch-0.1/{}-softplus_2_400-1e-06/\".format(weight)\n",
    "\n",
    "    for seed in range(1, 5+1): \n",
    "        \n",
    "        config_path = os.path.join(base_dir, 'seed_{}/config.pt'.format(seed))\n",
    "        config = SimpleNamespace(**torch.load(config_path))\n",
    "\n",
    "        fate_pt = torch.load(\"../\" + os.path.join(config.out_dir, 'fate.pt'))\n",
    "        scores = fate_pt['scores']\n",
    "        mask = fate_pt['mask']\n",
    "        names = fate_pt['names']\n",
    "\n",
    "        ensembled_scores = np.stack(scores[-5:], axis = 0).mean(axis = 0)\n",
    "\n",
    "        last_r = scipy.stats.pearsonr(scores[-1], y)[0]\n",
    "        ensembled_r = scipy.stats.pearsonr(ensembled_scores, y)[0]\n",
    "\n",
    "        last_auroc = sklearn.metrics.roc_auc_score(y > 0.5, scores[-1])\n",
    "        ensembled_auroc = sklearn.metrics.roc_auc_score(y > 0.5, ensembled_scores)\n",
    "\n",
    "        # number of cells for which at least a monocyte or neutrophil was sampled\n",
    "        n = np.array(mask[-5:]).any(axis = 0).sum() / len(y)\n",
    "        \n",
    "        all_results.append((weight, seed, ensembled_r, ensembled_auroc, n))\n",
    "    \n",
    "all_results = pd.DataFrame(all_results, columns = ['weight', 'seed', 'r', 'auroc', 'n'])"
   ]
  },
  {
   "cell_type": "code",
   "execution_count": 8,
   "metadata": {},
   "outputs": [
    {
     "data": {
      "text/html": [
       "<div>\n",
       "<style scoped>\n",
       "    .dataframe tbody tr th:only-of-type {\n",
       "        vertical-align: middle;\n",
       "    }\n",
       "\n",
       "    .dataframe tbody tr th {\n",
       "        vertical-align: top;\n",
       "    }\n",
       "\n",
       "    .dataframe thead tr th {\n",
       "        text-align: left;\n",
       "    }\n",
       "\n",
       "    .dataframe thead tr:last-of-type th {\n",
       "        text-align: right;\n",
       "    }\n",
       "</style>\n",
       "<table border=\"1\" class=\"dataframe\">\n",
       "  <thead>\n",
       "    <tr>\n",
       "      <th></th>\n",
       "      <th colspan=\"2\" halign=\"left\">r</th>\n",
       "      <th colspan=\"2\" halign=\"left\">auroc</th>\n",
       "      <th colspan=\"2\" halign=\"left\">n</th>\n",
       "    </tr>\n",
       "    <tr>\n",
       "      <th></th>\n",
       "      <th>mean</th>\n",
       "      <th>std</th>\n",
       "      <th>mean</th>\n",
       "      <th>std</th>\n",
       "      <th>mean</th>\n",
       "      <th>std</th>\n",
       "    </tr>\n",
       "    <tr>\n",
       "      <th>weight</th>\n",
       "      <th></th>\n",
       "      <th></th>\n",
       "      <th></th>\n",
       "      <th></th>\n",
       "      <th></th>\n",
       "      <th></th>\n",
       "    </tr>\n",
       "  </thead>\n",
       "  <tbody>\n",
       "    <tr>\n",
       "      <th>all_kegg</th>\n",
       "      <td>0.391469</td>\n",
       "      <td>0.034522</td>\n",
       "      <td>0.723462</td>\n",
       "      <td>0.013084</td>\n",
       "      <td>0.807761</td>\n",
       "      <td>0.028756</td>\n",
       "    </tr>\n",
       "    <tr>\n",
       "      <th>all_none</th>\n",
       "      <td>0.080973</td>\n",
       "      <td>0.022326</td>\n",
       "      <td>0.537330</td>\n",
       "      <td>0.012736</td>\n",
       "      <td>0.553433</td>\n",
       "      <td>0.036474</td>\n",
       "    </tr>\n",
       "  </tbody>\n",
       "</table>\n",
       "</div>"
      ],
      "text/plain": [
       "                 r               auroc                   n          \n",
       "              mean       std      mean       std      mean       std\n",
       "weight                                                              \n",
       "all_kegg  0.391469  0.034522  0.723462  0.013084  0.807761  0.028756\n",
       "all_none  0.080973  0.022326  0.537330  0.012736  0.553433  0.036474"
      ]
     },
     "execution_count": 8,
     "metadata": {},
     "output_type": "execute_result"
    }
   ],
   "source": [
    "all_results.groupby('weight')[['r', 'auroc', 'n']].describe().loc[:, pd.IndexSlice[:,['mean', 'std']]]"
   ]
  },
  {
   "cell_type": "code",
   "execution_count": 9,
   "metadata": {},
   "outputs": [
    {
     "data": {
      "text/html": [
       "<div>\n",
       "<style scoped>\n",
       "    .dataframe tbody tr th:only-of-type {\n",
       "        vertical-align: middle;\n",
       "    }\n",
       "\n",
       "    .dataframe tbody tr th {\n",
       "        vertical-align: top;\n",
       "    }\n",
       "\n",
       "    .dataframe thead th {\n",
       "        text-align: right;\n",
       "    }\n",
       "</style>\n",
       "<table border=\"1\" class=\"dataframe\">\n",
       "  <thead>\n",
       "    <tr style=\"text-align: right;\">\n",
       "      <th></th>\n",
       "      <th>weight</th>\n",
       "      <th>seed</th>\n",
       "      <th>r</th>\n",
       "      <th>auroc</th>\n",
       "      <th>n</th>\n",
       "    </tr>\n",
       "  </thead>\n",
       "  <tbody>\n",
       "    <tr>\n",
       "      <th>0</th>\n",
       "      <td>heldout_none</td>\n",
       "      <td>1</td>\n",
       "      <td>-0.020753</td>\n",
       "      <td>0.500143</td>\n",
       "      <td>0.731343</td>\n",
       "    </tr>\n",
       "    <tr>\n",
       "      <th>1</th>\n",
       "      <td>heldout_none</td>\n",
       "      <td>2</td>\n",
       "      <td>0.131841</td>\n",
       "      <td>0.564158</td>\n",
       "      <td>0.695522</td>\n",
       "    </tr>\n",
       "    <tr>\n",
       "      <th>2</th>\n",
       "      <td>heldout_none</td>\n",
       "      <td>3</td>\n",
       "      <td>0.060317</td>\n",
       "      <td>0.534104</td>\n",
       "      <td>0.808955</td>\n",
       "    </tr>\n",
       "    <tr>\n",
       "      <th>3</th>\n",
       "      <td>heldout_none</td>\n",
       "      <td>4</td>\n",
       "      <td>-0.005599</td>\n",
       "      <td>0.492724</td>\n",
       "      <td>0.740299</td>\n",
       "    </tr>\n",
       "    <tr>\n",
       "      <th>4</th>\n",
       "      <td>heldout_none</td>\n",
       "      <td>5</td>\n",
       "      <td>0.009792</td>\n",
       "      <td>0.483728</td>\n",
       "      <td>0.689552</td>\n",
       "    </tr>\n",
       "    <tr>\n",
       "      <th>5</th>\n",
       "      <td>heldout_kegg</td>\n",
       "      <td>1</td>\n",
       "      <td>0.405971</td>\n",
       "      <td>0.717849</td>\n",
       "      <td>0.859701</td>\n",
       "    </tr>\n",
       "    <tr>\n",
       "      <th>6</th>\n",
       "      <td>heldout_kegg</td>\n",
       "      <td>2</td>\n",
       "      <td>0.411239</td>\n",
       "      <td>0.744534</td>\n",
       "      <td>0.829851</td>\n",
       "    </tr>\n",
       "    <tr>\n",
       "      <th>7</th>\n",
       "      <td>heldout_kegg</td>\n",
       "      <td>3</td>\n",
       "      <td>0.378025</td>\n",
       "      <td>0.714014</td>\n",
       "      <td>0.823881</td>\n",
       "    </tr>\n",
       "    <tr>\n",
       "      <th>8</th>\n",
       "      <td>heldout_kegg</td>\n",
       "      <td>4</td>\n",
       "      <td>0.431029</td>\n",
       "      <td>0.740663</td>\n",
       "      <td>0.835821</td>\n",
       "    </tr>\n",
       "    <tr>\n",
       "      <th>9</th>\n",
       "      <td>heldout_kegg</td>\n",
       "      <td>5</td>\n",
       "      <td>0.408559</td>\n",
       "      <td>0.720125</td>\n",
       "      <td>0.811940</td>\n",
       "    </tr>\n",
       "  </tbody>\n",
       "</table>\n",
       "</div>"
      ],
      "text/plain": [
       "         weight  seed         r     auroc         n\n",
       "0  heldout_none     1 -0.020753  0.500143  0.731343\n",
       "1  heldout_none     2  0.131841  0.564158  0.695522\n",
       "2  heldout_none     3  0.060317  0.534104  0.808955\n",
       "3  heldout_none     4 -0.005599  0.492724  0.740299\n",
       "4  heldout_none     5  0.009792  0.483728  0.689552\n",
       "5  heldout_kegg     1  0.405971  0.717849  0.859701\n",
       "6  heldout_kegg     2  0.411239  0.744534  0.829851\n",
       "7  heldout_kegg     3  0.378025  0.714014  0.823881\n",
       "8  heldout_kegg     4  0.431029  0.740663  0.835821\n",
       "9  heldout_kegg     5  0.408559  0.720125  0.811940"
      ]
     },
     "execution_count": 9,
     "metadata": {},
     "output_type": "execute_result"
    }
   ],
   "source": [
    "weights = ['heldout_none', 'heldout_kegg']\n",
    "\n",
    "heldout_results = []\n",
    "\n",
    "for weight in weights:\n",
    "\n",
    "    base_dir = \"../experiments/weinreb-fate-train_batch-0.1/{}-softplus_2_400-1e-06/\".format(weight)\n",
    "\n",
    "    for seed in range(1, 5+1): \n",
    "        \n",
    "        config_path = os.path.join(base_dir, 'seed_{}/config.pt'.format(seed))\n",
    "        config = SimpleNamespace(**torch.load(config_path))\n",
    "\n",
    "        fate_pt = torch.load(\"../\" + os.path.join(config.out_dir, 'fate.pt'))\n",
    "        scores = fate_pt['scores']\n",
    "        mask = fate_pt['mask']\n",
    "        names = fate_pt['names']\n",
    "\n",
    "        ensembled_scores = np.stack(scores[-5:], axis = 0).mean(axis = 0)\n",
    "\n",
    "        last_r = scipy.stats.pearsonr(scores[-1], y)[0]\n",
    "        ensembled_r = scipy.stats.pearsonr(ensembled_scores, y)[0]\n",
    "\n",
    "        last_auroc = sklearn.metrics.roc_auc_score(y > 0.5, scores[-1])\n",
    "        ensembled_auroc = sklearn.metrics.roc_auc_score(y > 0.5, ensembled_scores)\n",
    "\n",
    "        # number of cells for which at least a monocyte or neutrophil was sampled\n",
    "        n = np.array(mask[-5:]).any(axis = 0).sum() / len(y)\n",
    "        \n",
    "        heldout_results.append((weight, seed, ensembled_r, ensembled_auroc, n))\n",
    "    \n",
    "heldout_results = pd.DataFrame(heldout_results, columns = ['weight', 'seed', 'r', 'auroc', 'n'])\n",
    "heldout_results"
   ]
  },
  {
   "cell_type": "code",
   "execution_count": 10,
   "metadata": {},
   "outputs": [
    {
     "data": {
      "text/html": [
       "<div>\n",
       "<style scoped>\n",
       "    .dataframe tbody tr th:only-of-type {\n",
       "        vertical-align: middle;\n",
       "    }\n",
       "\n",
       "    .dataframe tbody tr th {\n",
       "        vertical-align: top;\n",
       "    }\n",
       "\n",
       "    .dataframe thead tr th {\n",
       "        text-align: left;\n",
       "    }\n",
       "\n",
       "    .dataframe thead tr:last-of-type th {\n",
       "        text-align: right;\n",
       "    }\n",
       "</style>\n",
       "<table border=\"1\" class=\"dataframe\">\n",
       "  <thead>\n",
       "    <tr>\n",
       "      <th></th>\n",
       "      <th colspan=\"2\" halign=\"left\">r</th>\n",
       "      <th colspan=\"2\" halign=\"left\">auroc</th>\n",
       "      <th colspan=\"2\" halign=\"left\">n</th>\n",
       "    </tr>\n",
       "    <tr>\n",
       "      <th></th>\n",
       "      <th>mean</th>\n",
       "      <th>std</th>\n",
       "      <th>mean</th>\n",
       "      <th>std</th>\n",
       "      <th>mean</th>\n",
       "      <th>std</th>\n",
       "    </tr>\n",
       "    <tr>\n",
       "      <th>weight</th>\n",
       "      <th></th>\n",
       "      <th></th>\n",
       "      <th></th>\n",
       "      <th></th>\n",
       "      <th></th>\n",
       "      <th></th>\n",
       "    </tr>\n",
       "  </thead>\n",
       "  <tbody>\n",
       "    <tr>\n",
       "      <th>heldout_kegg</th>\n",
       "      <td>0.406965</td>\n",
       "      <td>0.018963</td>\n",
       "      <td>0.727437</td>\n",
       "      <td>0.014078</td>\n",
       "      <td>0.832239</td>\n",
       "      <td>0.017710</td>\n",
       "    </tr>\n",
       "    <tr>\n",
       "      <th>heldout_none</th>\n",
       "      <td>0.035120</td>\n",
       "      <td>0.062071</td>\n",
       "      <td>0.514971</td>\n",
       "      <td>0.033453</td>\n",
       "      <td>0.733134</td>\n",
       "      <td>0.047743</td>\n",
       "    </tr>\n",
       "  </tbody>\n",
       "</table>\n",
       "</div>"
      ],
      "text/plain": [
       "                     r               auroc                   n          \n",
       "                  mean       std      mean       std      mean       std\n",
       "weight                                                                  \n",
       "heldout_kegg  0.406965  0.018963  0.727437  0.014078  0.832239  0.017710\n",
       "heldout_none  0.035120  0.062071  0.514971  0.033453  0.733134  0.047743"
      ]
     },
     "execution_count": 10,
     "metadata": {},
     "output_type": "execute_result"
    }
   ],
   "source": [
    "heldout_results.groupby('weight')[['r', 'auroc', 'n']].describe().loc[:, pd.IndexSlice[:,['mean', 'std']]]"
   ]
  },
  {
   "cell_type": "markdown",
   "metadata": {},
   "source": [
    "# Other methods"
   ]
  },
  {
   "cell_type": "code",
   "execution_count": 11,
   "metadata": {},
   "outputs": [],
   "source": [
    "base_dir = \"../ext/klein_Figure5_data_and_code/\"\n",
    "\n",
    "timepoints = np.load(base_dir + 'timepoints.npy')\n",
    "neu_mo_mask = np.load(base_dir + 'neutrophil_monocyte_trajectory_mask.npy')\n",
    "clonal_fate_matrix = np.load(base_dir + 'clonal_fate_matrix.npy')\n",
    "\n",
    "PBA_predictions = np.load(base_dir + 'PBA_predictions.npy')\n",
    "FateID_predictions = np.load(base_dir + 'FateID_predictions.npy')\n",
    "WOT_predictions = np.load(base_dir + 'WOT_predictions.npy')\n",
    "\n",
    "early_cells = np.load(base_dir + 'early_cells.npy')\n",
    "heldout_mask = np.load(base_dir + 'heldout_mask.npy')\n",
    "\n",
    "smoothed_groundtruth = np.load(base_dir + 'smoothed_groundtruth_from_heldout.npy')\n",
    "\n",
    "has_fate_mask = np.all([clonal_fate_matrix[:,5:7].sum(1) > 0, neu_mo_mask[timepoints==2]],axis=0)\n",
    "neu_vs_mo_percent = clonal_fate_matrix[has_fate_mask,5] / clonal_fate_matrix[has_fate_mask,5:7].sum(1)\n",
    "\n",
    "heldout_mask_for_early_cells = (~heldout_mask)[early_cells[neu_mo_mask[timepoints==2]]]\n",
    "\n",
    "predictions = []\n",
    "predictions.append(smoothed_groundtruth[np.all([early_cells[neu_mo_mask[timepoints==2]], ~heldout_mask],axis=0)])\n",
    "\n",
    "predictions.append(PBA_predictions[early_cells[neu_mo_mask[timepoints==2]]][heldout_mask_for_early_cells])\n",
    "predictions.append(WOT_predictions[early_cells[neu_mo_mask[timepoints==2]]][heldout_mask_for_early_cells])\n",
    "predictions.append(FateID_predictions[early_cells[neu_mo_mask[timepoints==2]]][heldout_mask_for_early_cells])\n",
    "\n",
    "clonal_data_no_heldout = neu_vs_mo_percent[np.all([early_cells[neu_mo_mask[timepoints==2]], ~heldout_mask],axis=0)[has_fate_mask[neu_mo_mask[timepoints==2]]]]\n",
    "\n",
    "has_fate_mask_for_early_heldout = has_fate_mask[np.all([neu_mo_mask[timepoints==2],early_cells],axis=0)][heldout_mask_for_early_cells]\n",
    "predictions_filtered = [pred[has_fate_mask_for_early_heldout] for pred in predictions]"
   ]
  },
  {
   "cell_type": "code",
   "execution_count": 12,
   "metadata": {},
   "outputs": [
    {
     "data": {
      "text/plain": [
       "[0.4854376418485752,\n",
       " 0.16236666411029577,\n",
       " 0.14998934146818402,\n",
       " 0.225213954456998]"
      ]
     },
     "execution_count": 12,
     "metadata": {},
     "output_type": "execute_result"
    }
   ],
   "source": [
    "other_r = [scipy.stats.pearsonr(p, clonal_data_no_heldout)[0] for p in predictions_filtered]\n",
    "other_r"
   ]
  },
  {
   "cell_type": "code",
   "execution_count": 13,
   "metadata": {},
   "outputs": [
    {
     "data": {
      "text/plain": [
       "[0.7713082437275985, 0.5389247311827957, 0.599068100358423, 0.6020430107526882]"
      ]
     },
     "execution_count": 13,
     "metadata": {},
     "output_type": "execute_result"
    }
   ],
   "source": [
    "other_auroc = [sklearn.metrics.roc_auc_score(clonal_data_no_heldout > 0.5, p) for p in predictions_filtered]\n",
    "other_auroc"
   ]
  },
  {
   "cell_type": "markdown",
   "metadata": {},
   "source": [
    "# Plot"
   ]
  },
  {
   "cell_type": "markdown",
   "metadata": {},
   "source": [
    "## r"
   ]
  },
  {
   "cell_type": "code",
   "execution_count": 14,
   "metadata": {},
   "outputs": [],
   "source": [
    "sns.set_style(\"ticks\")"
   ]
  },
  {
   "cell_type": "code",
   "execution_count": 15,
   "metadata": {},
   "outputs": [
    {
     "data": {
      "text/html": [
       "<div>\n",
       "<style scoped>\n",
       "    .dataframe tbody tr th:only-of-type {\n",
       "        vertical-align: middle;\n",
       "    }\n",
       "\n",
       "    .dataframe tbody tr th {\n",
       "        vertical-align: top;\n",
       "    }\n",
       "\n",
       "    .dataframe thead th {\n",
       "        text-align: right;\n",
       "    }\n",
       "</style>\n",
       "<table border=\"1\" class=\"dataframe\">\n",
       "  <thead>\n",
       "    <tr style=\"text-align: right;\">\n",
       "      <th></th>\n",
       "      <th>weight</th>\n",
       "      <th>seed</th>\n",
       "      <th>r</th>\n",
       "      <th>auroc</th>\n",
       "      <th>n</th>\n",
       "    </tr>\n",
       "  </thead>\n",
       "  <tbody>\n",
       "    <tr>\n",
       "      <th>0</th>\n",
       "      <td>heldout_none</td>\n",
       "      <td>1</td>\n",
       "      <td>-0.020753</td>\n",
       "      <td>0.500143</td>\n",
       "      <td>0.731343</td>\n",
       "    </tr>\n",
       "    <tr>\n",
       "      <th>1</th>\n",
       "      <td>heldout_none</td>\n",
       "      <td>2</td>\n",
       "      <td>0.131841</td>\n",
       "      <td>0.564158</td>\n",
       "      <td>0.695522</td>\n",
       "    </tr>\n",
       "    <tr>\n",
       "      <th>2</th>\n",
       "      <td>heldout_none</td>\n",
       "      <td>3</td>\n",
       "      <td>0.060317</td>\n",
       "      <td>0.534104</td>\n",
       "      <td>0.808955</td>\n",
       "    </tr>\n",
       "    <tr>\n",
       "      <th>3</th>\n",
       "      <td>heldout_none</td>\n",
       "      <td>4</td>\n",
       "      <td>-0.005599</td>\n",
       "      <td>0.492724</td>\n",
       "      <td>0.740299</td>\n",
       "    </tr>\n",
       "    <tr>\n",
       "      <th>4</th>\n",
       "      <td>heldout_none</td>\n",
       "      <td>5</td>\n",
       "      <td>0.009792</td>\n",
       "      <td>0.483728</td>\n",
       "      <td>0.689552</td>\n",
       "    </tr>\n",
       "    <tr>\n",
       "      <th>5</th>\n",
       "      <td>heldout_kegg</td>\n",
       "      <td>1</td>\n",
       "      <td>0.405971</td>\n",
       "      <td>0.717849</td>\n",
       "      <td>0.859701</td>\n",
       "    </tr>\n",
       "    <tr>\n",
       "      <th>6</th>\n",
       "      <td>heldout_kegg</td>\n",
       "      <td>2</td>\n",
       "      <td>0.411239</td>\n",
       "      <td>0.744534</td>\n",
       "      <td>0.829851</td>\n",
       "    </tr>\n",
       "    <tr>\n",
       "      <th>7</th>\n",
       "      <td>heldout_kegg</td>\n",
       "      <td>3</td>\n",
       "      <td>0.378025</td>\n",
       "      <td>0.714014</td>\n",
       "      <td>0.823881</td>\n",
       "    </tr>\n",
       "    <tr>\n",
       "      <th>8</th>\n",
       "      <td>heldout_kegg</td>\n",
       "      <td>4</td>\n",
       "      <td>0.431029</td>\n",
       "      <td>0.740663</td>\n",
       "      <td>0.835821</td>\n",
       "    </tr>\n",
       "    <tr>\n",
       "      <th>9</th>\n",
       "      <td>heldout_kegg</td>\n",
       "      <td>5</td>\n",
       "      <td>0.408559</td>\n",
       "      <td>0.720125</td>\n",
       "      <td>0.811940</td>\n",
       "    </tr>\n",
       "  </tbody>\n",
       "</table>\n",
       "</div>"
      ],
      "text/plain": [
       "         weight  seed         r     auroc         n\n",
       "0  heldout_none     1 -0.020753  0.500143  0.731343\n",
       "1  heldout_none     2  0.131841  0.564158  0.695522\n",
       "2  heldout_none     3  0.060317  0.534104  0.808955\n",
       "3  heldout_none     4 -0.005599  0.492724  0.740299\n",
       "4  heldout_none     5  0.009792  0.483728  0.689552\n",
       "5  heldout_kegg     1  0.405971  0.717849  0.859701\n",
       "6  heldout_kegg     2  0.411239  0.744534  0.829851\n",
       "7  heldout_kegg     3  0.378025  0.714014  0.823881\n",
       "8  heldout_kegg     4  0.431029  0.740663  0.835821\n",
       "9  heldout_kegg     5  0.408559  0.720125  0.811940"
      ]
     },
     "execution_count": 15,
     "metadata": {},
     "output_type": "execute_result"
    }
   ],
   "source": [
    "heldout_results"
   ]
  },
  {
   "cell_type": "code",
   "execution_count": 19,
   "metadata": {},
   "outputs": [
    {
     "data": {
      "text/plain": [
       "Text(0, 0.5, '')"
      ]
     },
     "execution_count": 19,
     "metadata": {},
     "output_type": "execute_result"
    },
    {
     "data": {
      "image/png": "[encoded data removed]",
      "text/plain": [
       "<Figure size 864x288 with 4 Axes>"
      ]
     },
     "metadata": {},
     "output_type": "display_data"
    }
   ],
   "source": [
    "fig, ax = plt.subplots(1, 4, sharey = True, figsize = (12, 4), \n",
    "    gridspec_kw = {'width_ratios' :[4, 4, 3, 3]})\n",
    "\n",
    "ax[0].scatter([0, 1, 2, 3], other_r, color = 'k')\n",
    "ax[0].set_xlim(-0.5, 3.5)\n",
    "ax[0].set_xticks([0, 1, 2, 3])\n",
    "ax[0].set_xticklabels(['Smoothed\\nclonal fate', 'PBA', 'WOT', 'FateID'], rotation = 90)\n",
    "\n",
    "sns.boxplot(data = results, x = 'weight', y = 'r', ax = ax[1], width = .8, palette = 'Blues', \n",
    "    order = ['none', 'd26', 'kegg'])\n",
    "ax[1].set_xlim(-1, 3)\n",
    "ax[1].set_xticklabels(['None', 'Ground\\ntruth', 'Estimate\\n(KEGG)'], rotation = 90)\n",
    "ax[1].set_xlabel('')\n",
    "ax[1].set_ylabel('')\n",
    "\n",
    "sns.boxplot(data = all_results, x = 'weight', y = 'r', ax = ax[2], width = .8, palette = 'Greens', \n",
    "    order = ['all_none', 'all_kegg'])\n",
    "ax[2].set_xlim(-1, 2)\n",
    "ax[2].set_xticklabels(['None', 'Estimate\\n(KEGG)'], rotation = 90)\n",
    "ax[2].set_xlabel('')\n",
    "ax[2].set_ylabel('')\n",
    "\n",
    "sns.boxplot(data = heldout_results, x = 'weight', y = 'r', ax = ax[3], width = .8, palette = 'Oranges', \n",
    "    order = ['heldout_none', 'heldout_kegg'])\n",
    "ax[3].set_xlim(-1, 2)\n",
    "ax[3].set_xticklabels(['None', 'Estimate\\n(KEGG)'], rotation = 90)\n",
    "ax[3].set_xlabel('')\n",
    "ax[3].set_ylabel('')"
   ]
  },
  {
   "cell_type": "code",
   "execution_count": 28,
   "metadata": {},
   "outputs": [
    {
     "data": {
      "text/plain": [
       "5    0.405971\n",
       "6    0.411239\n",
       "7    0.378025\n",
       "8    0.431029\n",
       "9    0.408559\n",
       "Name: r, dtype: float64"
      ]
     },
     "execution_count": 28,
     "metadata": {},
     "output_type": "execute_result"
    }
   ],
   "source": [
    "heldout_results.loc[heldout_results['weight'] == 'heldout_kegg', 'r']"
   ]
  },
  {
   "cell_type": "code",
   "execution_count": 27,
   "metadata": {},
   "outputs": [
    {
     "data": {
      "text/plain": [
       "5    0.180757\n",
       "6    0.186025\n",
       "7    0.152811\n",
       "8    0.205815\n",
       "9    0.183345\n",
       "Name: r, dtype: float64"
      ]
     },
     "execution_count": 27,
     "metadata": {},
     "output_type": "execute_result"
    }
   ],
   "source": [
    "heldout_results.loc[heldout_results['weight'] == 'heldout_kegg', 'r'] - other_r[-1]"
   ]
  },
  {
   "cell_type": "code",
   "execution_count": 17,
   "metadata": {},
   "outputs": [
    {
     "data": {
      "text/plain": [
       "Text(0, 0.5, '')"
      ]
     },
     "execution_count": 17,
     "metadata": {},
     "output_type": "execute_result"
    },
    {
     "data": {
      "image/png": "[encoded data removed]",
      "text/plain": [
       "<Figure size 864x288 with 4 Axes>"
      ]
     },
     "metadata": {},
     "output_type": "display_data"
    }
   ],
   "source": [
    "fig, ax = plt.subplots(1, 4, sharey = True, figsize = (12, 4), \n",
    "    gridspec_kw = {'width_ratios' :[4, 4, 3, 3]})\n",
    "\n",
    "ax[0].scatter([0, 1, 2, 3], other_auroc, color = 'k')\n",
    "ax[0].set_xlim(-0.5, 3.5)\n",
    "ax[0].set_xticks([0, 1, 2, 3])\n",
    "ax[0].set_xticklabels(['Smoothed\\nclonal fate', 'PBA', 'WOT', 'FateID'], rotation = 90)\n",
    "\n",
    "sns.boxplot(data = results, x = 'weight', y = 'auroc', ax = ax[1], width = .8, palette = 'Blues', \n",
    "    order = ['none', 'd26', 'kegg'])\n",
    "ax[1].set_xlim(-1, 3)\n",
    "ax[1].set_xticklabels(['None', 'Ground\\ntruth', 'Estimate\\n(KEGG)'], rotation = 90)\n",
    "ax[1].set_xlabel('')\n",
    "ax[1].set_ylabel('')\n",
    "\n",
    "sns.boxplot(data = all_results, x = 'weight', y = 'auroc', ax = ax[2], width = .8, palette = 'Greens', \n",
    "    order = ['all_none', 'all_kegg'])\n",
    "ax[2].set_xlim(-1, 2)\n",
    "ax[2].set_xticklabels(['None', 'Estimate\\n(KEGG)'], rotation = 90)\n",
    "ax[2].set_xlabel('')\n",
    "ax[2].set_ylabel('')\n",
    "\n",
    "sns.boxplot(data = heldout_results, x = 'weight', y = 'auroc', ax = ax[3], width = .8, palette = 'Oranges', \n",
    "    order = ['heldout_none', 'heldout_kegg'])\n",
    "ax[3].set_xlim(-1, 2)\n",
    "ax[3].set_xticklabels(['None', 'Estimate\\n(KEGG)'], rotation = 90)\n",
    "ax[3].set_xlabel('')\n",
    "ax[3].set_ylabel('')"
   ]
  },
  {
   "cell_type": "markdown",
   "metadata": {},
   "source": [
    "Add number of cells in which predictions are made"
   ]
  },
  {
   "cell_type": "code",
   "execution_count": 18,
   "metadata": {},
   "outputs": [
    {
     "data": {
      "text/plain": [
       "Text(0, 0.5, '')"
      ]
     },
     "execution_count": 18,
     "metadata": {},
     "output_type": "execute_result"
    },
    {
     "data": {
      "image/png": "[encoded data removed]",
      "text/plain": [
       "<Figure size 648x288 with 3 Axes>"
      ]
     },
     "metadata": {},
     "output_type": "display_data"
    }
   ],
   "source": [
    "fig, ax = plt.subplots(1, 3, sharey = True, figsize = (9, 4), \n",
    "    gridspec_kw = {'width_ratios' :[4, 3, 3]})\n",
    "\n",
    "sns.barplot(data = results, x = 'weight', y = 'n', ax = ax[0], palette = 'Blues', \n",
    "    order = ['none', 'd26', 'kegg'])\n",
    "ax[0].set_xlim(-1, 3)\n",
    "ax[0].set_xticklabels(['None', 'Ground\\ntruth', 'Estimate\\n(KEGG)'], rotation = 90)\n",
    "ax[0].set_xlabel('')\n",
    "ax[0].set_ylabel('')\n",
    "\n",
    "sns.barplot(data = all_results, x = 'weight', y = 'n', ax = ax[1], palette = 'Greens', \n",
    "    order = ['all_none', 'all_kegg'])\n",
    "ax[1].set_xlim(-1, 2)\n",
    "ax[1].set_xticklabels(['None', 'Estimate\\n(KEGG)'], rotation = 90)\n",
    "ax[1].set_xlabel('')\n",
    "ax[1].set_ylabel('')\n",
    "\n",
    "sns.barplot(data = heldout_results, x = 'weight', y = 'n', ax = ax[2], palette = 'Oranges', \n",
    "    order = ['heldout_none', 'heldout_kegg'])\n",
    "ax[2].set_xlim(-1, 2)\n",
    "ax[2].set_xticklabels(['None', 'Estimate\\n(KEGG)'], rotation = 90)\n",
    "ax[2].set_xlabel('')\n",
    "ax[2].set_ylabel('')"
   ]
  },
  {
   "cell_type": "code",
   "execution_count": null,
   "metadata": {},
   "outputs": [],
   "source": []
  }
 ],
 "metadata": {
  "kernelspec": {
   "display_name": "cuda10.1",
   "language": "python",
   "name": "cuda10.1"
  },
  "language_info": {
   "codemirror_mode": {
    "name": "ipython",
    "version": 3
   },
   "file_extension": ".py",
   "mimetype": "text/x-python",
   "name": "python",
   "nbconvert_exporter": "python",
   "pygments_lexer": "ipython3",
   "version": "3.7.6"
  }
 },
 "nbformat": 4,
 "nbformat_minor": 4
}
