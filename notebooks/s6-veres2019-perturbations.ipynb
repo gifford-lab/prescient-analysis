{
 "cells": [
  {
   "cell_type": "code",
   "execution_count": 12,
   "metadata": {},
   "outputs": [],
   "source": [
    "import warnings\n",
    "warnings.filterwarnings('ignore')\n",
    "\n",
    "import warnings\n",
    "warnings.filterwarnings('ignore')\n",
    "\n",
    "import os\n",
    "import numpy as np\n",
    "import pandas as pd\n",
    "import sklearn\n",
    "import umap\n",
    "import matplotlib.pyplot as plt\n",
    "import scipy\n",
    "import seaborn as sns\n",
    "from collections import Counter\n",
    "\n",
    "import torch\n",
    "device = torch.device('cuda:0' if torch.cuda.is_available() else 'cpu')"
   ]
  },
  {
   "cell_type": "markdown",
   "metadata": {},
   "source": [
    "# Day 0"
   ]
  },
  {
   "cell_type": "markdown",
   "metadata": {},
   "source": [
    "## Endocrine factors underexpression"
   ]
  },
  {
   "cell_type": "code",
   "execution_count": 13,
   "metadata": {},
   "outputs": [],
   "source": [
    "base_dir = \"/data/gl/g2/sachit/data/veres/perturbations/2_400_kegg_001500_seed_1_real/endocrine_axis/d0/\"\n",
    "filenames=os.listdir(base_dir)"
   ]
  },
  {
   "cell_type": "code",
   "execution_count": 14,
   "metadata": {},
   "outputs": [],
   "source": [
    "filenames.sort()"
   ]
  },
  {
   "cell_type": "code",
   "execution_count": 15,
   "metadata": {},
   "outputs": [
    {
     "data": {
      "text/plain": [
       "['HES1_0_over.pt',\n",
       " 'HES1_0_under.pt',\n",
       " 'HES1_1_over.pt',\n",
       " 'HES1_1_under.pt',\n",
       " 'HES1_2_over.pt',\n",
       " 'HES1_2_under.pt',\n",
       " 'NEUROG3_0_over.pt',\n",
       " 'NEUROG3_0_under.pt',\n",
       " 'NEUROG3_1_over.pt',\n",
       " 'NEUROG3_1_under.pt',\n",
       " 'NEUROG3_2_over.pt',\n",
       " 'NEUROG3_2_under.pt',\n",
       " 'NKX6-1_0_over.pt',\n",
       " 'NKX6-1_0_under.pt',\n",
       " 'NKX6-1_1_over.pt',\n",
       " 'NKX6-1_1_under.pt',\n",
       " 'NKX6-1_2_over.pt',\n",
       " 'NKX6-1_2_under.pt',\n",
       " 'PTF1A_0_over.pt',\n",
       " 'PTF1A_0_under.pt',\n",
       " 'PTF1A_1_over.pt',\n",
       " 'PTF1A_1_under.pt',\n",
       " 'PTF1A_2_over.pt',\n",
       " 'PTF1A_2_under.pt',\n",
       " 'control1_0_over.pt',\n",
       " 'control1_0_under.pt',\n",
       " 'control1_1_over.pt',\n",
       " 'control1_1_under.pt',\n",
       " 'control1_2_over.pt',\n",
       " 'control1_2_under.pt',\n",
       " 'endocrine_0_over.pt',\n",
       " 'endocrine_0_under.pt',\n",
       " 'endocrine_1_over.pt',\n",
       " 'endocrine_1_under.pt',\n",
       " 'endocrine_2_over.pt',\n",
       " 'endocrine_2_under.pt',\n",
       " 'exocrine_0_over.pt',\n",
       " 'exocrine_0_under.pt',\n",
       " 'exocrine_1_over.pt',\n",
       " 'exocrine_1_under.pt',\n",
       " 'exocrine_2_over.pt',\n",
       " 'exocrine_2_under.pt']"
      ]
     },
     "execution_count": 15,
     "metadata": {},
     "output_type": "execute_result"
    }
   ],
   "source": [
    "filenames"
   ]
  },
  {
   "cell_type": "code",
   "execution_count": 16,
   "metadata": {},
   "outputs": [],
   "source": [
    "#filenames=[filenames[31],filenames[33],filenames[35]]\n",
    "filenames=[filenames[31],filenames[33],filenames[35]]"
   ]
  },
  {
   "cell_type": "code",
   "execution_count": 17,
   "metadata": {},
   "outputs": [
    {
     "data": {
      "text/plain": [
       "['endocrine_0_under.pt', 'endocrine_1_under.pt', 'endocrine_2_under.pt']"
      ]
     },
     "execution_count": 17,
     "metadata": {},
     "output_type": "execute_result"
    }
   ],
   "source": [
    "filenames"
   ]
  },
  {
   "cell_type": "code",
   "execution_count": 18,
   "metadata": {},
   "outputs": [],
   "source": [
    "genes=[]\n",
    "for name in filenames:\n",
    "    genes.append(str(name).split(\"_\")[0])\n",
    "genes=np.unique(genes)"
   ]
  },
  {
   "cell_type": "code",
   "execution_count": 19,
   "metadata": {},
   "outputs": [],
   "source": [
    "all_results = []\n",
    "for elt in filenames:\n",
    "    if elt != \"std.pt\":\n",
    "        results=torch.load(base_dir+str(elt))\n",
    "        all_results.append(results)"
   ]
  },
  {
   "cell_type": "code",
   "execution_count": 20,
   "metadata": {},
   "outputs": [],
   "source": [
    "endo_dist = []\n",
    "exo_dist = []\n",
    "alpha_dist = []\n",
    "for results in all_results:\n",
    "    endo_counts_std = []\n",
    "    for labs in results[\"unperturbed_labs\"]:\n",
    "        tot=Counter(labs[-1])[\"sc_beta\"]+Counter(labs[-1])[\"sc_ec\"]+Counter(labs[-1])[\"sc_alpha\"]+Counter(labs[-1])[\"fev_high_isl_low\"]+Counter(labs[-1])[\"neurog3_late\"]+Counter(labs[-1])[\"neurog3_mid\"]+Counter(labs[-1])[\"phox2a\"]+Counter(labs[-1])[\"sst_hhex\"]\n",
    "        endo_counts_std.append(tot/200)\n",
    "\n",
    "    endo_counts_perturb = []\n",
    "    for labs in results[\"perturbed_labs\"]:\n",
    "        tot=Counter(labs[-1])[\"sc_beta\"]+Counter(labs[-1])[\"sc_ec\"]+Counter(labs[-1])[\"sc_alpha\"]+Counter(labs[-1])[\"fev_high_isl_low\"]+Counter(labs[-1])[\"neurog3_late\"]+Counter(labs[-1])[\"neurog3_mid\"]+Counter(labs[-1])[\"phox2a\"]+Counter(labs[-1])[\"sst_hhex\"]\n",
    "        endo_counts_perturb.append(tot/200)\n",
    "    \n",
    "    exo_counts_std = []\n",
    "    for labs in results[\"unperturbed_labs\"]:\n",
    "        tot=Counter(labs[-1])[\"exo\"]\n",
    "        exo_counts_std.append(tot/200)\n",
    "\n",
    "    exo_counts_perturb = []\n",
    "    for labs in results[\"perturbed_labs\"]:\n",
    "        tot=Counter(labs[-1])[\"exo\"]\n",
    "        exo_counts_perturb.append(tot/200)\n",
    "\n",
    "        \n",
    "    endo_dist.append(np.array([endo_counts_std, endo_counts_perturb]))\n",
    "    exo_dist.append(np.array([exo_counts_std, exo_counts_perturb]))\n",
    "    "
   ]
  },
  {
   "cell_type": "code",
   "execution_count": 21,
   "metadata": {},
   "outputs": [],
   "source": [
    "test=np.array(endo_dist)"
   ]
  },
  {
   "cell_type": "code",
   "execution_count": 22,
   "metadata": {},
   "outputs": [],
   "source": [
    "unpert_average=np.concatenate(test[:,0],axis=0) #np.average(test[:,0],axis=0)"
   ]
  },
  {
   "cell_type": "code",
   "execution_count": 23,
   "metadata": {},
   "outputs": [
    {
     "data": {
      "text/plain": [
       "array([0.445, 0.39 , 0.44 , 0.4  , 0.49 , 0.46 , 0.38 , 0.41 , 0.43 ,\n",
       "       0.435])"
      ]
     },
     "execution_count": 23,
     "metadata": {},
     "output_type": "execute_result"
    }
   ],
   "source": [
    "endo_dist[0][1]"
   ]
  },
  {
   "cell_type": "code",
   "execution_count": 24,
   "metadata": {},
   "outputs": [
    {
     "name": "stdout",
     "output_type": "stream",
     "text": [
      "0\n"
     ]
    }
   ],
   "source": [
    "endo_dist_all =[]\n",
    "for i in range(0,len(filenames), 3):\n",
    "    print(i)\n",
    "    endo_dist_norm = [unpert_average]\n",
    "    for _ in range(1):\n",
    "        endo_dist_norm.append(endo_dist[i][1])\n",
    "        endo_dist_norm.append(endo_dist[i+1][1])\n",
    "        endo_dist_norm.append(endo_dist[i+2][1])\n",
    "    endo_dist_all.append(endo_dist_norm)"
   ]
  },
  {
   "cell_type": "code",
   "execution_count": 25,
   "metadata": {},
   "outputs": [
    {
     "name": "stdout",
     "output_type": "stream",
     "text": [
      "0.3620102309678648\n",
      "-0.011499999999999955\n",
      "2.578189895756966e-06\n",
      "-0.0655\n",
      "2.471856488868341e-09\n",
      "-0.0675\n"
     ]
    },
    {
     "data": {
      "image/png": "[encoded data removed]",
      "text/plain": [
       "<Figure size 360x288 with 1 Axes>"
      ]
     },
     "metadata": {
      "needs_background": "light"
     },
     "output_type": "display_data"
    }
   ],
   "source": [
    "fig, ax = plt.subplots(figsize=(5,4), sharex=True, sharey=True)#len(filenames)/3, figsize=(10,20))\n",
    "sns.set_context(\"talk\")\n",
    "sns.set_style(\"white\")\n",
    "mypal=[\"lightgrey\",\"sandybrown\",\"sienna\",\"brown\"]\n",
    "ax.set_title(\"Ensemble of \"+results[\"perturbed_genes\"])\n",
    "#ax.set_ylim(0.4,0.7)\n",
    "for j in range(1, 4):\n",
    "    #stat, p = scipy.stats.mannwhitneyu(neu_dist_all[i][0], neu_dist_all[i][j], alternative=\"greater\")\n",
    "    stat, p = scipy.stats.ttest_ind(endo_dist_all[i][0], endo_dist_all[i][j], equal_var=False)\n",
    "    print(p)\n",
    "    print(np.average(endo_dist_all[i][j])-np.average(endo_dist_all[i][0]))\n",
    "    x1, x2 = 0,j\n",
    "    if p < .05:\n",
    "        y=.57\n",
    "        ax.plot(x2, y, \"*\", c=\"r\")\n",
    "box=sns.boxplot(data=np.array(endo_dist_all[0]).T, ax=ax, palette=mypal)\n",
    "box.set_xticklabels([\"unperturbed\", \"-0.5\",\"-1\",\"-2.5\"])\n",
    "box.set_ylabel(\"fraction of endocrine cells\")\n",
    "ax.set_xlabel(\"z-score\")\n",
    "plt.show()"
   ]
  },
  {
   "cell_type": "code",
   "execution_count": 26,
   "metadata": {},
   "outputs": [],
   "source": [
    "test=np.array(exo_dist)"
   ]
  },
  {
   "cell_type": "code",
   "execution_count": 27,
   "metadata": {},
   "outputs": [],
   "source": [
    "unpert_average=np.concatenate(test[:,0],axis=0)"
   ]
  },
  {
   "cell_type": "code",
   "execution_count": 28,
   "metadata": {},
   "outputs": [],
   "source": [
    "exo_dist_all =[]\n",
    "for i in range(1):\n",
    "    exo_dist_norm = [unpert_average]\n",
    "    for _ in range(1):\n",
    "        exo_dist_norm.append(exo_dist[i][1])\n",
    "        exo_dist_norm.append(exo_dist[i+1][1])\n",
    "        exo_dist_norm.append(exo_dist[i+2][1])\n",
    "    exo_dist_all.append(exo_dist_norm)"
   ]
  },
  {
   "cell_type": "code",
   "execution_count": 29,
   "metadata": {},
   "outputs": [
    {
     "data": {
      "image/png": "[encoded data removed]",
      "text/plain": [
       "<Figure size 360x288 with 1 Axes>"
      ]
     },
     "metadata": {},
     "output_type": "display_data"
    }
   ],
   "source": [
    "fig, ax = plt.subplots(figsize=(5,4), sharex=True, sharey=True)#len(filenames)/3, figsize=(10,20))\n",
    "sns.set_context(\"talk\")\n",
    "sns.set_style(\"white\")\n",
    "mypal=[\"lightgrey\",\"sandybrown\",\"sienna\",\"brown\"]\n",
    "ax.set_title(\"Ensemble of \"+results[\"perturbed_genes\"])\n",
    "#ax.set_ylim(0.2,0.45)\n",
    "#stat, p = scipy.stats.mannwhitneyu(neu_dist_all[i][0], neu_dist_all[i][j], alternative=\"greater\")\n",
    "stat, p = scipy.stats.ttest_ind(exo_dist_all[0][0], exo_dist_all[0][3])\n",
    "x1, x2 = 0,1\n",
    "for j in range(1, 4):\n",
    "    #stat, p = scipy.stats.mannwhitneyu(neu_dist_all[i][0], neu_dist_all[i][j], alternative=\"greater\")\n",
    "    stat, p = scipy.stats.ttest_ind(endo_dist_all[i][0], endo_dist_all[i][j], equal_var=False)\n",
    "    x1, x2 = 0,j\n",
    "    if p < .05:\n",
    "        y=.6\n",
    "        ax.plot(x2, y, \"*\", c=\"r\")\n",
    "box=sns.boxplot(data=np.array(exo_dist_all[0]).T, ax=ax, palette=mypal)\n",
    "box.set_xticklabels([\"unperturbed\", \"-0.5\",\"-1\",\"-2.5\"])\n",
    "box.set_ylabel(\"fraction of non-endocrine cells\")\n",
    "ax.set_xlabel(\"z-score\")\n",
    "plt.show()"
   ]
  },
  {
   "cell_type": "markdown",
   "metadata": {},
   "source": [
    "## Exocrine factors underexpression"
   ]
  },
  {
   "cell_type": "code",
   "execution_count": 86,
   "metadata": {},
   "outputs": [],
   "source": [
    "base_dir = \"/data/gl/g2/sachit/data/veres/perturbations/2_400_kegg_001500_seed_1_real/endocrine_axis/d0/\"\n",
    "filenames=os.listdir(base_dir)"
   ]
  },
  {
   "cell_type": "code",
   "execution_count": 87,
   "metadata": {},
   "outputs": [],
   "source": [
    "filenames.sort()"
   ]
  },
  {
   "cell_type": "code",
   "execution_count": 88,
   "metadata": {},
   "outputs": [],
   "source": [
    "#filenames=[filenames[31],filenames[33],filenames[35]]\n",
    "filenames=[filenames[37],filenames[39],filenames[41]]"
   ]
  },
  {
   "cell_type": "code",
   "execution_count": 89,
   "metadata": {},
   "outputs": [
    {
     "data": {
      "text/plain": [
       "['exocrine_0_under.pt', 'exocrine_1_under.pt', 'exocrine_2_under.pt']"
      ]
     },
     "execution_count": 89,
     "metadata": {},
     "output_type": "execute_result"
    }
   ],
   "source": [
    "filenames"
   ]
  },
  {
   "cell_type": "code",
   "execution_count": 90,
   "metadata": {},
   "outputs": [],
   "source": [
    "genes=[]\n",
    "for name in filenames:\n",
    "    genes.append(str(name).split(\"_\")[0])\n",
    "genes=np.unique(genes)"
   ]
  },
  {
   "cell_type": "code",
   "execution_count": 91,
   "metadata": {},
   "outputs": [],
   "source": [
    "all_results = []\n",
    "for elt in filenames:\n",
    "    if elt != \"std.pt\":\n",
    "        results=torch.load(base_dir+str(elt))\n",
    "        all_results.append(results)"
   ]
  },
  {
   "cell_type": "code",
   "execution_count": 92,
   "metadata": {},
   "outputs": [],
   "source": [
    "endo_dist = []\n",
    "exo_dist = []\n",
    "alpha_dist = []\n",
    "for results in all_results:\n",
    "    endo_counts_std = []\n",
    "    for labs in results[\"unperturbed_labs\"]:\n",
    "        tot=Counter(labs[-1])[\"sc_beta\"]+Counter(labs[-1])[\"sc_ec\"]+Counter(labs[-1])[\"sc_alpha\"]+Counter(labs[-1])[\"fev_high_isl_low\"]+Counter(labs[-1])[\"neurog3_late\"]+Counter(labs[-1])[\"neurog3_mid\"]+Counter(labs[-1])[\"phox2a\"]+Counter(labs[-1])[\"sst_hhex\"]\n",
    "        endo_counts_std.append(tot/200)\n",
    "\n",
    "    endo_counts_perturb = []\n",
    "    for labs in results[\"perturbed_labs\"]:\n",
    "        tot=Counter(labs[-1])[\"sc_beta\"]+Counter(labs[-1])[\"sc_ec\"]+Counter(labs[-1])[\"sc_alpha\"]+Counter(labs[-1])[\"fev_high_isl_low\"]+Counter(labs[-1])[\"neurog3_late\"]+Counter(labs[-1])[\"neurog3_mid\"]+Counter(labs[-1])[\"phox2a\"]+Counter(labs[-1])[\"sst_hhex\"]\n",
    "        endo_counts_perturb.append(tot/200)\n",
    "    \n",
    "    exo_counts_std = []\n",
    "    for labs in results[\"unperturbed_labs\"]:\n",
    "        tot=Counter(labs[-1])[\"exo\"]\n",
    "        exo_counts_std.append(tot/200)\n",
    "\n",
    "    exo_counts_perturb = []\n",
    "    for labs in results[\"perturbed_labs\"]:\n",
    "        tot=Counter(labs[-1])[\"exo\"]\n",
    "        exo_counts_perturb.append(tot/200)\n",
    "\n",
    "        \n",
    "    endo_dist.append(np.array([endo_counts_std, endo_counts_perturb]))\n",
    "    exo_dist.append(np.array([exo_counts_std, exo_counts_perturb]))\n",
    "    "
   ]
  },
  {
   "cell_type": "code",
   "execution_count": 93,
   "metadata": {},
   "outputs": [],
   "source": [
    "test=np.array(endo_dist)"
   ]
  },
  {
   "cell_type": "code",
   "execution_count": 94,
   "metadata": {},
   "outputs": [],
   "source": [
    "unpert_average=np.concatenate(test[:,0],axis=0) #np.average(test[:,0],axis=0)"
   ]
  },
  {
   "cell_type": "code",
   "execution_count": 95,
   "metadata": {},
   "outputs": [
    {
     "data": {
      "text/plain": [
       "array([0.475, 0.45 , 0.455, 0.405, 0.445, 0.44 , 0.49 , 0.445, 0.465,\n",
       "       0.41 ])"
      ]
     },
     "execution_count": 95,
     "metadata": {},
     "output_type": "execute_result"
    }
   ],
   "source": [
    "endo_dist[0][1]"
   ]
  },
  {
   "cell_type": "code",
   "execution_count": 96,
   "metadata": {},
   "outputs": [
    {
     "name": "stdout",
     "output_type": "stream",
     "text": [
      "0\n"
     ]
    }
   ],
   "source": [
    "endo_dist_all =[]\n",
    "for i in range(0,len(filenames), 3):\n",
    "    print(i)\n",
    "    endo_dist_norm = [unpert_average]\n",
    "    for _ in range(1):\n",
    "        endo_dist_norm.append(endo_dist[i][1])\n",
    "        endo_dist_norm.append(endo_dist[i+1][1])\n",
    "        endo_dist_norm.append(endo_dist[i+2][1])\n",
    "    endo_dist_all.append(endo_dist_norm)"
   ]
  },
  {
   "cell_type": "code",
   "execution_count": 97,
   "metadata": {},
   "outputs": [
    {
     "name": "stdout",
     "output_type": "stream",
     "text": [
      "0.5422506778706913\n",
      "0.006166666666666765\n",
      "0.04182160537691125\n",
      "0.030166666666666675\n",
      "0.0037952629198622825\n",
      "0.03116666666666673\n"
     ]
    },
    {
     "data": {
      "image/png": "[encoded data removed]",
      "text/plain": [
       "<Figure size 360x288 with 1 Axes>"
      ]
     },
     "metadata": {},
     "output_type": "display_data"
    }
   ],
   "source": [
    "fig, ax = plt.subplots(figsize=(5,4), sharex=True, sharey=True)#len(filenames)/3, figsize=(10,20))\n",
    "sns.set_context(\"talk\")\n",
    "sns.set_style(\"white\")\n",
    "#mypal=[\"lightgrey\",\"sandybrown\",\"sienna\",\"brown\"]\n",
    "mypal=[\"lightgrey\",\"honeydew\", \"palegreen\", \"forestgreen\"]\n",
    "#mypal=[\"lightgrey\",\"white\", \"lightgray\", \"darkgray\"]\n",
    "ax.set_title(\"Ensemble of \"+results[\"perturbed_genes\"])\n",
    "#ax.set_ylim(0.4,0.7)\n",
    "for j in range(1, 4):\n",
    "    #stat, p = scipy.stats.mannwhitneyu(neu_dist_all[i][0], neu_dist_all[i][j], alternative=\"greater\")\n",
    "    stat, p = scipy.stats.ttest_ind(endo_dist_all[i][0], endo_dist_all[i][j], equal_var=False)\n",
    "    print(p)\n",
    "    print(np.average(endo_dist_all[i][j])-np.average(endo_dist_all[i][0]))\n",
    "    x1, x2 = 0,j\n",
    "    if p < .05:\n",
    "        y=.57\n",
    "        ax.plot(x2, y, \"*\", c=\"r\")\n",
    "box=sns.boxplot(data=np.array(endo_dist_all[0]).T, ax=ax, palette=mypal)\n",
    "box.set_xticklabels([\"unperturbed\", \"-0.5\",\"-1\",\"-2.5\"])\n",
    "box.set_ylabel(\"fraction of endocrine cells\")\n",
    "ax.set_xlabel(\"z-score\")\n",
    "plt.show()"
   ]
  },
  {
   "cell_type": "code",
   "execution_count": 98,
   "metadata": {},
   "outputs": [],
   "source": [
    "test=np.array(exo_dist)"
   ]
  },
  {
   "cell_type": "code",
   "execution_count": 99,
   "metadata": {},
   "outputs": [],
   "source": [
    "unpert_average=np.concatenate(test[:,0],axis=0)"
   ]
  },
  {
   "cell_type": "code",
   "execution_count": 100,
   "metadata": {},
   "outputs": [],
   "source": [
    "exo_dist_all =[]\n",
    "for i in range(1):\n",
    "    exo_dist_norm = [unpert_average]\n",
    "    for _ in range(1):\n",
    "        exo_dist_norm.append(exo_dist[i][1])\n",
    "        exo_dist_norm.append(exo_dist[i+1][1])\n",
    "        exo_dist_norm.append(exo_dist[i+2][1])\n",
    "    exo_dist_all.append(exo_dist_norm)"
   ]
  },
  {
   "cell_type": "code",
   "execution_count": 101,
   "metadata": {},
   "outputs": [
    {
     "data": {
      "image/png": "[encoded data removed]",
      "text/plain": [
       "<Figure size 360x288 with 1 Axes>"
      ]
     },
     "metadata": {},
     "output_type": "display_data"
    }
   ],
   "source": [
    "fig, ax = plt.subplots(figsize=(5,4), sharex=True, sharey=True)#len(filenames)/3, figsize=(10,20))\n",
    "sns.set_context(\"talk\")\n",
    "sns.set_style(\"white\")\n",
    "mypal=[\"lightgrey\",\"honeydew\", \"palegreen\", \"forestgreen\"]\n",
    "#mypal=[\"lightgrey\",\"sandybrown\",\"sienna\",\"brown\"]\n",
    "#mypal=[\"lightgrey\",\"white\", \"lightgray\", \"darkgray\"]\n",
    "ax.set_title(\"Ensemble of \"+results[\"perturbed_genes\"])\n",
    "#ax.set_ylim(0.2,0.45)\n",
    "#stat, p = scipy.stats.mannwhitneyu(neu_dist_all[i][0], neu_dist_all[i][j], alternative=\"greater\")\n",
    "stat, p = scipy.stats.ttest_ind(exo_dist_all[0][0], exo_dist_all[0][3])\n",
    "x1, x2 = 0,1\n",
    "for j in range(1, 4):\n",
    "    #stat, p = scipy.stats.mannwhitneyu(neu_dist_all[i][0], neu_dist_all[i][j], alternative=\"greater\")\n",
    "    stat, p = scipy.stats.ttest_ind(endo_dist_all[i][0], endo_dist_all[i][j], equal_var=False)\n",
    "    x1, x2 = 0,j\n",
    "    if p < .05:\n",
    "        y=.6\n",
    "        ax.plot(x2, y, \"*\", c=\"r\")\n",
    "box=sns.boxplot(data=np.array(exo_dist_all[0]).T, ax=ax, palette=mypal)\n",
    "box.set_xticklabels([\"unperturbed\", \"-0.5\",\"-1\",\"-2.5\"])\n",
    "box.set_ylabel(\"fraction of non-endocrine cells\")\n",
    "ax.set_xlabel(\"z-score\")\n",
    "plt.show()"
   ]
  },
  {
   "cell_type": "markdown",
   "metadata": {},
   "source": [
    "# Endocrine underexpression timing plot"
   ]
  },
  {
   "cell_type": "code",
   "execution_count": 36,
   "metadata": {},
   "outputs": [],
   "source": [
    "base_dir = \"/data/gl/g2/sachit/data/veres/perturbations/2_400_kegg_001500_seed_1_real/endocrine_axis/\"\n",
    "filenames=os.listdir(base_dir)\n",
    "filenames.sort()"
   ]
  },
  {
   "cell_type": "code",
   "execution_count": 37,
   "metadata": {},
   "outputs": [
    {
     "name": "stdout",
     "output_type": "stream",
     "text": [
      "d0\n",
      "d1\n",
      "d2\n",
      "d3\n",
      "d4\n",
      "d5\n",
      "d6\n"
     ]
    }
   ],
   "source": [
    "differences=[]\n",
    "paired_t=[]\n",
    "for elt in filenames:\n",
    "    print(elt)\n",
    "    files=os.listdir(base_dir+elt)\n",
    "    files.sort()\n",
    "    results=torch.load(base_dir+elt+\"/\"+files[35])\n",
    "    all_results = []\n",
    "    all_results.append(results)\n",
    "    endo_dist = []\n",
    "    exo_dist = []\n",
    "    endo_counts_std = []\n",
    "    for labs in results[\"unperturbed_labs\"]:\n",
    "        tot=Counter(labs[-1])[\"sc_beta\"]+Counter(labs[-1])[\"sc_ec\"]+Counter(labs[-1])[\"sc_alpha\"]+Counter(labs[-1])[\"fev_high_isl_low\"]+Counter(labs[-1])[\"neurog3_late\"]+Counter(labs[-1])[\"neurog3_mid\"]+Counter(labs[-1])[\"phox2a\"]+Counter(labs[-1])[\"sst_hhex\"]\n",
    "        endo_counts_std.append(tot/200)\n",
    "\n",
    "    endo_counts_perturb = []\n",
    "    for labs in results[\"perturbed_labs\"]:\n",
    "        tot=Counter(labs[-1])[\"sc_beta\"]+Counter(labs[-1])[\"sc_ec\"]+Counter(labs[-1])[\"sc_alpha\"]+Counter(labs[-1])[\"fev_high_isl_low\"]+Counter(labs[-1])[\"neurog3_late\"]+Counter(labs[-1])[\"neurog3_mid\"]+Counter(labs[-1])[\"phox2a\"]+Counter(labs[-1])[\"sst_hhex\"]\n",
    "        endo_counts_perturb.append(tot/200)\n",
    "\n",
    "    exo_counts_std = []\n",
    "    for labs in results[\"unperturbed_labs\"]:\n",
    "        tot=Counter(labs[-1])[\"exo\"]\n",
    "        exo_counts_std.append(tot/200)\n",
    "\n",
    "    exo_counts_perturb = []\n",
    "    for labs in results[\"perturbed_labs\"]:\n",
    "        tot=Counter(labs[-1])[\"exo\"]\n",
    "        exo_counts_perturb.append(tot/200)\n",
    "\n",
    "    \n",
    "    endo_dist.append(np.array([endo_counts_std, endo_counts_perturb]))\n",
    "    exo_dist.append(np.array([exo_counts_std, exo_counts_perturb]))\n",
    "    differences.append(endo_dist[0][1]-endo_dist[0][0])\n",
    "    #differences.append(cohen_d(endo_dist[0][1], endo_dist[0][0]))"
   ]
  },
  {
   "cell_type": "code",
   "execution_count": 39,
   "metadata": {},
   "outputs": [
    {
     "data": {
      "text/plain": [
       "Text(0.5, 0, 'Day (introduction of silico perturbation)')"
      ]
     },
     "execution_count": 39,
     "metadata": {},
     "output_type": "execute_result"
    },
    {
     "data": {
      "image/png": "[encoded data removed]",
      "text/plain": [
       "<Figure size 864x432 with 1 Axes>"
      ]
     },
     "metadata": {},
     "output_type": "display_data"
    }
   ],
   "source": [
    "fig, ax = plt.subplots(figsize=(12,6), sharex=True, sharey=True)\n",
    "#plt.bar(np.arange(0,8,1),differences)\n",
    "sns.set_context(\"talk\")\n",
    "#ax.set_ylim(-0.05,0.25)\n",
    "#ax.title.set_text(\"Overexpression (z=5) introduced at different timepoints\")\n",
    "mypal=[\"sienna\"]\n",
    "g=sns.barplot(data=differences, palette=mypal, linewidth=5, edgecolor=\"k\",capsize=.1)\n",
    "#plt.bar(np.arange(0,8,1),differences)\n",
    "g.set_ylabel(\"Difference in final cell fraction\")\n",
    "g.set_xlabel(\"Day (introduction of silico perturbation)\")\n",
    "#ax.table([np.average(differences, axis=1), np.std(differences, axis=1)])"
   ]
  },
  {
   "cell_type": "code",
   "execution_count": null,
   "metadata": {},
   "outputs": [],
   "source": []
  }
 ],
 "metadata": {
  "kernelspec": {
   "display_name": "Python 3",
   "language": "python",
   "name": "python3"
  },
  "language_info": {
   "codemirror_mode": {
    "name": "ipython",
    "version": 3
   },
   "file_extension": ".py",
   "mimetype": "text/x-python",
   "name": "python",
   "nbconvert_exporter": "python",
   "pygments_lexer": "ipython3",
   "version": "3.7.8"
  }
 },
 "nbformat": 4,
 "nbformat_minor": 4
}
