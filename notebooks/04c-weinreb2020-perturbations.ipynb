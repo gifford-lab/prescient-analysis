{
 "cells": [
  {
   "cell_type": "markdown",
   "metadata": {},
   "source": [
    "# Make Gilaldi et al figure"
   ]
  },
  {
   "cell_type": "code",
   "execution_count": 4,
   "metadata": {},
   "outputs": [],
   "source": [
    "import warnings\n",
    "warnings.filterwarnings('ignore')\n",
    "\n",
    "import os\n",
    "import sys\n",
    "import random\n",
    "import joblib\n",
    "import json\n",
    "\n",
    "import numpy as np\n",
    "import pandas as pd\n",
    "import sklearn\n",
    "import umap\n",
    "import matplotlib.pyplot as plt\n",
    "import scipy\n",
    "import seaborn as sns\n",
    "from types import SimpleNamespace\n",
    "from collections import Counter\n",
    "import seaborn as sns\n",
    "\n",
    "import torch"
   ]
  },
  {
   "cell_type": "markdown",
   "metadata": {},
   "source": [
    "# Overexpression"
   ]
  },
  {
   "cell_type": "code",
   "execution_count": 51,
   "metadata": {},
   "outputs": [],
   "source": [
    "base_dir = \"/data/gl/g2/sachit/data/klein/perturbations/002500/sd_all_neu/\"\n",
    "filenames=os.listdir(base_dir)"
   ]
  },
  {
   "cell_type": "code",
   "execution_count": 52,
   "metadata": {},
   "outputs": [],
   "source": [
    "neu_files = []\n",
    "for elt in filenames:\n",
    "    if \"1_over\" in str(elt) and \"Klf5\" not in str(elt) and \"Gilaldi\" not in str(elt):\n",
    "        neu_files.append(elt)\n"
   ]
  },
  {
   "cell_type": "code",
   "execution_count": 53,
   "metadata": {},
   "outputs": [],
   "source": [
    "neu_files.sort()"
   ]
  },
  {
   "cell_type": "code",
   "execution_count": 54,
   "metadata": {},
   "outputs": [
    {
     "data": {
      "text/plain": [
       "['Cebpe_1_over.pt',\n",
       " 'Dach1_1_over',\n",
       " 'Lmo4_1_over.pt',\n",
       " 'Mxd1_1_over.pt',\n",
       " 'control1_1_over.pt',\n",
       " 'control2_1_over.pt']"
      ]
     },
     "execution_count": 54,
     "metadata": {},
     "output_type": "execute_result"
    }
   ],
   "source": [
    "neu_files"
   ]
  },
  {
   "cell_type": "code",
   "execution_count": 55,
   "metadata": {},
   "outputs": [],
   "source": [
    "neu_genes=[]\n",
    "for name in neu_files:\n",
    "    neu_genes.append(str(name).split(\"_\")[0])\n",
    "neu_genes=np.unique(neu_genes)"
   ]
  },
  {
   "cell_type": "code",
   "execution_count": 56,
   "metadata": {},
   "outputs": [],
   "source": [
    "neu_results = []\n",
    "for elt in neu_files:\n",
    "    if elt != \"std.pt\":\n",
    "        results=torch.load(base_dir+str(elt))\n",
    "        neu_results.append(results)"
   ]
  },
  {
   "cell_type": "code",
   "execution_count": 57,
   "metadata": {},
   "outputs": [],
   "source": [
    "unperturbed_dist_neu =[]\n",
    "unperturbed_dist_mono = []"
   ]
  },
  {
   "cell_type": "code",
   "execution_count": 58,
   "metadata": {},
   "outputs": [],
   "source": [
    "neu_dist_neu = []\n",
    "neu_dist_mono = []\n",
    "for results in neu_results:\n",
    "    neu_counts_std = []\n",
    "    for labs in results[\"unperturbed_labs\"]:\n",
    "        neu_counts_std.append(Counter(labs[-1])[\"Neutrophil\"]/200)\n",
    "\n",
    "    neu_counts_perturb = []\n",
    "    for labs in results[\"perturbed_labs\"]:\n",
    "        neu_counts_perturb.append(Counter(labs[-1])[\"Neutrophil\"]/200)\n",
    "    \n",
    "    mono_counts_std = []\n",
    "    for labs in results[\"unperturbed_labs\"]:\n",
    "        mono_counts_std.append(Counter(labs[-1])[\"Monocyte\"]/200)\n",
    "\n",
    "    mono_counts_perturb = []\n",
    "    for labs in results[\"perturbed_labs\"]:\n",
    "        mono_counts_perturb.append(Counter(labs[-1])[\"Monocyte\"]/200)\n",
    "    \n",
    "    unperturbed_dist_neu.append(np.array(neu_counts_std))\n",
    "    unperturbed_dist_mono.append(np.array(mono_counts_std))   \n",
    "    neu_dist_neu.append(np.array(neu_counts_perturb))\n",
    "    neu_dist_mono.append(np.array(mono_counts_perturb))\n",
    "    "
   ]
  },
  {
   "cell_type": "code",
   "execution_count": 59,
   "metadata": {},
   "outputs": [],
   "source": [
    "base_dir = \"/data/gl/g2/sachit/data/klein/perturbations/002500/sd_all_mono/\"\n",
    "filenames=os.listdir(base_dir)"
   ]
  },
  {
   "cell_type": "code",
   "execution_count": 60,
   "metadata": {},
   "outputs": [],
   "source": [
    "mono_files = []\n",
    "for elt in filenames:\n",
    "    if \"1_over\" in str(elt) and \"Gilaldi\" not in str(elt):\n",
    "        mono_files.append(elt)"
   ]
  },
  {
   "cell_type": "code",
   "execution_count": 61,
   "metadata": {},
   "outputs": [],
   "source": [
    "mono_genes=[]\n",
    "for name in mono_files:\n",
    "    mono_genes.append(str(name).split(\"_\")[0])\n",
    "mono_genes=np.unique(mono_genes)"
   ]
  },
  {
   "cell_type": "code",
   "execution_count": 62,
   "metadata": {},
   "outputs": [],
   "source": [
    "mono_files.sort()"
   ]
  },
  {
   "cell_type": "code",
   "execution_count": 63,
   "metadata": {},
   "outputs": [
    {
     "data": {
      "text/plain": [
       "['Irf5_1_over.pt', 'Irf8_1_over.pt', 'Klf4_1_over.pt', 'Nr4a1_1_over.pt']"
      ]
     },
     "execution_count": 63,
     "metadata": {},
     "output_type": "execute_result"
    }
   ],
   "source": [
    "mono_files"
   ]
  },
  {
   "cell_type": "code",
   "execution_count": 64,
   "metadata": {},
   "outputs": [],
   "source": [
    "mono_results = []\n",
    "for elt in mono_files:\n",
    "    if elt != \"std.pt\":\n",
    "        results=torch.load(base_dir+str(elt))\n",
    "        mono_results.append(results)"
   ]
  },
  {
   "cell_type": "code",
   "execution_count": 65,
   "metadata": {},
   "outputs": [],
   "source": [
    "mono_dist_neu = []\n",
    "mono_dist_mono = []\n",
    "for results in mono_results:\n",
    "    neu_counts_std = []\n",
    "    for labs in results[\"unperturbed_labs\"]:\n",
    "        neu_counts_std.append(Counter(labs[-1])[\"Neutrophil\"]/200)\n",
    "\n",
    "    neu_counts_perturb = []\n",
    "    for labs in results[\"perturbed_labs\"]:\n",
    "        neu_counts_perturb.append(Counter(labs[-1])[\"Neutrophil\"]/200)\n",
    "    \n",
    "    mono_counts_std = []\n",
    "    for labs in results[\"unperturbed_labs\"]:\n",
    "        mono_counts_std.append(Counter(labs[-1])[\"Monocyte\"]/200)\n",
    "\n",
    "    mono_counts_perturb = []\n",
    "    for labs in results[\"perturbed_labs\"]:\n",
    "        mono_counts_perturb.append(Counter(labs[-1])[\"Monocyte\"]/200)\n",
    "    \n",
    "    unperturbed_dist_neu.append(np.array(neu_counts_std))\n",
    "    unperturbed_dist_mono.append(np.array(mono_counts_std))\n",
    "    mono_dist_neu.append(np.array(neu_counts_perturb))\n",
    "    mono_dist_mono.append(np.array(mono_counts_perturb))"
   ]
  },
  {
   "cell_type": "code",
   "execution_count": 66,
   "metadata": {},
   "outputs": [],
   "source": [
    "unpert=torch.load(\"/data/gl/g2/sachit/data/klein/perturbations/002500/unperturbed.pt\")\n",
    "total_unpert_mono = unpert[\"unperturbed_mono\"]\n",
    "total_unpert_neu = unpert[\"unperturbed_neu\"]"
   ]
  },
  {
   "cell_type": "code",
   "execution_count": 67,
   "metadata": {},
   "outputs": [
    {
     "data": {
      "text/plain": [
       "array(['Irf5', 'Irf8', 'Klf4', 'Nr4a1'], dtype='<U5')"
      ]
     },
     "execution_count": 67,
     "metadata": {},
     "output_type": "execute_result"
    }
   ],
   "source": [
    "mono_genes"
   ]
  },
  {
   "cell_type": "code",
   "execution_count": 68,
   "metadata": {},
   "outputs": [
    {
     "data": {
      "text/plain": [
       "array(['Cebpe', 'Dach1', 'Lmo4', 'Mxd1', 'control1', 'control2'],\n",
       "      dtype='<U8')"
      ]
     },
     "execution_count": 68,
     "metadata": {},
     "output_type": "execute_result"
    }
   ],
   "source": [
    "neu_genes"
   ]
  },
  {
   "cell_type": "code",
   "execution_count": 69,
   "metadata": {},
   "outputs": [
    {
     "data": {
      "text/plain": [
       "(10,)"
      ]
     },
     "execution_count": 69,
     "metadata": {},
     "output_type": "execute_result"
    }
   ],
   "source": [
    "neu_dist_neu[0].shape"
   ]
  },
  {
   "cell_type": "code",
   "execution_count": 70,
   "metadata": {},
   "outputs": [],
   "source": [
    "neu=pd.DataFrame({mono_genes[2]: mono_dist_neu[2],\n",
    "              mono_genes[1]: mono_dist_neu[1],\n",
    "              mono_genes[0]: mono_dist_neu[0],\n",
    "              mono_genes[3]: mono_dist_neu[3], \n",
    "              \"unperturbed\": total_unpert_neu,\n",
    "              \"control\": neu_dist_neu[4],\n",
    "              neu_genes[2]: neu_dist_neu[2],\n",
    "              neu_genes[3]: neu_dist_neu[3],  \n",
    "              neu_genes[1]: neu_dist_neu[1],     \n",
    "              neu_genes[0]: neu_dist_neu[0],\n",
    "             }\n",
    "            )\n",
    "\n",
    "mono=pd.DataFrame({mono_genes[2]: mono_dist_mono[2],\n",
    "              mono_genes[1]: mono_dist_mono[1],\n",
    "              mono_genes[0]: mono_dist_mono[0],\n",
    "              mono_genes[3]: mono_dist_mono[3], \n",
    "              \"unperturbed\": total_unpert_mono,\n",
    "              \"control\": neu_dist_mono[4],\n",
    "              neu_genes[2]: neu_dist_mono[2],\n",
    "              neu_genes[3]: neu_dist_mono[3],  \n",
    "              neu_genes[1]: neu_dist_mono[1],     \n",
    "              neu_genes[0]: neu_dist_mono[0],\n",
    "             }\n",
    "            )"
   ]
  },
  {
   "cell_type": "code",
   "execution_count": 71,
   "metadata": {},
   "outputs": [
    {
     "data": {
      "text/plain": [
       "0    0.243500\n",
       "1    0.243833\n",
       "2    0.237542\n",
       "3    0.236042\n",
       "4    0.238958\n",
       "5    0.243500\n",
       "6    0.237125\n",
       "7    0.236958\n",
       "8    0.239542\n",
       "9    0.244208\n",
       "Name: unperturbed, dtype: float64"
      ]
     },
     "execution_count": 71,
     "metadata": {},
     "output_type": "execute_result"
    }
   ],
   "source": [
    "neu[\"unperturbed\"]"
   ]
  },
  {
   "cell_type": "code",
   "execution_count": 82,
   "metadata": {},
   "outputs": [
    {
     "data": {
      "text/plain": [
       "Text(0, 0.5, 'fraction of neutrophils')"
      ]
     },
     "execution_count": 82,
     "metadata": {},
     "output_type": "execute_result"
    },
    {
     "data": {
      "image/png": "[encoded data removed]",
      "text/plain": [
       "<Figure size 432x288 with 1 Axes>"
      ]
     },
     "metadata": {
      "needs_background": "light"
     },
     "output_type": "display_data"
    }
   ],
   "source": [
    "fig, ax = plt.subplots(figsize=(6,4), sharex=True, sharey=True)\n",
    "sns.set_context(\"talk\")\n",
    "ax.title.set_text(\"Overexpression (z=5)\")\n",
    "mypal=[\"darkgreen\", \"darkgreen\", \"darkgreen\", \"darkgreen\",\"darkgrey\",\"darkgrey\", \"darkorange\", \"darkorange\", \"darkorange\",\"darkorange\"]\n",
    "for j in range(0, 10):\n",
    "    stat, p = scipy.stats.ttest_ind(neu[\"unperturbed\"], neu.iloc[:,j], equal_var=False)\n",
    "    x1, x2 = 0,j\n",
    "    if p < .05:\n",
    "        #y, h, col = neu_dist_norm[i-1].max() + height, 0, 'r'\n",
    "        y=.45\n",
    "        ax.plot(x2, y, \"*\", c=\"r\")\n",
    "g=sns.boxplot(data=neu, palette=mypal)\n",
    "g.set_xticklabels(labels=neu.columns,\n",
    "                  rotation=90)\n",
    "g.set_ylabel(\"fraction of neutrophils\")"
   ]
  },
  {
   "cell_type": "code",
   "execution_count": 73,
   "metadata": {},
   "outputs": [
    {
     "data": {
      "text/plain": [
       "Text(0, 0.5, 'fraction of monocytes')"
      ]
     },
     "execution_count": 73,
     "metadata": {},
     "output_type": "execute_result"
    },
    {
     "data": {
      "image/png": "[encoded data removed]",
      "text/plain": [
       "<Figure size 432x288 with 1 Axes>"
      ]
     },
     "metadata": {
      "needs_background": "light"
     },
     "output_type": "display_data"
    }
   ],
   "source": [
    "fig, ax = plt.subplots(figsize=(6,4), sharex=True, sharey=True)\n",
    "sns.set_context(\"talk\")\n",
    "ax.title.set_text(\"Overexpression (z=5)\")\n",
    "mypal=[\"darkgreen\", \"darkgreen\", \"darkgreen\", \"darkgreen\",\"darkgrey\",\"darkgrey\", \"darkorange\", \"darkorange\", \"darkorange\",\"darkorange\"]\n",
    "for j in range(0, 10):\n",
    "    stat, p = scipy.stats.ttest_ind(mono[\"unperturbed\"], mono.iloc[:,j])\n",
    "    x1, x2 = 0,j\n",
    "    if p < .05:\n",
    "        #y, h, col = neu_dist_norm[i-1].max() + height, 0, 'r'\n",
    "        y=.42\n",
    "        ax.plot(x2, y, \"*\", c=\"r\")\n",
    "g=sns.boxplot(data=mono, palette=mypal)\n",
    "g.set_xticklabels(labels=mono.columns,\n",
    "                  rotation=90)\n",
    "g.set_ylabel(\"fraction of monocytes\")"
   ]
  },
  {
   "cell_type": "code",
   "execution_count": 74,
   "metadata": {},
   "outputs": [],
   "source": [
    "base_dir = \"/data/gl/g2/sachit/data/klein/perturbations/002500/sd_all_neu/\"\n",
    "filenames=os.listdir(base_dir)"
   ]
  },
  {
   "cell_type": "code",
   "execution_count": 75,
   "metadata": {},
   "outputs": [],
   "source": [
    "neu_files = []\n",
    "for elt in filenames:\n",
    "    if \"2_under\" in str(elt) and \"Klf5\" not in str(elt) and \"Gilaldi\" not in str(elt):\n",
    "        neu_files.append(elt)\n"
   ]
  },
  {
   "cell_type": "code",
   "execution_count": 76,
   "metadata": {},
   "outputs": [],
   "source": [
    "neu_files.sort()"
   ]
  },
  {
   "cell_type": "code",
   "execution_count": 77,
   "metadata": {},
   "outputs": [
    {
     "data": {
      "text/plain": [
       "['Cebpe_2_under.pt',\n",
       " 'Dach1_2_under',\n",
       " 'Lmo4_2_under.pt',\n",
       " 'Mxd1_2_under',\n",
       " 'control1_2_under.pt']"
      ]
     },
     "execution_count": 77,
     "metadata": {},
     "output_type": "execute_result"
    }
   ],
   "source": [
    "neu_files"
   ]
  },
  {
   "cell_type": "code",
   "execution_count": 78,
   "metadata": {},
   "outputs": [],
   "source": [
    "neu_genes=[]\n",
    "for name in neu_files:\n",
    "    neu_genes.append(str(name).split(\"_\")[0])\n",
    "neu_genes=np.unique(neu_genes)"
   ]
  },
  {
   "cell_type": "code",
   "execution_count": 79,
   "metadata": {},
   "outputs": [],
   "source": [
    "neu_results = []\n",
    "for elt in neu_files:\n",
    "    if elt != \"std.pt\":\n",
    "        results=torch.load(base_dir+str(elt))\n",
    "        neu_results.append(results)"
   ]
  },
  {
   "cell_type": "code",
   "execution_count": 80,
   "metadata": {},
   "outputs": [],
   "source": [
    "unperturbed_dist_neu =[]\n",
    "unperturbed_dist_mono = []"
   ]
  },
  {
   "cell_type": "code",
   "execution_count": 81,
   "metadata": {},
   "outputs": [],
   "source": [
    "neu_dist_neu = []\n",
    "neu_dist_mono = []\n",
    "for results in neu_results:\n",
    "    neu_counts_std = []\n",
    "    for labs in results[\"unperturbed_labs\"]:\n",
    "        neu_counts_std.append(Counter(labs[-1])[\"Neutrophil\"]/200)\n",
    "\n",
    "    neu_counts_perturb = []\n",
    "    for labs in results[\"perturbed_labs\"]:\n",
    "        neu_counts_perturb.append(Counter(labs[-1])[\"Neutrophil\"]/200)\n",
    "    \n",
    "    mono_counts_std = []\n",
    "    for labs in results[\"unperturbed_labs\"]:\n",
    "        mono_counts_std.append(Counter(labs[-1])[\"Monocyte\"]/200)\n",
    "\n",
    "    mono_counts_perturb = []\n",
    "    for labs in results[\"perturbed_labs\"]:\n",
    "        mono_counts_perturb.append(Counter(labs[-1])[\"Monocyte\"]/200)\n",
    "    \n",
    "    unperturbed_dist_neu.append(np.array(neu_counts_std))\n",
    "    unperturbed_dist_mono.append(np.array(mono_counts_std))   \n",
    "    neu_dist_neu.append(np.array(neu_counts_perturb))\n",
    "    neu_dist_mono.append(np.array(mono_counts_perturb))\n",
    "    "
   ]
  },
  {
   "cell_type": "code",
   "execution_count": 36,
   "metadata": {},
   "outputs": [],
   "source": [
    "base_dir = \"/data/gl/g2/sachit/data/klein/perturbations/002500/sd_all_mono/\"\n",
    "filenames=os.listdir(base_dir)"
   ]
  },
  {
   "cell_type": "code",
   "execution_count": 37,
   "metadata": {},
   "outputs": [],
   "source": [
    "mono_files = []\n",
    "for elt in filenames:\n",
    "    if \"2_under\" in str(elt) and \"Gilaldi\" not in str(elt):\n",
    "        mono_files.append(elt)"
   ]
  },
  {
   "cell_type": "code",
   "execution_count": 38,
   "metadata": {},
   "outputs": [],
   "source": [
    "mono_genes=[]\n",
    "for name in mono_files:\n",
    "    mono_genes.append(str(name).split(\"_\")[0])\n",
    "mono_genes=np.unique(mono_genes)"
   ]
  },
  {
   "cell_type": "code",
   "execution_count": 39,
   "metadata": {},
   "outputs": [],
   "source": [
    "mono_files.sort()"
   ]
  },
  {
   "cell_type": "code",
   "execution_count": 40,
   "metadata": {},
   "outputs": [
    {
     "data": {
      "text/plain": [
       "['Irf5_2_under.pt', 'Irf8_2_under.pt', 'Klf4_2_under.pt', 'Nr4a1_2_under.pt']"
      ]
     },
     "execution_count": 40,
     "metadata": {},
     "output_type": "execute_result"
    }
   ],
   "source": [
    "mono_files"
   ]
  },
  {
   "cell_type": "code",
   "execution_count": 41,
   "metadata": {},
   "outputs": [],
   "source": [
    "mono_results = []\n",
    "for elt in mono_files:\n",
    "    if elt != \"std.pt\":\n",
    "        results=torch.load(base_dir+str(elt))\n",
    "        mono_results.append(results)"
   ]
  },
  {
   "cell_type": "code",
   "execution_count": 42,
   "metadata": {},
   "outputs": [],
   "source": [
    "mono_dist_neu = []\n",
    "mono_dist_mono = []\n",
    "for results in mono_results:\n",
    "    neu_counts_std = []\n",
    "    for labs in results[\"unperturbed_labs\"]:\n",
    "        neu_counts_std.append(Counter(labs[-1])[\"Neutrophil\"]/200)\n",
    "\n",
    "    neu_counts_perturb = []\n",
    "    for labs in results[\"perturbed_labs\"]:\n",
    "        neu_counts_perturb.append(Counter(labs[-1])[\"Neutrophil\"]/200)\n",
    "    \n",
    "    mono_counts_std = []\n",
    "    for labs in results[\"unperturbed_labs\"]:\n",
    "        mono_counts_std.append(Counter(labs[-1])[\"Monocyte\"]/200)\n",
    "\n",
    "    mono_counts_perturb = []\n",
    "    for labs in results[\"perturbed_labs\"]:\n",
    "        mono_counts_perturb.append(Counter(labs[-1])[\"Monocyte\"]/200)\n",
    "    \n",
    "    unperturbed_dist_neu.append(np.array(neu_counts_std))\n",
    "    unperturbed_dist_mono.append(np.array(mono_counts_std))\n",
    "    mono_dist_neu.append(np.array(neu_counts_perturb))\n",
    "    mono_dist_mono.append(np.array(mono_counts_perturb))"
   ]
  },
  {
   "cell_type": "code",
   "execution_count": 43,
   "metadata": {},
   "outputs": [],
   "source": [
    "unpert=torch.load(\"/data/gl/g2/sachit/data/klein/perturbations/002500/unperturbed.pt\")\n",
    "total_unpert_mono = unpert[\"unperturbed_mono\"]\n",
    "total_unpert_neu = unpert[\"unperturbed_neu\"]"
   ]
  },
  {
   "cell_type": "code",
   "execution_count": 44,
   "metadata": {},
   "outputs": [
    {
     "data": {
      "text/plain": [
       "array(['Irf5', 'Irf8', 'Klf4', 'Nr4a1'], dtype='<U5')"
      ]
     },
     "execution_count": 44,
     "metadata": {},
     "output_type": "execute_result"
    }
   ],
   "source": [
    "mono_genes"
   ]
  },
  {
   "cell_type": "code",
   "execution_count": 45,
   "metadata": {},
   "outputs": [
    {
     "data": {
      "text/plain": [
       "array(['Cebpe', 'Dach1', 'Lmo4', 'Mxd1', 'control1'], dtype='<U8')"
      ]
     },
     "execution_count": 45,
     "metadata": {},
     "output_type": "execute_result"
    }
   ],
   "source": [
    "neu_genes"
   ]
  },
  {
   "cell_type": "code",
   "execution_count": 46,
   "metadata": {},
   "outputs": [
    {
     "data": {
      "text/plain": [
       "(10,)"
      ]
     },
     "execution_count": 46,
     "metadata": {},
     "output_type": "execute_result"
    }
   ],
   "source": [
    "neu_dist_neu[0].shape"
   ]
  },
  {
   "cell_type": "code",
   "execution_count": 47,
   "metadata": {},
   "outputs": [],
   "source": [
    "neu=pd.DataFrame({mono_genes[2]: mono_dist_neu[2],\n",
    "              mono_genes[1]: mono_dist_neu[1],\n",
    "              mono_genes[0]: mono_dist_neu[0],\n",
    "              mono_genes[3]: mono_dist_neu[3], \n",
    "              \"unperturbed\": total_unpert_neu,\n",
    "              \"control\": neu_dist_neu[4],\n",
    "              neu_genes[2]: neu_dist_neu[2],\n",
    "              neu_genes[3]: neu_dist_neu[3],  \n",
    "              neu_genes[1]: neu_dist_neu[1],     \n",
    "              neu_genes[0]: neu_dist_neu[0],\n",
    "             }\n",
    "            )\n",
    "\n",
    "mono=pd.DataFrame({mono_genes[2]: mono_dist_mono[2],\n",
    "              mono_genes[1]: mono_dist_mono[1],\n",
    "              mono_genes[0]: mono_dist_mono[0],\n",
    "              mono_genes[3]: mono_dist_mono[3], \n",
    "              \"unperturbed\": total_unpert_mono,\n",
    "              \"control\": neu_dist_mono[4],\n",
    "              neu_genes[2]: neu_dist_mono[2],\n",
    "              neu_genes[3]: neu_dist_mono[3],  \n",
    "              neu_genes[1]: neu_dist_mono[1],     \n",
    "              neu_genes[0]: neu_dist_mono[0],\n",
    "             }\n",
    "            )"
   ]
  },
  {
   "cell_type": "code",
   "execution_count": 48,
   "metadata": {},
   "outputs": [
    {
     "data": {
      "text/plain": [
       "0    0.243500\n",
       "1    0.243833\n",
       "2    0.237542\n",
       "3    0.236042\n",
       "4    0.238958\n",
       "5    0.243500\n",
       "6    0.237125\n",
       "7    0.236958\n",
       "8    0.239542\n",
       "9    0.244208\n",
       "Name: unperturbed, dtype: float64"
      ]
     },
     "execution_count": 48,
     "metadata": {},
     "output_type": "execute_result"
    }
   ],
   "source": [
    "neu[\"unperturbed\"]"
   ]
  },
  {
   "cell_type": "code",
   "execution_count": 49,
   "metadata": {},
   "outputs": [
    {
     "data": {
      "text/plain": [
       "Text(0, 0.5, 'fraction of neutrophils')"
      ]
     },
     "execution_count": 49,
     "metadata": {},
     "output_type": "execute_result"
    },
    {
     "data": {
      "image/png": "[encoded data removed]",
      "text/plain": [
       "<Figure size 432x288 with 1 Axes>"
      ]
     },
     "metadata": {
      "needs_background": "light"
     },
     "output_type": "display_data"
    }
   ],
   "source": [
    "fig, ax = plt.subplots(figsize=(6,4), sharex=True, sharey=True)\n",
    "sns.set_context(\"talk\")\n",
    "ax.title.set_text(\"Underexpression (z=5)\")\n",
    "mypal=[\"darkgreen\", \"darkgreen\", \"darkgreen\", \"darkgreen\",\"darkgrey\",\"darkgrey\", \"darkorange\", \"darkorange\", \"darkorange\",\"darkorange\"]\n",
    "for j in range(0, 10):\n",
    "    stat, p = scipy.stats.ttest_ind(neu[\"unperturbed\"], neu.iloc[:,j], equal_var=False)\n",
    "    x1, x2 = 0,j\n",
    "    if p < .05:\n",
    "        #y, h, col = neu_dist_norm[i-1].max() + height, 0, 'r'\n",
    "        y=.35\n",
    "        ax.plot(x2, y, \"*\", c=\"r\")\n",
    "g=sns.boxplot(data=neu, palette=mypal)\n",
    "g.set_xticklabels(labels=neu.columns,\n",
    "                  rotation=90)\n",
    "g.set_ylabel(\"fraction of neutrophils\")"
   ]
  },
  {
   "cell_type": "code",
   "execution_count": 50,
   "metadata": {},
   "outputs": [
    {
     "data": {
      "text/plain": [
       "Text(0, 0.5, 'fraction of monocytes')"
      ]
     },
     "execution_count": 50,
     "metadata": {},
     "output_type": "execute_result"
    },
    {
     "data": {
      "image/png": "[encoded data removed]",
      "text/plain": [
       "<Figure size 432x288 with 1 Axes>"
      ]
     },
     "metadata": {
      "needs_background": "light"
     },
     "output_type": "display_data"
    }
   ],
   "source": [
    "fig, ax = plt.subplots(figsize=(6,4), sharex=True, sharey=True)\n",
    "sns.set_context(\"talk\")\n",
    "ax.title.set_text(\"Underexpression (z=5)\")\n",
    "mypal=[\"darkgreen\", \"darkgreen\", \"darkgreen\", \"darkgreen\",\"darkgrey\",\"darkgrey\", \"darkorange\", \"darkorange\", \"darkorange\",\"darkorange\"]\n",
    "for j in range(0, 10):\n",
    "    stat, p = scipy.stats.ttest_ind(mono[\"unperturbed\"], mono.iloc[:,j])\n",
    "    x1, x2 = 0,j\n",
    "    if p < .05:\n",
    "        #y, h, col = neu_dist_norm[i-1].max() + height, 0, 'r'\n",
    "        y=.42\n",
    "        ax.plot(x2, y, \"*\", c=\"r\")\n",
    "g=sns.boxplot(data=mono, palette=mypal)\n",
    "g.set_xticklabels(labels=mono.columns,\n",
    "                  rotation=90)\n",
    "g.set_ylabel(\"fraction of monocytes\")"
   ]
  },
  {
   "cell_type": "markdown",
   "metadata": {},
   "source": [
    "# Deprecated"
   ]
  },
  {
   "cell_type": "code",
   "execution_count": null,
   "metadata": {},
   "outputs": [],
   "source": [
    "colours=[]\n",
    "for i in range(0,len(a.columns),2):\n",
    "    colours.append(\"mediumaquamarine\")\n",
    "    colours.append(\"olive\")"
   ]
  },
  {
   "cell_type": "code",
   "execution_count": null,
   "metadata": {},
   "outputs": [],
   "source": [
    "a.columns"
   ]
  },
  {
   "cell_type": "code",
   "execution_count": null,
   "metadata": {},
   "outputs": [],
   "source": [
    "labels=[]\n",
    "for i in range(0,len(a.columns), 2):\n",
    "    labels.append(a.columns[i].split(\"_\")[0])\n",
    "    labels.append(\"\")"
   ]
  },
  {
   "cell_type": "code",
   "execution_count": null,
   "metadata": {},
   "outputs": [],
   "source": [
    "labels"
   ]
  },
  {
   "cell_type": "code",
   "execution_count": 354,
   "metadata": {},
   "outputs": [],
   "source": [
    "labels=[labels[0],\n",
    "        labels[1],\n",
    "        labels[2],\n",
    "        labels[3],\n",
    "        labels[4],\n",
    "        labels[5],\n",
    "        labels[6],\n",
    "        labels[7],\n",
    "        labels[10],\n",
    "        labels[9],\n",
    "        labels[8], \n",
    "        labels[11],\n",
    "       labels[12],\n",
    "       labels[13],\n",
    "       labels[14],\n",
    "       labels[15]]"
   ]
  },
  {
   "cell_type": "code",
   "execution_count": 376,
   "metadata": {},
   "outputs": [],
   "source": [
    "mono.to_csv(\"/data/gl/g2/sachit/data/klein/perturbations/002500/individual_dfs/monocyte_fractions_2_over.csv\")\n",
    "neu.to_csv(\"/data/gl/g2/sachit/data/klein/perturbations/002500/individual_dfs/neutrophil_fractions_2_over.csv\")"
   ]
  },
  {
   "cell_type": "code",
   "execution_count": 355,
   "metadata": {},
   "outputs": [
    {
     "data": {
      "text/plain": [
       "([<matplotlib.axis.XTick at 0x7f163ec1b850>,\n",
       "  <matplotlib.axis.XTick at 0x7f1650904890>,\n",
       "  <matplotlib.axis.XTick at 0x7f165092ef10>,\n",
       "  <matplotlib.axis.XTick at 0x7f165707d510>,\n",
       "  <matplotlib.axis.XTick at 0x7f165707da90>,\n",
       "  <matplotlib.axis.XTick at 0x7f165707d210>,\n",
       "  <matplotlib.axis.XTick at 0x7f165707d5d0>,\n",
       "  <matplotlib.axis.XTick at 0x7f16566170d0>,\n",
       "  <matplotlib.axis.XTick at 0x7f1656617c90>,\n",
       "  <matplotlib.axis.XTick at 0x7f16566202d0>,\n",
       "  <matplotlib.axis.XTick at 0x7f1656620790>,\n",
       "  <matplotlib.axis.XTick at 0x7f1656620d90>,\n",
       "  <matplotlib.axis.XTick at 0x7f163f806410>,\n",
       "  <matplotlib.axis.XTick at 0x7f163f806a50>,\n",
       "  <matplotlib.axis.XTick at 0x7f163f806d90>,\n",
       "  <matplotlib.axis.XTick at 0x7f163f811710>],\n",
       " <a list of 16 Text xticklabel objects>)"
      ]
     },
     "execution_count": 355,
     "metadata": {},
     "output_type": "execute_result"
    },
    {
     "data": {
      "image/png": "[encoded data removed]",
      "text/plain": [
       "<Figure size 576x576 with 1 Axes>"
      ]
     },
     "metadata": {},
     "output_type": "display_data"
    }
   ],
   "source": [
    "sns.set_context(\"talk\")\n",
    "fig = plt.figure(figsize=(8,8))\n",
    "ax = plt.subplot(111)\n",
    "g=sns.barplot(data=a, orient=\"v\", palette=colours)\n",
    "g.set_xticklabels(labels=labels,rotation=90)\n",
    "ax.set_ylabel(\"proportion of cell type\")\n",
    "#ax.axis('off')\n",
    "#ax.get_yaxis().set_visible(False)\n",
    "plt.xticks(np.arange(0.5, len(labels), step=1))"
   ]
  },
  {
   "cell_type": "code",
   "execution_count": 209,
   "metadata": {
    "jupyter": {
     "source_hidden": true
    }
   },
   "outputs": [],
   "source": [
    "sad=pd.DataFrame({\"neutrophil\":[1,2], \"monocyte\":[4,2]})"
   ]
  },
  {
   "cell_type": "code",
   "execution_count": 218,
   "metadata": {
    "collapsed": true,
    "jupyter": {
     "outputs_hidden": true,
     "source_hidden": true
    }
   },
   "outputs": [
    {
     "ename": "SyntaxError",
     "evalue": "positional argument follows keyword argument (<ipython-input-218-d7b8cab98dac>, line 2)",
     "output_type": "error",
     "traceback": [
      "\u001b[0;36m  File \u001b[0;32m\"<ipython-input-218-d7b8cab98dac>\"\u001b[0;36m, line \u001b[0;32m2\u001b[0m\n\u001b[0;31m    sns.lineplot(data=sad,\"-\", palette=[\"green\", \"lightgreen\"])\u001b[0m\n\u001b[0m                         ^\u001b[0m\n\u001b[0;31mSyntaxError\u001b[0m\u001b[0;31m:\u001b[0m positional argument follows keyword argument\n"
     ]
    }
   ],
   "source": [
    "fig = plt.figure(figsize=(10,5))\n",
    "sns.lineplot(data=sad,\"-\", palette=[\"green\", \"lightgreen\"])\n",
    "plt.legend(labels=sad.columns)"
   ]
  }
 ],
 "metadata": {
  "kernelspec": {
   "display_name": "Python 3",
   "language": "python",
   "name": "python3"
  },
  "language_info": {
   "codemirror_mode": {
    "name": "ipython",
    "version": 3
   },
   "file_extension": ".py",
   "mimetype": "text/x-python",
   "name": "python",
   "nbconvert_exporter": "python",
   "pygments_lexer": "ipython3",
   "version": "3.7.8"
  }
 },
 "nbformat": 4,
 "nbformat_minor": 4
}
