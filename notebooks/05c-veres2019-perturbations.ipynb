{
 "cells": [
  {
   "cell_type": "markdown",
   "metadata": {},
   "source": [
    "# General endocrine induction"
   ]
  },
  {
   "cell_type": "code",
   "execution_count": 118,
   "metadata": {},
   "outputs": [],
   "source": [
    "import warnings\n",
    "warnings.filterwarnings('ignore')\n",
    "\n",
    "import warnings\n",
    "warnings.filterwarnings('ignore')\n",
    "\n",
    "import os\n",
    "import numpy as np\n",
    "import pandas as pd\n",
    "import sklearn\n",
    "import umap\n",
    "import matplotlib.pyplot as plt\n",
    "import scipy\n",
    "import seaborn as sns\n",
    "from collections import Counter\n",
    "\n",
    "import torch\n",
    "device = torch.device('cuda:0' if torch.cuda.is_available() else 'cpu')"
   ]
  },
  {
   "cell_type": "markdown",
   "metadata": {},
   "source": [
    "# Day 0"
   ]
  },
  {
   "cell_type": "markdown",
   "metadata": {},
   "source": [
    "## Endocrine factors overexpression"
   ]
  },
  {
   "cell_type": "code",
   "execution_count": 119,
   "metadata": {},
   "outputs": [],
   "source": [
    "base_dir = \"/data/gl/g2/sachit/data/veres/perturbations/2_400_kegg_001500_seed_1_real/endocrine_axis/d0/\"\n",
    "filenames=os.listdir(base_dir)"
   ]
  },
  {
   "cell_type": "code",
   "execution_count": 120,
   "metadata": {},
   "outputs": [],
   "source": [
    "filenames.sort()"
   ]
  },
  {
   "cell_type": "code",
   "execution_count": 121,
   "metadata": {},
   "outputs": [],
   "source": [
    "filenames=[filenames[30],filenames[32],filenames[34]]"
   ]
  },
  {
   "cell_type": "code",
   "execution_count": 122,
   "metadata": {},
   "outputs": [
    {
     "data": {
      "text/plain": [
       "['endocrine_0_over.pt', 'endocrine_1_over.pt', 'endocrine_2_over.pt']"
      ]
     },
     "execution_count": 122,
     "metadata": {},
     "output_type": "execute_result"
    }
   ],
   "source": [
    "filenames"
   ]
  },
  {
   "cell_type": "code",
   "execution_count": 123,
   "metadata": {},
   "outputs": [],
   "source": [
    "genes=[]\n",
    "for name in filenames:\n",
    "    genes.append(str(name).split(\"_\")[0])\n",
    "genes=np.unique(genes)"
   ]
  },
  {
   "cell_type": "code",
   "execution_count": 124,
   "metadata": {},
   "outputs": [],
   "source": [
    "all_results = []\n",
    "for elt in filenames:\n",
    "    if elt != \"std.pt\":\n",
    "        results=torch.load(base_dir+str(elt))\n",
    "        all_results.append(results)"
   ]
  },
  {
   "cell_type": "code",
   "execution_count": 125,
   "metadata": {},
   "outputs": [],
   "source": [
    "endo_dist = []\n",
    "exo_dist = []\n",
    "alpha_dist = []\n",
    "for results in all_results:\n",
    "    endo_counts_std = []\n",
    "    for labs in results[\"unperturbed_labs\"]:\n",
    "        tot=Counter(labs[-1])[\"sc_beta\"]+Counter(labs[-1])[\"sc_ec\"]+Counter(labs[-1])[\"sc_alpha\"]+Counter(labs[-1])[\"fev_high_isl_low\"]+Counter(labs[-1])[\"neurog3_late\"]+Counter(labs[-1])[\"neurog3_mid\"]+Counter(labs[-1])[\"phox2a\"]+Counter(labs[-1])[\"sst_hhex\"]\n",
    "        endo_counts_std.append(tot/200)\n",
    "\n",
    "    endo_counts_perturb = []\n",
    "    for labs in results[\"perturbed_labs\"]:\n",
    "        tot=Counter(labs[-1])[\"sc_beta\"]+Counter(labs[-1])[\"sc_ec\"]+Counter(labs[-1])[\"sc_alpha\"]+Counter(labs[-1])[\"fev_high_isl_low\"]+Counter(labs[-1])[\"neurog3_late\"]+Counter(labs[-1])[\"neurog3_mid\"]+Counter(labs[-1])[\"phox2a\"]+Counter(labs[-1])[\"sst_hhex\"]\n",
    "        endo_counts_perturb.append(tot/200)\n",
    "    \n",
    "    exo_counts_std = []\n",
    "    for labs in results[\"unperturbed_labs\"]:\n",
    "        tot=Counter(labs[-1])[\"exo\"]\n",
    "        exo_counts_std.append(tot/200)\n",
    "\n",
    "    exo_counts_perturb = []\n",
    "    for labs in results[\"perturbed_labs\"]:\n",
    "        tot=Counter(labs[-1])[\"exo\"]\n",
    "        exo_counts_perturb.append(tot/200)\n",
    "\n",
    "        \n",
    "    endo_dist.append(np.array([endo_counts_std, endo_counts_perturb]))\n",
    "    exo_dist.append(np.array([exo_counts_std, exo_counts_perturb]))\n",
    "    "
   ]
  },
  {
   "cell_type": "code",
   "execution_count": 126,
   "metadata": {},
   "outputs": [],
   "source": [
    "test=np.array(endo_dist)"
   ]
  },
  {
   "cell_type": "code",
   "execution_count": 127,
   "metadata": {},
   "outputs": [],
   "source": [
    "unpert_average=np.concatenate(test[:,0],axis=0) #np.average(test[:,0],axis=0)"
   ]
  },
  {
   "cell_type": "code",
   "execution_count": 128,
   "metadata": {},
   "outputs": [
    {
     "data": {
      "text/plain": [
       "array([0.505, 0.525, 0.52 , 0.485, 0.485, 0.51 , 0.495, 0.515, 0.53 ,\n",
       "       0.455])"
      ]
     },
     "execution_count": 128,
     "metadata": {},
     "output_type": "execute_result"
    }
   ],
   "source": [
    "endo_dist[0][1]"
   ]
  },
  {
   "cell_type": "code",
   "execution_count": 129,
   "metadata": {},
   "outputs": [
    {
     "name": "stdout",
     "output_type": "stream",
     "text": [
      "0\n"
     ]
    }
   ],
   "source": [
    "endo_dist_all =[]\n",
    "for i in range(0,len(filenames), 3):\n",
    "    print(i)\n",
    "    endo_dist_norm = [unpert_average]\n",
    "    for _ in range(1):\n",
    "        endo_dist_norm.append(endo_dist[i][1])\n",
    "        endo_dist_norm.append(endo_dist[i+1][1])\n",
    "        endo_dist_norm.append(endo_dist[i+2][1])\n",
    "    endo_dist_all.append(endo_dist_norm)"
   ]
  },
  {
   "cell_type": "code",
   "execution_count": 130,
   "metadata": {},
   "outputs": [
    {
     "name": "stdout",
     "output_type": "stream",
     "text": [
      "0.0025374717495534435\n",
      "0.030500000000000027\n",
      "8.95894286607569e-19\n",
      "0.13700000000000007\n",
      "1.732949716827912e-11\n",
      "0.23299999999999993\n"
     ]
    },
    {
     "data": {
      "image/png": "[encoded data removed]",
      "text/plain": [
       "<Figure size 360x288 with 1 Axes>"
      ]
     },
     "metadata": {},
     "output_type": "display_data"
    }
   ],
   "source": [
    "fig, ax = plt.subplots(figsize=(5,4), sharex=True, sharey=True)#len(filenames)/3, figsize=(10,20))\n",
    "sns.set_context(\"talk\")\n",
    "sns.set_style(\"white\")\n",
    "mypal=[\"lightgrey\",\"sandybrown\",\"sienna\",\"brown\"]\n",
    "#mypal=[\"lightgrey\",\"honeydew\", \"palegreen\", \"forestgreen\"]\n",
    "#mypal=[\"lightgrey\",\"white\", \"lightgray\", \"darkgray\"]\n",
    "ax.set_title(\"Ensemble of \"+results[\"perturbed_genes\"])\n",
    "#ax.set_ylim(0.4,0.7)\n",
    "for j in range(1, 4):\n",
    "    #stat, p = scipy.stats.mannwhitneyu(neu_dist_all[i][0], neu_dist_all[i][j], alternative=\"greater\")\n",
    "    stat, p = scipy.stats.ttest_ind(endo_dist_all[i][0], endo_dist_all[i][j], equal_var=False)\n",
    "    print(p)\n",
    "    print(np.average(endo_dist_all[i][j])-np.average(endo_dist_all[i][0]))\n",
    "    x1, x2 = 0,j\n",
    "    if p < .05:\n",
    "        y=.8\n",
    "        ax.plot(x2, y, \"*\", c=\"r\")\n",
    "box=sns.boxplot(data=np.array(endo_dist_all[0]).T, ax=ax, palette=mypal)\n",
    "box.set_xticklabels([\"unperturbed\", \"2\",\"5\",\"10\"])\n",
    "box.set_ylabel(\"fraction of endocrine cells\")\n",
    "ax.set_xlabel(\"z-score\")\n",
    "plt.show()"
   ]
  },
  {
   "cell_type": "code",
   "execution_count": 131,
   "metadata": {},
   "outputs": [],
   "source": [
    "test=np.array(exo_dist)"
   ]
  },
  {
   "cell_type": "code",
   "execution_count": 132,
   "metadata": {},
   "outputs": [],
   "source": [
    "unpert_average=np.concatenate(test[:,0],axis=0)"
   ]
  },
  {
   "cell_type": "code",
   "execution_count": 133,
   "metadata": {},
   "outputs": [],
   "source": [
    "exo_dist_all =[]\n",
    "for i in range(1):\n",
    "    exo_dist_norm = [unpert_average]\n",
    "    for _ in range(1):\n",
    "        exo_dist_norm.append(exo_dist[i][1])\n",
    "        exo_dist_norm.append(exo_dist[i+1][1])\n",
    "        exo_dist_norm.append(exo_dist[i+2][1])\n",
    "    exo_dist_all.append(exo_dist_norm)"
   ]
  },
  {
   "cell_type": "code",
   "execution_count": 134,
   "metadata": {},
   "outputs": [
    {
     "data": {
      "image/png": "[encoded data removed]",
      "text/plain": [
       "<Figure size 360x288 with 1 Axes>"
      ]
     },
     "metadata": {},
     "output_type": "display_data"
    }
   ],
   "source": [
    "fig, ax = plt.subplots(figsize=(5,4), sharex=True, sharey=True)#len(filenames)/3, figsize=(10,20))\n",
    "sns.set_context(\"talk\")\n",
    "sns.set_style(\"white\")\n",
    "#mypal=[\"lightgrey\",\"honeydew\", \"palegreen\", \"forestgreen\"]\n",
    "mypal=[\"lightgrey\",\"sandybrown\",\"sienna\",\"brown\"]\n",
    "#mypal=[\"lightgrey\",\"white\", \"lightgray\", \"darkgray\"]\n",
    "ax.set_title(\"Ensemble of \"+results[\"perturbed_genes\"])\n",
    "#ax.set_ylim(0.2,0.45)\n",
    "#stat, p = scipy.stats.mannwhitneyu(neu_dist_all[i][0], neu_dist_all[i][j], alternative=\"greater\")\n",
    "stat, p = scipy.stats.ttest_ind(exo_dist_all[0][0], exo_dist_all[0][3])\n",
    "x1, x2 = 0,1\n",
    "for j in range(1, 4):\n",
    "    #stat, p = scipy.stats.mannwhitneyu(neu_dist_all[i][0], neu_dist_all[i][j], alternative=\"greater\")\n",
    "    stat, p = scipy.stats.ttest_ind(endo_dist_all[i][0], endo_dist_all[i][j], equal_var=False)\n",
    "    x1, x2 = 0,j\n",
    "    if p < .05:\n",
    "        y=.65\n",
    "        ax.plot(x2, y, \"*\", c=\"r\")\n",
    "box=sns.boxplot(data=np.array(exo_dist_all[0]).T, ax=ax, palette=mypal)\n",
    "box.set_xticklabels([\"unperturbed\",\"2\",\"5\",\"10\"])\n",
    "box.set_ylabel(\"fraction of non-endocrine cells\")\n",
    "ax.set_xlabel(\"z-score\")\n",
    "plt.show()"
   ]
  },
  {
   "cell_type": "markdown",
   "metadata": {},
   "source": [
    "## Exocrine factors overexpression"
   ]
  },
  {
   "cell_type": "code",
   "execution_count": 135,
   "metadata": {},
   "outputs": [],
   "source": [
    "base_dir = \"/data/gl/g2/sachit/data/veres/perturbations/2_400_kegg_001500_seed_1_real/endocrine_axis/d0/\"\n",
    "filenames=os.listdir(base_dir)"
   ]
  },
  {
   "cell_type": "code",
   "execution_count": 136,
   "metadata": {},
   "outputs": [],
   "source": [
    "filenames.sort()"
   ]
  },
  {
   "cell_type": "code",
   "execution_count": 137,
   "metadata": {},
   "outputs": [],
   "source": [
    "#filenames=[filenames[31],filenames[33],filenames[35]]\n",
    "filenames=[filenames[36],filenames[38],filenames[40]]"
   ]
  },
  {
   "cell_type": "code",
   "execution_count": 138,
   "metadata": {},
   "outputs": [
    {
     "data": {
      "text/plain": [
       "['exocrine_0_over.pt', 'exocrine_1_over.pt', 'exocrine_2_over.pt']"
      ]
     },
     "execution_count": 138,
     "metadata": {},
     "output_type": "execute_result"
    }
   ],
   "source": [
    "filenames"
   ]
  },
  {
   "cell_type": "code",
   "execution_count": 139,
   "metadata": {},
   "outputs": [],
   "source": [
    "genes=[]\n",
    "for name in filenames:\n",
    "    genes.append(str(name).split(\"_\")[0])\n",
    "genes=np.unique(genes)"
   ]
  },
  {
   "cell_type": "code",
   "execution_count": 140,
   "metadata": {},
   "outputs": [],
   "source": [
    "all_results = []\n",
    "for elt in filenames:\n",
    "    if elt != \"std.pt\":\n",
    "        results=torch.load(base_dir+str(elt))\n",
    "        all_results.append(results)"
   ]
  },
  {
   "cell_type": "code",
   "execution_count": 141,
   "metadata": {},
   "outputs": [],
   "source": [
    "endo_dist = []\n",
    "exo_dist = []\n",
    "alpha_dist = []\n",
    "for results in all_results:\n",
    "    endo_counts_std = []\n",
    "    for labs in results[\"unperturbed_labs\"]:\n",
    "        tot=Counter(labs[-1])[\"sc_beta\"]+Counter(labs[-1])[\"sc_ec\"]+Counter(labs[-1])[\"sc_alpha\"]+Counter(labs[-1])[\"fev_high_isl_low\"]+Counter(labs[-1])[\"neurog3_late\"]+Counter(labs[-1])[\"neurog3_mid\"]+Counter(labs[-1])[\"phox2a\"]+Counter(labs[-1])[\"sst_hhex\"]\n",
    "        endo_counts_std.append(tot/200)\n",
    "\n",
    "    endo_counts_perturb = []\n",
    "    for labs in results[\"perturbed_labs\"]:\n",
    "        tot=Counter(labs[-1])[\"sc_beta\"]+Counter(labs[-1])[\"sc_ec\"]+Counter(labs[-1])[\"sc_alpha\"]+Counter(labs[-1])[\"fev_high_isl_low\"]+Counter(labs[-1])[\"neurog3_late\"]+Counter(labs[-1])[\"neurog3_mid\"]+Counter(labs[-1])[\"phox2a\"]+Counter(labs[-1])[\"sst_hhex\"]\n",
    "        endo_counts_perturb.append(tot/200)\n",
    "    \n",
    "    exo_counts_std = []\n",
    "    for labs in results[\"unperturbed_labs\"]:\n",
    "        tot=Counter(labs[-1])[\"exo\"]\n",
    "        exo_counts_std.append(tot/200)\n",
    "\n",
    "    exo_counts_perturb = []\n",
    "    for labs in results[\"perturbed_labs\"]:\n",
    "        tot=Counter(labs[-1])[\"exo\"]\n",
    "        exo_counts_perturb.append(tot/200)\n",
    "\n",
    "        \n",
    "    endo_dist.append(np.array([endo_counts_std, endo_counts_perturb]))\n",
    "    exo_dist.append(np.array([exo_counts_std, exo_counts_perturb]))\n",
    "    "
   ]
  },
  {
   "cell_type": "code",
   "execution_count": 142,
   "metadata": {},
   "outputs": [],
   "source": [
    "test=np.array(endo_dist)"
   ]
  },
  {
   "cell_type": "code",
   "execution_count": 143,
   "metadata": {},
   "outputs": [],
   "source": [
    "unpert_average=np.concatenate(test[:,0],axis=0) #np.average(test[:,0],axis=0)"
   ]
  },
  {
   "cell_type": "code",
   "execution_count": 144,
   "metadata": {},
   "outputs": [
    {
     "data": {
      "text/plain": [
       "array([0.51 , 0.5  , 0.445, 0.485, 0.425, 0.45 , 0.45 , 0.47 , 0.44 ,\n",
       "       0.525])"
      ]
     },
     "execution_count": 144,
     "metadata": {},
     "output_type": "execute_result"
    }
   ],
   "source": [
    "endo_dist[0][1]"
   ]
  },
  {
   "cell_type": "code",
   "execution_count": 145,
   "metadata": {},
   "outputs": [
    {
     "name": "stdout",
     "output_type": "stream",
     "text": [
      "0\n"
     ]
    }
   ],
   "source": [
    "endo_dist_all =[]\n",
    "for i in range(0,len(filenames), 3):\n",
    "    print(i)\n",
    "    endo_dist_norm = [unpert_average]\n",
    "    for _ in range(1):\n",
    "        endo_dist_norm.append(endo_dist[i][1])\n",
    "        endo_dist_norm.append(endo_dist[i+1][1])\n",
    "        endo_dist_norm.append(endo_dist[i+2][1])\n",
    "    endo_dist_all.append(endo_dist_norm)"
   ]
  },
  {
   "cell_type": "code",
   "execution_count": 146,
   "metadata": {},
   "outputs": [
    {
     "name": "stdout",
     "output_type": "stream",
     "text": [
      "0.5210195450988917\n",
      "-0.008000000000000007\n",
      "0.15139331951507717\n",
      "-0.02100000000000002\n",
      "0.00026396330796732355\n",
      "-0.04299999999999998\n"
     ]
    },
    {
     "data": {
      "image/png": "[encoded data removed]",
      "text/plain": [
       "<Figure size 360x288 with 1 Axes>"
      ]
     },
     "metadata": {},
     "output_type": "display_data"
    }
   ],
   "source": [
    "fig, ax = plt.subplots(figsize=(5,4), sharex=True, sharey=True)#len(filenames)/3, figsize=(10,20))\n",
    "sns.set_context(\"talk\")\n",
    "sns.set_style(\"white\")\n",
    "#mypal=[\"lightgrey\",\"sandybrown\",\"sienna\",\"brown\"]\n",
    "mypal=[\"lightgrey\",\"honeydew\", \"palegreen\", \"forestgreen\"]\n",
    "#mypal=[\"lightgrey\",\"white\", \"lightgray\", \"darkgray\"]\n",
    "ax.set_title(\"Ensemble of \"+results[\"perturbed_genes\"])\n",
    "#ax.set_ylim(0.4,0.7)\n",
    "for j in range(1, 4):\n",
    "    #stat, p = scipy.stats.mannwhitneyu(neu_dist_all[i][0], neu_dist_all[i][j], alternative=\"greater\")\n",
    "    stat, p = scipy.stats.ttest_ind(endo_dist_all[i][0], endo_dist_all[i][j], equal_var=False)\n",
    "    print(p)\n",
    "    print(np.average(endo_dist_all[i][j])-np.average(endo_dist_all[i][0]))\n",
    "    x1, x2 = 0,j\n",
    "    if p < .05:\n",
    "        y=.57\n",
    "        ax.plot(x2, y, \"*\", c=\"r\")\n",
    "box=sns.boxplot(data=np.array(endo_dist_all[0]).T, ax=ax, palette=mypal)\n",
    "box.set_xticklabels([\"unperturbed\", \"2\",\"5\",\"10\"])\n",
    "box.set_ylabel(\"fraction of endocrine cells\")\n",
    "ax.set_xlabel(\"z-score\")\n",
    "plt.show()"
   ]
  },
  {
   "cell_type": "code",
   "execution_count": 147,
   "metadata": {},
   "outputs": [],
   "source": [
    "test=np.array(exo_dist)"
   ]
  },
  {
   "cell_type": "code",
   "execution_count": 148,
   "metadata": {},
   "outputs": [],
   "source": [
    "unpert_average=np.concatenate(test[:,0],axis=0)"
   ]
  },
  {
   "cell_type": "code",
   "execution_count": 149,
   "metadata": {},
   "outputs": [],
   "source": [
    "exo_dist_all =[]\n",
    "for i in range(1):\n",
    "    exo_dist_norm = [unpert_average]\n",
    "    for _ in range(1):\n",
    "        exo_dist_norm.append(exo_dist[i][1])\n",
    "        exo_dist_norm.append(exo_dist[i+1][1])\n",
    "        exo_dist_norm.append(exo_dist[i+2][1])\n",
    "    exo_dist_all.append(exo_dist_norm)"
   ]
  },
  {
   "cell_type": "code",
   "execution_count": 150,
   "metadata": {},
   "outputs": [
    {
     "data": {
      "image/png": "[encoded data removed]",
      "text/plain": [
       "<Figure size 360x288 with 1 Axes>"
      ]
     },
     "metadata": {},
     "output_type": "display_data"
    }
   ],
   "source": [
    "fig, ax = plt.subplots(figsize=(5,4), sharex=True, sharey=True)#len(filenames)/3, figsize=(10,20))\n",
    "sns.set_context(\"talk\")\n",
    "sns.set_style(\"white\")\n",
    "mypal=[\"lightgrey\",\"honeydew\", \"palegreen\", \"forestgreen\"]\n",
    "#mypal=[\"lightgrey\",\"sandybrown\",\"sienna\",\"brown\"]\n",
    "#mypal=[\"lightgrey\",\"white\", \"lightgray\", \"darkgray\"]\n",
    "ax.set_title(\"Ensemble of \"+results[\"perturbed_genes\"])\n",
    "#ax.set_ylim(0.2,0.45)\n",
    "#stat, p = scipy.stats.mannwhitneyu(neu_dist_all[i][0], neu_dist_all[i][j], alternative=\"greater\")\n",
    "stat, p = scipy.stats.ttest_ind(exo_dist_all[0][0], exo_dist_all[0][3])\n",
    "x1, x2 = 0,1\n",
    "for j in range(1, 4):\n",
    "    #stat, p = scipy.stats.mannwhitneyu(neu_dist_all[i][0], neu_dist_all[i][j], alternative=\"greater\")\n",
    "    stat, p = scipy.stats.ttest_ind(endo_dist_all[i][0], endo_dist_all[i][j], equal_var=False)\n",
    "    x1, x2 = 0,j\n",
    "    if p < .05:\n",
    "        y=.6\n",
    "        ax.plot(x2, y, \"*\", c=\"r\")\n",
    "box=sns.boxplot(data=np.array(exo_dist_all[0]).T, ax=ax, palette=mypal)\n",
    "box.set_xticklabels([\"unperturbed\", \"-0.5\",\"-1\",\"-2.5\"])\n",
    "box.set_ylabel(\"fraction of non-endocrine cells\")\n",
    "ax.set_xlabel(\"z-score\")\n",
    "plt.show()"
   ]
  },
  {
   "cell_type": "markdown",
   "metadata": {},
   "source": [
    "# Day 4"
   ]
  },
  {
   "cell_type": "markdown",
   "metadata": {},
   "source": [
    "## Endocrine factors overexpression"
   ]
  },
  {
   "cell_type": "code",
   "execution_count": 151,
   "metadata": {},
   "outputs": [],
   "source": [
    "base_dir = \"/data/gl/g2/sachit/data/veres/perturbations/2_400_kegg_001500_seed_1_real/endocrine_axis/d4/\"\n",
    "filenames=os.listdir(base_dir)"
   ]
  },
  {
   "cell_type": "code",
   "execution_count": 152,
   "metadata": {},
   "outputs": [],
   "source": [
    "filenames.sort()"
   ]
  },
  {
   "cell_type": "code",
   "execution_count": 153,
   "metadata": {},
   "outputs": [],
   "source": [
    "filenames=[filenames[30],filenames[32],filenames[34]]"
   ]
  },
  {
   "cell_type": "code",
   "execution_count": 154,
   "metadata": {},
   "outputs": [
    {
     "data": {
      "text/plain": [
       "['endocrine_0_over.pt', 'endocrine_1_over.pt', 'endocrine_2_over.pt']"
      ]
     },
     "execution_count": 154,
     "metadata": {},
     "output_type": "execute_result"
    }
   ],
   "source": [
    "filenames"
   ]
  },
  {
   "cell_type": "code",
   "execution_count": 155,
   "metadata": {},
   "outputs": [],
   "source": [
    "genes=[]\n",
    "for name in filenames:\n",
    "    genes.append(str(name).split(\"_\")[0])\n",
    "genes=np.unique(genes)"
   ]
  },
  {
   "cell_type": "code",
   "execution_count": 156,
   "metadata": {},
   "outputs": [],
   "source": [
    "all_results = []\n",
    "for elt in filenames:\n",
    "    if elt != \"std.pt\":\n",
    "        results=torch.load(base_dir+str(elt))\n",
    "        all_results.append(results)"
   ]
  },
  {
   "cell_type": "code",
   "execution_count": 157,
   "metadata": {},
   "outputs": [],
   "source": [
    "endo_dist = []\n",
    "exo_dist = []\n",
    "alpha_dist = []\n",
    "for results in all_results:\n",
    "    endo_counts_std = []\n",
    "    for labs in results[\"unperturbed_labs\"]:\n",
    "        tot=Counter(labs[-1])[\"sc_beta\"]+Counter(labs[-1])[\"sc_ec\"]+Counter(labs[-1])[\"sc_alpha\"]+Counter(labs[-1])[\"fev_high_isl_low\"]+Counter(labs[-1])[\"neurog3_late\"]+Counter(labs[-1])[\"neurog3_mid\"]+Counter(labs[-1])[\"phox2a\"]+Counter(labs[-1])[\"sst_hhex\"]\n",
    "        endo_counts_std.append(tot/200)\n",
    "\n",
    "    endo_counts_perturb = []\n",
    "    for labs in results[\"perturbed_labs\"]:\n",
    "        tot=Counter(labs[-1])[\"sc_beta\"]+Counter(labs[-1])[\"sc_ec\"]+Counter(labs[-1])[\"sc_alpha\"]+Counter(labs[-1])[\"fev_high_isl_low\"]+Counter(labs[-1])[\"neurog3_late\"]+Counter(labs[-1])[\"neurog3_mid\"]+Counter(labs[-1])[\"phox2a\"]+Counter(labs[-1])[\"sst_hhex\"]\n",
    "        endo_counts_perturb.append(tot/200)\n",
    "    \n",
    "    exo_counts_std = []\n",
    "    for labs in results[\"unperturbed_labs\"]:\n",
    "        tot=Counter(labs[-1])[\"exo\"]\n",
    "        exo_counts_std.append(tot/200)\n",
    "\n",
    "    exo_counts_perturb = []\n",
    "    for labs in results[\"perturbed_labs\"]:\n",
    "        tot=Counter(labs[-1])[\"exo\"]\n",
    "        exo_counts_perturb.append(tot/200)\n",
    "\n",
    "        \n",
    "    endo_dist.append(np.array([endo_counts_std, endo_counts_perturb]))\n",
    "    exo_dist.append(np.array([exo_counts_std, exo_counts_perturb]))\n",
    "    "
   ]
  },
  {
   "cell_type": "code",
   "execution_count": 158,
   "metadata": {},
   "outputs": [],
   "source": [
    "test=np.array(endo_dist)"
   ]
  },
  {
   "cell_type": "code",
   "execution_count": 159,
   "metadata": {},
   "outputs": [],
   "source": [
    "unpert_average=np.concatenate(test[:,0],axis=0) "
   ]
  },
  {
   "cell_type": "code",
   "execution_count": 160,
   "metadata": {},
   "outputs": [
    {
     "data": {
      "text/plain": [
       "array([0.545, 0.57 , 0.55 , 0.56 , 0.55 , 0.535, 0.57 , 0.595, 0.59 ,\n",
       "       0.515])"
      ]
     },
     "execution_count": 160,
     "metadata": {},
     "output_type": "execute_result"
    }
   ],
   "source": [
    "endo_dist[0][0]"
   ]
  },
  {
   "cell_type": "code",
   "execution_count": 161,
   "metadata": {},
   "outputs": [
    {
     "name": "stdout",
     "output_type": "stream",
     "text": [
      "0\n"
     ]
    }
   ],
   "source": [
    "endo_dist_all =[]\n",
    "for i in range(0,len(filenames), 3):\n",
    "    print(i)\n",
    "    endo_dist_norm = [unpert_average]\n",
    "    for _ in range(1):\n",
    "        endo_dist_norm.append(endo_dist[i][1])\n",
    "        endo_dist_norm.append(endo_dist[i+1][1])\n",
    "        endo_dist_norm.append(endo_dist[i+2][1])\n",
    "    endo_dist_all.append(endo_dist_norm)"
   ]
  },
  {
   "cell_type": "code",
   "execution_count": 163,
   "metadata": {},
   "outputs": [
    {
     "name": "stdout",
     "output_type": "stream",
     "text": [
      "0.15828237318286512\n",
      "0.01533333333333331\n",
      "0.6614913493818237\n",
      "0.005833333333333357\n",
      "0.8594522878372989\n",
      "-0.002666666666666595\n"
     ]
    },
    {
     "data": {
      "image/png": "[encoded data removed]",
      "text/plain": [
       "<Figure size 360x288 with 1 Axes>"
      ]
     },
     "metadata": {},
     "output_type": "display_data"
    }
   ],
   "source": [
    "fig, ax = plt.subplots(figsize=(5,4), sharex=True, sharey=True)#len(filenames)/3, figsize=(10,20))\n",
    "sns.set_context(\"talk\")\n",
    "sns.set_style(\"white\")\n",
    "mypal=[\"lightgrey\",\"sandybrown\",\"sienna\",\"brown\"]\n",
    "#mypal=[\"lightgrey\",\"honeydew\", \"palegreen\", \"forestgreen\"]\n",
    "#mypal=[\"lightgrey\",\"white\", \"lightgray\", \"darkgray\"]\n",
    "ax.set_title(\"Ensemble of \"+results[\"perturbed_genes\"])\n",
    "#ax.set_ylim(0.4,0.7)\n",
    "for j in range(1, 4):\n",
    "    #stat, p = scipy.stats.mannwhitneyu(neu_dist_all[i][0], neu_dist_all[i][j], alternative=\"greater\")\n",
    "    stat, p = scipy.stats.ttest_ind(endo_dist_all[i][0], endo_dist_all[i][j], equal_var=False)\n",
    "    print(p)\n",
    "    print(np.average(endo_dist_all[i][j])-np.average(endo_dist_all[i][0]))\n",
    "    x1, x2 = 0,j\n",
    "    if p < .05:\n",
    "        y=.7\n",
    "        ax.plot(x2, y, \"*\", c=\"r\")\n",
    "box=sns.boxplot(data=np.array(endo_dist_all[0]).T, ax=ax, palette=mypal)\n",
    "box.set_xticklabels([\"unperturbed\", \"2\",\"5\",\"10\"])\n",
    "box.set_ylabel(\"fraction of endocrine cells\")\n",
    "ax.set_xlabel(\"z-score\")\n",
    "plt.show()"
   ]
  },
  {
   "cell_type": "code",
   "execution_count": 164,
   "metadata": {},
   "outputs": [],
   "source": [
    "test=np.array(exo_dist)"
   ]
  },
  {
   "cell_type": "code",
   "execution_count": 165,
   "metadata": {},
   "outputs": [],
   "source": [
    "unpert_average=np.concatenate(test[:,0],axis=0)"
   ]
  },
  {
   "cell_type": "code",
   "execution_count": 166,
   "metadata": {},
   "outputs": [],
   "source": [
    "exo_dist_all =[]\n",
    "for i in range(1):\n",
    "    exo_dist_norm = [unpert_average]\n",
    "    for _ in range(1):\n",
    "        exo_dist_norm.append(exo_dist[i][1])\n",
    "        exo_dist_norm.append(exo_dist[i+1][1])\n",
    "        exo_dist_norm.append(exo_dist[i+2][1])\n",
    "    exo_dist_all.append(exo_dist_norm)"
   ]
  },
  {
   "cell_type": "code",
   "execution_count": 167,
   "metadata": {},
   "outputs": [
    {
     "data": {
      "image/png": "[encoded data removed]",
      "text/plain": [
       "<Figure size 360x288 with 1 Axes>"
      ]
     },
     "metadata": {},
     "output_type": "display_data"
    }
   ],
   "source": [
    "fig, ax = plt.subplots(figsize=(5,4), sharex=True, sharey=True)#len(filenames)/3, figsize=(10,20))\n",
    "sns.set_context(\"talk\")\n",
    "sns.set_style(\"white\")\n",
    "#mypal=[\"lightgrey\",\"honeydew\", \"palegreen\", \"forestgreen\"]\n",
    "mypal=[\"lightgrey\",\"sandybrown\",\"sienna\",\"brown\"]\n",
    "#mypal=[\"lightgrey\",\"white\", \"lightgray\", \"darkgray\"]\n",
    "ax.set_title(\"Ensemble of \"+results[\"perturbed_genes\"])\n",
    "#ax.set_ylim(0.2,0.45)\n",
    "x1, x2 = 0,1\n",
    "for j in range(1, 4):\n",
    "    #stat, p = scipy.stats.mannwhitneyu(neu_dist_all[i][0], neu_dist_all[i][j], alternative=\"greater\")\n",
    "    stat, p = scipy.stats.ttest_ind(endo_dist_all[i][0], endo_dist_all[i][j], equal_var=False)\n",
    "    x1, x2 = 0,j\n",
    "    if p < .05:\n",
    "        y=.65\n",
    "        ax.plot(x2, y, \"*\", c=\"r\")\n",
    "box=sns.boxplot(data=np.array(exo_dist_all[0]).T, ax=ax, palette=mypal)\n",
    "box.set_xticklabels([\"unperturbed\",\"2\",\"5\",\"10\"])\n",
    "box.set_ylabel(\"fraction of non-endocrine cells\")\n",
    "ax.set_xlabel(\"z-score\")\n",
    "plt.show()"
   ]
  },
  {
   "cell_type": "markdown",
   "metadata": {},
   "source": [
    "## Exocrine factors overexpression"
   ]
  },
  {
   "cell_type": "code",
   "execution_count": 168,
   "metadata": {},
   "outputs": [],
   "source": [
    "base_dir = \"/data/gl/g2/sachit/data/veres/perturbations/2_400_kegg_001500_seed_1_real/endocrine_axis/d4/\"\n",
    "filenames=os.listdir(base_dir)"
   ]
  },
  {
   "cell_type": "code",
   "execution_count": 169,
   "metadata": {},
   "outputs": [],
   "source": [
    "filenames.sort()"
   ]
  },
  {
   "cell_type": "code",
   "execution_count": 170,
   "metadata": {},
   "outputs": [],
   "source": [
    "#filenames=[filenames[31],filenames[33],filenames[35]]\n",
    "filenames=[filenames[36],filenames[38],filenames[40]]"
   ]
  },
  {
   "cell_type": "code",
   "execution_count": 171,
   "metadata": {},
   "outputs": [
    {
     "data": {
      "text/plain": [
       "['exocrine_0_over.pt', 'exocrine_1_over.pt', 'exocrine_2_over.pt']"
      ]
     },
     "execution_count": 171,
     "metadata": {},
     "output_type": "execute_result"
    }
   ],
   "source": [
    "filenames"
   ]
  },
  {
   "cell_type": "code",
   "execution_count": 172,
   "metadata": {},
   "outputs": [],
   "source": [
    "genes=[]\n",
    "for name in filenames:\n",
    "    genes.append(str(name).split(\"_\")[0])\n",
    "genes=np.unique(genes)"
   ]
  },
  {
   "cell_type": "code",
   "execution_count": 173,
   "metadata": {},
   "outputs": [],
   "source": [
    "all_results = []\n",
    "for elt in filenames:\n",
    "    if elt != \"std.pt\":\n",
    "        results=torch.load(base_dir+str(elt))\n",
    "        all_results.append(results)"
   ]
  },
  {
   "cell_type": "code",
   "execution_count": 174,
   "metadata": {},
   "outputs": [],
   "source": [
    "endo_dist = []\n",
    "exo_dist = []\n",
    "alpha_dist = []\n",
    "for results in all_results:\n",
    "    endo_counts_std = []\n",
    "    for labs in results[\"unperturbed_labs\"]:\n",
    "        tot=Counter(labs[-1])[\"sc_beta\"]+Counter(labs[-1])[\"sc_ec\"]+Counter(labs[-1])[\"sc_alpha\"]+Counter(labs[-1])[\"fev_high_isl_low\"]+Counter(labs[-1])[\"neurog3_late\"]+Counter(labs[-1])[\"neurog3_mid\"]+Counter(labs[-1])[\"phox2a\"]+Counter(labs[-1])[\"sst_hhex\"]\n",
    "        endo_counts_std.append(tot/200)\n",
    "\n",
    "    endo_counts_perturb = []\n",
    "    for labs in results[\"perturbed_labs\"]:\n",
    "        tot=Counter(labs[-1])[\"sc_beta\"]+Counter(labs[-1])[\"sc_ec\"]+Counter(labs[-1])[\"sc_alpha\"]+Counter(labs[-1])[\"fev_high_isl_low\"]+Counter(labs[-1])[\"neurog3_late\"]+Counter(labs[-1])[\"neurog3_mid\"]+Counter(labs[-1])[\"phox2a\"]+Counter(labs[-1])[\"sst_hhex\"]\n",
    "        endo_counts_perturb.append(tot/200)\n",
    "    \n",
    "    exo_counts_std = []\n",
    "    for labs in results[\"unperturbed_labs\"]:\n",
    "        tot=Counter(labs[-1])[\"exo\"]\n",
    "        exo_counts_std.append(tot/200)\n",
    "\n",
    "    exo_counts_perturb = []\n",
    "    for labs in results[\"perturbed_labs\"]:\n",
    "        tot=Counter(labs[-1])[\"exo\"]\n",
    "        exo_counts_perturb.append(tot/200)\n",
    "\n",
    "        \n",
    "    endo_dist.append(np.array([endo_counts_std, endo_counts_perturb]))\n",
    "    exo_dist.append(np.array([exo_counts_std, exo_counts_perturb]))\n",
    "    "
   ]
  },
  {
   "cell_type": "code",
   "execution_count": 175,
   "metadata": {},
   "outputs": [],
   "source": [
    "test=np.array(endo_dist)"
   ]
  },
  {
   "cell_type": "code",
   "execution_count": 176,
   "metadata": {},
   "outputs": [],
   "source": [
    "unpert_average=np.concatenate(test[:,0],axis=0) #np.average(test[:,0],axis=0)"
   ]
  },
  {
   "cell_type": "code",
   "execution_count": 177,
   "metadata": {},
   "outputs": [
    {
     "data": {
      "text/plain": [
       "array([0.505, 0.41 , 0.54 , 0.545, 0.475, 0.565, 0.55 , 0.47 , 0.59 ,\n",
       "       0.565])"
      ]
     },
     "execution_count": 177,
     "metadata": {},
     "output_type": "execute_result"
    }
   ],
   "source": [
    "endo_dist[0][1]"
   ]
  },
  {
   "cell_type": "code",
   "execution_count": 178,
   "metadata": {},
   "outputs": [
    {
     "name": "stdout",
     "output_type": "stream",
     "text": [
      "0\n"
     ]
    }
   ],
   "source": [
    "endo_dist_all =[]\n",
    "for i in range(0,len(filenames), 3):\n",
    "    print(i)\n",
    "    endo_dist_norm = [unpert_average]\n",
    "    for _ in range(1):\n",
    "        endo_dist_norm.append(endo_dist[i][1])\n",
    "        endo_dist_norm.append(endo_dist[i+1][1])\n",
    "        endo_dist_norm.append(endo_dist[i+2][1])\n",
    "    endo_dist_all.append(endo_dist_norm)"
   ]
  },
  {
   "cell_type": "code",
   "execution_count": 184,
   "metadata": {},
   "outputs": [
    {
     "name": "stdout",
     "output_type": "stream",
     "text": [
      "0.7323759508600889\n",
      "-0.00666666666666671\n",
      "0.9321134679236784\n",
      "-0.0011666666666667602\n",
      "0.5477142239911169\n",
      "0.007333333333333303\n"
     ]
    },
    {
     "data": {
      "image/png": "[encoded data removed]",
      "text/plain": [
       "<Figure size 360x288 with 1 Axes>"
      ]
     },
     "metadata": {},
     "output_type": "display_data"
    }
   ],
   "source": [
    "fig, ax = plt.subplots(figsize=(5,4), sharex=True, sharey=True)#len(filenames)/3, figsize=(10,20))\n",
    "sns.set_context(\"talk\")\n",
    "sns.set_style(\"white\")\n",
    "#mypal=[\"lightgrey\",\"sandybrown\",\"sienna\",\"brown\"]\n",
    "mypal=[\"lightgrey\",\"honeydew\", \"palegreen\", \"forestgreen\"]\n",
    "#mypal=[\"lightgrey\",\"white\", \"lightgray\", \"darkgray\"]\n",
    "ax.set_title(\"Ensemble of \"+results[\"perturbed_genes\"])\n",
    "#ax.set_ylim(0.4,0.7)\n",
    "for j in range(1, 4):\n",
    "    #stat, p = scipy.stats.mannwhitneyu(neu_dist_all[i][0], neu_dist_all[i][j], alternative=\"greater\")\n",
    "    stat, p = scipy.stats.ttest_ind(endo_dist_all[i][0], endo_dist_all[i][j], equal_var=False)\n",
    "    print(p)\n",
    "    print(np.average(endo_dist_all[i][j])-np.average(endo_dist_all[i][0]))\n",
    "    x1, x2 = 0,j\n",
    "    if p < .05:\n",
    "        y=.57\n",
    "        ax.plot(x2, y, \"*\", c=\"r\")\n",
    "box=sns.boxplot(data=np.array(endo_dist_all[0]).T, ax=ax, palette=mypal)\n",
    "box.set_xticklabels([\"unperturbed\", \"2\",\"5\",\"10\"])\n",
    "box.set_ylabel(\"fraction of endocrine cells\")\n",
    "ax.set_xlabel(\"z-score\")\n",
    "plt.show()"
   ]
  },
  {
   "cell_type": "code",
   "execution_count": 185,
   "metadata": {},
   "outputs": [],
   "source": [
    "test=np.array(exo_dist)"
   ]
  },
  {
   "cell_type": "code",
   "execution_count": 186,
   "metadata": {},
   "outputs": [],
   "source": [
    "unpert_average=np.concatenate(test[:,0],axis=0)"
   ]
  },
  {
   "cell_type": "code",
   "execution_count": 187,
   "metadata": {},
   "outputs": [],
   "source": [
    "exo_dist_all =[]\n",
    "for i in range(1):\n",
    "    exo_dist_norm = [unpert_average]\n",
    "    for _ in range(1):\n",
    "        exo_dist_norm.append(exo_dist[i][1])\n",
    "        exo_dist_norm.append(exo_dist[i+1][1])\n",
    "        exo_dist_norm.append(exo_dist[i+2][1])\n",
    "    exo_dist_all.append(exo_dist_norm)"
   ]
  },
  {
   "cell_type": "code",
   "execution_count": 188,
   "metadata": {},
   "outputs": [
    {
     "data": {
      "image/png": "[encoded data removed]",
      "text/plain": [
       "<Figure size 360x288 with 1 Axes>"
      ]
     },
     "metadata": {},
     "output_type": "display_data"
    }
   ],
   "source": [
    "fig, ax = plt.subplots(figsize=(5,4), sharex=True, sharey=True)#len(filenames)/3, figsize=(10,20))\n",
    "sns.set_context(\"talk\")\n",
    "sns.set_style(\"white\")\n",
    "mypal=[\"lightgrey\",\"honeydew\", \"palegreen\", \"forestgreen\"]\n",
    "#mypal=[\"lightgrey\",\"sandybrown\",\"sienna\",\"brown\"]\n",
    "#mypal=[\"lightgrey\",\"white\", \"lightgray\", \"darkgray\"]\n",
    "ax.set_title(\"Ensemble of \"+results[\"perturbed_genes\"])\n",
    "#ax.set_ylim(0.2,0.45)\n",
    "#stat, p = scipy.stats.mannwhitneyu(neu_dist_all[i][0], neu_dist_all[i][j], alternative=\"greater\")\n",
    "stat, p = scipy.stats.ttest_ind(exo_dist_all[0][0], exo_dist_all[0][3])\n",
    "x1, x2 = 0,1\n",
    "for j in range(1, 4):\n",
    "    #stat, p = scipy.stats.mannwhitneyu(neu_dist_all[i][0], neu_dist_all[i][j], alternative=\"greater\")\n",
    "    stat, p = scipy.stats.ttest_ind(endo_dist_all[i][0], endo_dist_all[i][j], equal_var=False)\n",
    "    x1, x2 = 0,j\n",
    "    if p < .05:\n",
    "        y=.6\n",
    "        ax.plot(x2, y, \"*\", c=\"r\")\n",
    "box=sns.boxplot(data=np.array(exo_dist_all[0]).T, ax=ax, palette=mypal)\n",
    "box.set_xticklabels([\"unperturbed\", \"2\",\"5\",\"10\"])\n",
    "box.set_ylabel(\"fraction of non-endocrine cells\")\n",
    "ax.set_xlabel(\"z-score\")\n",
    "plt.show()"
   ]
  },
  {
   "cell_type": "code",
   "execution_count": null,
   "metadata": {},
   "outputs": [],
   "source": []
  },
  {
   "cell_type": "code",
   "execution_count": null,
   "metadata": {},
   "outputs": [],
   "source": []
  }
 ],
 "metadata": {
  "kernelspec": {
   "display_name": "Python 3",
   "language": "python",
   "name": "python3"
  },
  "language_info": {
   "codemirror_mode": {
    "name": "ipython",
    "version": 3
   },
   "file_extension": ".py",
   "mimetype": "text/x-python",
   "name": "python",
   "nbconvert_exporter": "python",
   "pygments_lexer": "ipython3",
   "version": "3.7.8"
  }
 },
 "nbformat": 4,
 "nbformat_minor": 4
}
