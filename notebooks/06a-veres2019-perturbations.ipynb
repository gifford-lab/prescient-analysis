{
 "cells": [
  {
   "cell_type": "code",
   "execution_count": 1,
   "metadata": {},
   "outputs": [],
   "source": [
    "import warnings\n",
    "warnings.filterwarnings('ignore')\n",
    "\n",
    "import os\n",
    "# os.environ[\"CUDA_DEVICE_ORDER\"] = \"PCI_BUS_ID\"\n",
    "# os.environ[\"CUDA_VISIBLE_DEVICES\"] = \"1\"\n",
    "\n",
    "import sys\n",
    "import random\n",
    "import joblib\n",
    "import json \n",
    "\n",
    "import numpy as np\n",
    "import pandas as pd\n",
    "import sklearn\n",
    "import umap\n",
    "import matplotlib.pyplot as plt\n",
    "import scipy\n",
    "import seaborn as sns\n",
    "from types import SimpleNamespace\n",
    "from collections import Counter\n",
    "\n",
    "import torch\n",
    "import torch.nn.functional as F\n",
    "from torch import nn, optim\n",
    "device = torch.device('cuda:0' if torch.cuda.is_available() else 'cpu')"
   ]
  },
  {
   "cell_type": "markdown",
   "metadata": {},
   "source": [
    "# PAX4"
   ]
  },
  {
   "cell_type": "code",
   "execution_count": 40,
   "metadata": {},
   "outputs": [],
   "source": [
    "base_dir = \"/data/gl/g2/sachit/data/veres/perturbations/2_400_kegg_001500_seed_1_real/islet_cells2/prog_sox2/\"\n",
    "filenames=os.listdir(base_dir)"
   ]
  },
  {
   "cell_type": "code",
   "execution_count": 41,
   "metadata": {},
   "outputs": [],
   "source": [
    "filenames.sort()"
   ]
  },
  {
   "cell_type": "code",
   "execution_count": 42,
   "metadata": {},
   "outputs": [
    {
     "data": {
      "text/plain": [
       "['ARX_0_over.pt',\n",
       " 'ARX_1_over.pt',\n",
       " 'ARX_1_under.pt',\n",
       " 'ARX_2_over.pt',\n",
       " 'ISL1_0_over.pt',\n",
       " 'ISL1_1_over.pt',\n",
       " 'ISL1_1_under.pt',\n",
       " 'ISL1_2_over.pt',\n",
       " 'MAFA_0_over.pt',\n",
       " 'MAFA_1_over.pt',\n",
       " 'MAFA_1_under.pt',\n",
       " 'MAFA_2_over.pt',\n",
       " 'MAFB_0_over.pt',\n",
       " 'MAFB_1_over.pt',\n",
       " 'MAFB_1_under.pt',\n",
       " 'MAFB_2_over.pt',\n",
       " 'NEUROD1_0_over.pt',\n",
       " 'NEUROD1_1_over.pt',\n",
       " 'NEUROD1_1_under.pt',\n",
       " 'NEUROD1_2_over.pt',\n",
       " 'NKX2-2_0_over.pt',\n",
       " 'NKX2-2_1_over.pt',\n",
       " 'NKX2-2_1_under.pt',\n",
       " 'NKX2-2_2_over.pt',\n",
       " 'NKX6-1_0_over.pt',\n",
       " 'NKX6-1_1_over.pt',\n",
       " 'NKX6-1_1_under.pt',\n",
       " 'NKX6-1_2_over.pt',\n",
       " 'PAX4_0_over.pt',\n",
       " 'PAX4_1_over.pt',\n",
       " 'PAX4_1_under.pt',\n",
       " 'PAX4_2_over.pt',\n",
       " 'PAX6_0_over.pt',\n",
       " 'PAX6_1_over.pt',\n",
       " 'PAX6_1_under.pt',\n",
       " 'PAX6_2_over.pt',\n",
       " 'PDX1_0_over.pt',\n",
       " 'PDX1_1_over.pt',\n",
       " 'PDX1_1_under.pt',\n",
       " 'PDX1_2_over.pt',\n",
       " 'alpha_cell_ensemble_0_over.pt',\n",
       " 'alpha_cell_ensemble_1_over.pt',\n",
       " 'alpha_cell_ensemble_2_over.pt',\n",
       " 'beta_cell_ensemble_0_over.pt',\n",
       " 'beta_cell_ensemble_1_over.pt',\n",
       " 'beta_cell_ensemble_2_over.pt']"
      ]
     },
     "execution_count": 42,
     "metadata": {},
     "output_type": "execute_result"
    }
   ],
   "source": [
    "filenames"
   ]
  },
  {
   "cell_type": "code",
   "execution_count": 43,
   "metadata": {},
   "outputs": [],
   "source": [
    "filenames=[filenames[28], filenames[29], filenames[31]]"
   ]
  },
  {
   "cell_type": "code",
   "execution_count": 44,
   "metadata": {},
   "outputs": [
    {
     "data": {
      "text/plain": [
       "['PAX4_0_over.pt', 'PAX4_1_over.pt', 'PAX4_2_over.pt']"
      ]
     },
     "execution_count": 44,
     "metadata": {},
     "output_type": "execute_result"
    }
   ],
   "source": [
    "filenames"
   ]
  },
  {
   "cell_type": "code",
   "execution_count": 45,
   "metadata": {},
   "outputs": [],
   "source": [
    "genes=[]\n",
    "for name in filenames:\n",
    "    genes.append(str(name).split(\"_\")[0])\n",
    "genes=np.unique(genes)"
   ]
  },
  {
   "cell_type": "code",
   "execution_count": 46,
   "metadata": {},
   "outputs": [],
   "source": [
    "all_results = []\n",
    "for elt in filenames:\n",
    "    if elt != \"std.pt\":\n",
    "        results=torch.load(base_dir+str(elt))\n",
    "        all_results.append(results)"
   ]
  },
  {
   "cell_type": "code",
   "execution_count": 47,
   "metadata": {},
   "outputs": [
    {
     "data": {
      "text/plain": [
       "'PAX4'"
      ]
     },
     "execution_count": 47,
     "metadata": {},
     "output_type": "execute_result"
    }
   ],
   "source": [
    "all_results[1][\"perturbed_genes\"]"
   ]
  },
  {
   "cell_type": "code",
   "execution_count": 48,
   "metadata": {},
   "outputs": [],
   "source": [
    "beta_dist = []\n",
    "ec_dist = []\n",
    "alpha_dist = []\n",
    "for results in all_results:\n",
    "    beta_counts_std = []\n",
    "    for labs in results[\"unperturbed_labs\"]:\n",
    "        beta_counts_std.append(Counter(labs[-1])[\"sc_beta\"]/200)\n",
    "\n",
    "    beta_counts_perturb = []\n",
    "    for labs in results[\"perturbed_labs\"]:\n",
    "        beta_counts_perturb.append(Counter(labs[-1])[\"sc_beta\"]/200)\n",
    "    \n",
    "    ec_counts_std = []\n",
    "    for labs in results[\"unperturbed_labs\"]:\n",
    "        ec_counts_std.append(Counter(labs[-1])[\"sc_ec\"]/200)\n",
    "\n",
    "    ec_counts_perturb = []\n",
    "    for labs in results[\"perturbed_labs\"]:\n",
    "        ec_counts_perturb.append(Counter(labs[-1])[\"sc_ec\"]/200)\n",
    "    \n",
    "    alpha_counts_std = []\n",
    "    for labs in results[\"unperturbed_labs\"]:\n",
    "        alpha_counts_std.append(Counter(labs[-1])[\"sc_alpha\"]/200)\n",
    "\n",
    "    alpha_counts_perturb = []\n",
    "    for labs in results[\"perturbed_labs\"]:\n",
    "        alpha_counts_perturb.append(Counter(labs[-1])[\"sc_alpha\"]/200)\n",
    "        \n",
    "    beta_dist.append(np.array([beta_counts_std, beta_counts_perturb]))\n",
    "    ec_dist.append(np.array([ec_counts_std, ec_counts_perturb]))\n",
    "    alpha_dist.append(np.array([alpha_counts_std, alpha_counts_perturb]))\n",
    "    "
   ]
  },
  {
   "cell_type": "code",
   "execution_count": 49,
   "metadata": {},
   "outputs": [],
   "source": [
    "test=np.array(beta_dist)"
   ]
  },
  {
   "cell_type": "code",
   "execution_count": 50,
   "metadata": {},
   "outputs": [],
   "source": [
    "unpert_average=np.concatenate(test[:,0],axis=0)"
   ]
  },
  {
   "cell_type": "code",
   "execution_count": 51,
   "metadata": {},
   "outputs": [
    {
     "data": {
      "text/plain": [
       "array([0.07 , 0.025, 0.06 , 0.075, 0.055, 0.07 , 0.07 , 0.035, 0.075,\n",
       "       0.07 ])"
      ]
     },
     "execution_count": 51,
     "metadata": {},
     "output_type": "execute_result"
    }
   ],
   "source": [
    "beta_dist[0][1]"
   ]
  },
  {
   "cell_type": "code",
   "execution_count": 52,
   "metadata": {},
   "outputs": [
    {
     "name": "stdout",
     "output_type": "stream",
     "text": [
      "0\n"
     ]
    }
   ],
   "source": [
    "beta_dist_all =[]\n",
    "for i in range(0,len(filenames), 3):\n",
    "    print(i)\n",
    "    beta_dist_norm = [unpert_average]\n",
    "    for _ in range(1):\n",
    "        beta_dist_norm.append(beta_dist[i][1])\n",
    "        beta_dist_norm.append(beta_dist[i+1][1])\n",
    "        beta_dist_norm.append(beta_dist[i+2][1])\n",
    "    beta_dist_all.append(beta_dist_norm)"
   ]
  },
  {
   "cell_type": "code",
   "execution_count": 53,
   "metadata": {},
   "outputs": [
    {
     "name": "stdout",
     "output_type": "stream",
     "text": [
      "0.03574085072446724\n",
      "0.014166666666666668\n",
      "0.00016921714651149116\n",
      "0.03416666666666667\n",
      "2.244727455256512e-06\n",
      "0.04966666666666667\n"
     ]
    },
    {
     "data": {
      "image/png": "[encoded data removed]",
      "text/plain": [
       "<Figure size 360x288 with 1 Axes>"
      ]
     },
     "metadata": {
      "needs_background": "light"
     },
     "output_type": "display_data"
    }
   ],
   "source": [
    "fig, ax = plt.subplots(figsize=(5,4), sharex=True, sharey=True)\n",
    "sns.set_context(\"talk\")\n",
    "mypal=[\"lightgrey\",\"lavender\", \"mediumorchid\", \"purple\"]\n",
    "#mypal=[\"lightgrey\",\"mistyrose\", \"crimson\", \"maroon\"]\n",
    "ax.title.set_text(all_results[1][\"perturbed_genes\"])\n",
    "#ax.set_ylim(0.0,0.5)\n",
    "for j in range(1, 4):\n",
    "    #stat, p = scipy.stats.mannwhitneyu(neu_dist_all[i][0], neu_dist_all[i][j], alternative=\"greater\")\n",
    "    stat, p = scipy.stats.ttest_ind(beta_dist_all[i][0], beta_dist_all[i][j],equal_var=False)\n",
    "    print(p)\n",
    "    print(np.average(beta_dist_all[i][j])-np.average(beta_dist_all[i][0]))\n",
    "    x1, x2 = 0,j\n",
    "    if p < .05:\n",
    "        y=.15\n",
    "        ax.plot(x2, y, \"*\", c=\"r\")\n",
    "box=sns.boxplot(data=np.array(beta_dist_all[i]).T, ax=ax, palette=mypal)\n",
    "box.set_xticklabels([\"unperturbed\", \"2\", \"5\", \"10\"])\n",
    "box.set_ylabel(\"fraction of beta cells\")\n",
    "ax.set_xlabel(\"z-score\")\n",
    "plt.show()"
   ]
  },
  {
   "cell_type": "code",
   "execution_count": 54,
   "metadata": {},
   "outputs": [],
   "source": [
    "test=np.array(alpha_dist)"
   ]
  },
  {
   "cell_type": "code",
   "execution_count": 55,
   "metadata": {},
   "outputs": [],
   "source": [
    "unpert_average=np.concatenate(test[:,0],axis=0)"
   ]
  },
  {
   "cell_type": "code",
   "execution_count": 56,
   "metadata": {},
   "outputs": [],
   "source": [
    "alpha_dist_all =[]\n",
    "for i in range(1):\n",
    "    alpha_dist_norm = [unpert_average]\n",
    "    for _ in range(1):\n",
    "        alpha_dist_norm.append(alpha_dist[i][1])\n",
    "        alpha_dist_norm.append(alpha_dist[i+1][1])\n",
    "        alpha_dist_norm.append(alpha_dist[i+2][1])\n",
    "    alpha_dist_all.append(alpha_dist_norm)"
   ]
  },
  {
   "cell_type": "code",
   "execution_count": 57,
   "metadata": {},
   "outputs": [
    {
     "data": {
      "image/png": "[encoded data removed]",
      "text/plain": [
       "<Figure size 360x288 with 1 Axes>"
      ]
     },
     "metadata": {
      "needs_background": "light"
     },
     "output_type": "display_data"
    }
   ],
   "source": [
    "fig, ax = plt.subplots(figsize=(5,4), sharex=True, sharey=True)#len(filenames)/3, figsize=(10,20))\n",
    "sns.set_context(\"talk\")\n",
    "sns.set_style(\"white\")\n",
    "mypal=[\"lightgrey\",\"lavender\", \"mediumorchid\", \"purple\"]\n",
    "#mypal=[\"lightgrey\",\"mistyrose\", \"crimson\", \"maroon\"]\n",
    "ax.title.set_text(all_results[1][\"perturbed_genes\"])\n",
    "#ax.set_ylim(0.0,0.6)\n",
    "for j in range(1, 4):\n",
    "    #stat, p = scipy.stats.mannwhitneyu(neu_dist_all[i][0], neu_dist_all[i][j], alternative=\"greater\")\n",
    "    stat, p = scipy.stats.ttest_ind(alpha_dist_all[i][0], alpha_dist_all[i][j],equal_var=False)\n",
    "    x1, x2 = 0,j\n",
    "    if p < .05:\n",
    "        y=.2\n",
    "        ax.plot(x2, y, \"*\", c=\"r\")\n",
    "box=sns.boxplot(data=np.array(alpha_dist_all[i]).T, ax=ax, palette=mypal)\n",
    "box.set_xticklabels([\"unperturbed\", \"2\", \"5\", \"10\"])\n",
    "box.set_ylabel(\"fraction of alpha cells\")\n",
    "ax.set_xlabel(\"z-score\")\n",
    "plt.show()"
   ]
  },
  {
   "cell_type": "markdown",
   "metadata": {},
   "source": [
    "# ARX"
   ]
  },
  {
   "cell_type": "code",
   "execution_count": 58,
   "metadata": {},
   "outputs": [],
   "source": [
    "base_dir = \"/data/gl/g2/sachit/data/veres/perturbations/2_400_kegg_001500_seed_1_real/islet_cells2/prog_sox2/\"\n",
    "filenames=os.listdir(base_dir)"
   ]
  },
  {
   "cell_type": "code",
   "execution_count": 59,
   "metadata": {},
   "outputs": [],
   "source": [
    "filenames.sort()"
   ]
  },
  {
   "cell_type": "code",
   "execution_count": 60,
   "metadata": {},
   "outputs": [
    {
     "data": {
      "text/plain": [
       "['ARX_0_over.pt',\n",
       " 'ARX_1_over.pt',\n",
       " 'ARX_1_under.pt',\n",
       " 'ARX_2_over.pt',\n",
       " 'ISL1_0_over.pt',\n",
       " 'ISL1_1_over.pt',\n",
       " 'ISL1_1_under.pt',\n",
       " 'ISL1_2_over.pt',\n",
       " 'MAFA_0_over.pt',\n",
       " 'MAFA_1_over.pt',\n",
       " 'MAFA_1_under.pt',\n",
       " 'MAFA_2_over.pt',\n",
       " 'MAFB_0_over.pt',\n",
       " 'MAFB_1_over.pt',\n",
       " 'MAFB_1_under.pt',\n",
       " 'MAFB_2_over.pt',\n",
       " 'NEUROD1_0_over.pt',\n",
       " 'NEUROD1_1_over.pt',\n",
       " 'NEUROD1_1_under.pt',\n",
       " 'NEUROD1_2_over.pt',\n",
       " 'NKX2-2_0_over.pt',\n",
       " 'NKX2-2_1_over.pt',\n",
       " 'NKX2-2_1_under.pt',\n",
       " 'NKX2-2_2_over.pt',\n",
       " 'NKX6-1_0_over.pt',\n",
       " 'NKX6-1_1_over.pt',\n",
       " 'NKX6-1_1_under.pt',\n",
       " 'NKX6-1_2_over.pt',\n",
       " 'PAX4_0_over.pt',\n",
       " 'PAX4_1_over.pt',\n",
       " 'PAX4_1_under.pt',\n",
       " 'PAX4_2_over.pt',\n",
       " 'PAX6_0_over.pt',\n",
       " 'PAX6_1_over.pt',\n",
       " 'PAX6_1_under.pt',\n",
       " 'PAX6_2_over.pt',\n",
       " 'PDX1_0_over.pt',\n",
       " 'PDX1_1_over.pt',\n",
       " 'PDX1_1_under.pt',\n",
       " 'PDX1_2_over.pt',\n",
       " 'alpha_cell_ensemble_0_over.pt',\n",
       " 'alpha_cell_ensemble_1_over.pt',\n",
       " 'alpha_cell_ensemble_2_over.pt',\n",
       " 'beta_cell_ensemble_0_over.pt',\n",
       " 'beta_cell_ensemble_1_over.pt',\n",
       " 'beta_cell_ensemble_2_over.pt']"
      ]
     },
     "execution_count": 60,
     "metadata": {},
     "output_type": "execute_result"
    }
   ],
   "source": [
    "filenames"
   ]
  },
  {
   "cell_type": "code",
   "execution_count": 61,
   "metadata": {},
   "outputs": [],
   "source": [
    "filenames=[filenames[0], filenames[1], filenames[3]]"
   ]
  },
  {
   "cell_type": "code",
   "execution_count": 62,
   "metadata": {},
   "outputs": [
    {
     "data": {
      "text/plain": [
       "['ARX_0_over.pt', 'ARX_1_over.pt', 'ARX_2_over.pt']"
      ]
     },
     "execution_count": 62,
     "metadata": {},
     "output_type": "execute_result"
    }
   ],
   "source": [
    "filenames"
   ]
  },
  {
   "cell_type": "code",
   "execution_count": 63,
   "metadata": {},
   "outputs": [],
   "source": [
    "genes=[]\n",
    "for name in filenames:\n",
    "    genes.append(str(name).split(\"_\")[0])\n",
    "genes=np.unique(genes)"
   ]
  },
  {
   "cell_type": "code",
   "execution_count": 64,
   "metadata": {},
   "outputs": [],
   "source": [
    "all_results = []\n",
    "for elt in filenames:\n",
    "    if elt != \"std.pt\":\n",
    "        results=torch.load(base_dir+str(elt))\n",
    "        all_results.append(results)"
   ]
  },
  {
   "cell_type": "code",
   "execution_count": 65,
   "metadata": {},
   "outputs": [
    {
     "data": {
      "text/plain": [
       "'ARX'"
      ]
     },
     "execution_count": 65,
     "metadata": {},
     "output_type": "execute_result"
    }
   ],
   "source": [
    "all_results[1][\"perturbed_genes\"]"
   ]
  },
  {
   "cell_type": "code",
   "execution_count": 66,
   "metadata": {},
   "outputs": [],
   "source": [
    "beta_dist = []\n",
    "ec_dist = []\n",
    "alpha_dist = []\n",
    "for results in all_results:\n",
    "    beta_counts_std = []\n",
    "    for labs in results[\"unperturbed_labs\"]:\n",
    "        beta_counts_std.append(Counter(labs[-1])[\"sc_beta\"]/200)\n",
    "\n",
    "    beta_counts_perturb = []\n",
    "    for labs in results[\"perturbed_labs\"]:\n",
    "        beta_counts_perturb.append(Counter(labs[-1])[\"sc_beta\"]/200)\n",
    "    \n",
    "    ec_counts_std = []\n",
    "    for labs in results[\"unperturbed_labs\"]:\n",
    "        ec_counts_std.append(Counter(labs[-1])[\"sc_ec\"]/200)\n",
    "\n",
    "    ec_counts_perturb = []\n",
    "    for labs in results[\"perturbed_labs\"]:\n",
    "        ec_counts_perturb.append(Counter(labs[-1])[\"sc_ec\"]/200)\n",
    "    \n",
    "    alpha_counts_std = []\n",
    "    for labs in results[\"unperturbed_labs\"]:\n",
    "        alpha_counts_std.append(Counter(labs[-1])[\"sc_alpha\"]/200)\n",
    "\n",
    "    alpha_counts_perturb = []\n",
    "    for labs in results[\"perturbed_labs\"]:\n",
    "        alpha_counts_perturb.append(Counter(labs[-1])[\"sc_alpha\"]/200)\n",
    "        \n",
    "    beta_dist.append(np.array([beta_counts_std, beta_counts_perturb]))\n",
    "    ec_dist.append(np.array([ec_counts_std, ec_counts_perturb]))\n",
    "    alpha_dist.append(np.array([alpha_counts_std, alpha_counts_perturb]))\n",
    "    "
   ]
  },
  {
   "cell_type": "code",
   "execution_count": 67,
   "metadata": {},
   "outputs": [],
   "source": [
    "test=np.array(beta_dist)"
   ]
  },
  {
   "cell_type": "code",
   "execution_count": 68,
   "metadata": {},
   "outputs": [],
   "source": [
    "unpert_average=np.concatenate(test[:,0],axis=0)"
   ]
  },
  {
   "cell_type": "code",
   "execution_count": 69,
   "metadata": {},
   "outputs": [
    {
     "data": {
      "text/plain": [
       "array([0.045, 0.03 , 0.04 , 0.05 , 0.04 , 0.065, 0.03 , 0.035, 0.04 ,\n",
       "       0.035])"
      ]
     },
     "execution_count": 69,
     "metadata": {},
     "output_type": "execute_result"
    }
   ],
   "source": [
    "beta_dist[0][1]"
   ]
  },
  {
   "cell_type": "code",
   "execution_count": 70,
   "metadata": {},
   "outputs": [
    {
     "name": "stdout",
     "output_type": "stream",
     "text": [
      "0\n"
     ]
    }
   ],
   "source": [
    "beta_dist_all =[]\n",
    "for i in range(0,len(filenames), 3):\n",
    "    print(i)\n",
    "    beta_dist_norm = [unpert_average]\n",
    "    for _ in range(1):\n",
    "        beta_dist_norm.append(beta_dist[i][1])\n",
    "        beta_dist_norm.append(beta_dist[i+1][1])\n",
    "        beta_dist_norm.append(beta_dist[i+2][1])\n",
    "    beta_dist_all.append(beta_dist_norm)"
   ]
  },
  {
   "cell_type": "code",
   "execution_count": 71,
   "metadata": {},
   "outputs": [
    {
     "name": "stdout",
     "output_type": "stream",
     "text": [
      "0.28352556382059046\n",
      "-0.004666666666666666\n",
      "3.8673627245167805e-07\n",
      "-0.023666666666666662\n",
      "3.8134002461794854e-12\n",
      "-0.03716666666666666\n"
     ]
    },
    {
     "data": {
      "image/png": "[encoded data removed]",
      "text/plain": [
       "<Figure size 360x288 with 1 Axes>"
      ]
     },
     "metadata": {},
     "output_type": "display_data"
    }
   ],
   "source": [
    "fig, ax = plt.subplots(figsize=(5,4), sharex=True, sharey=True)\n",
    "sns.set_context(\"talk\")\n",
    "mypal=[\"lightgrey\",\"mistyrose\", \"crimson\", \"maroon\"]\n",
    "ax.title.set_text(all_results[1][\"perturbed_genes\"])\n",
    "#ax.set_ylim(0.0,0.5)\n",
    "for j in range(1, 4):\n",
    "    #stat, p = scipy.stats.mannwhitneyu(neu_dist_all[i][0], neu_dist_all[i][j], alternative=\"greater\")\n",
    "    stat, p = scipy.stats.ttest_ind(beta_dist_all[i][0], beta_dist_all[i][j],equal_var=False)\n",
    "    print(p)\n",
    "    print(np.average(beta_dist_all[i][j])-np.average(beta_dist_all[i][0]))\n",
    "    x1, x2 = 0,j\n",
    "    if p < .05:\n",
    "        y=.15\n",
    "        ax.plot(x2, y, \"*\", c=\"r\")\n",
    "box=sns.boxplot(data=np.array(beta_dist_all[i]).T, ax=ax, palette=mypal)\n",
    "box.set_xticklabels([\"unperturbed\", \"2\", \"5\", \"10\"])\n",
    "box.set_ylabel(\"fraction of beta cells\")\n",
    "ax.set_xlabel(\"z-score\")\n",
    "plt.show()"
   ]
  },
  {
   "cell_type": "code",
   "execution_count": 72,
   "metadata": {},
   "outputs": [],
   "source": [
    "test=np.array(alpha_dist)"
   ]
  },
  {
   "cell_type": "code",
   "execution_count": 73,
   "metadata": {},
   "outputs": [],
   "source": [
    "unpert_average=np.concatenate(test[:,0],axis=0)"
   ]
  },
  {
   "cell_type": "code",
   "execution_count": 74,
   "metadata": {},
   "outputs": [],
   "source": [
    "alpha_dist_all =[]\n",
    "for i in range(1):\n",
    "    alpha_dist_norm = [unpert_average]\n",
    "    for _ in range(1):\n",
    "        alpha_dist_norm.append(alpha_dist[i][1])\n",
    "        alpha_dist_norm.append(alpha_dist[i+1][1])\n",
    "        alpha_dist_norm.append(alpha_dist[i+2][1])\n",
    "    alpha_dist_all.append(alpha_dist_norm)"
   ]
  },
  {
   "cell_type": "code",
   "execution_count": 75,
   "metadata": {},
   "outputs": [
    {
     "name": "stdout",
     "output_type": "stream",
     "text": [
      "4.418847689135718e-05\n",
      "-0.004666666666666666\n",
      "5.952675681913151e-08\n",
      "-0.023666666666666662\n",
      "8.782293468632024e-12\n",
      "-0.03716666666666666\n"
     ]
    },
    {
     "data": {
      "image/png": "[encoded data removed]",
      "text/plain": [
       "<Figure size 360x288 with 1 Axes>"
      ]
     },
     "metadata": {},
     "output_type": "display_data"
    }
   ],
   "source": [
    "fig, ax = plt.subplots(figsize=(5,4), sharex=True, sharey=True)#len(filenames)/3, figsize=(10,20))\n",
    "sns.set_context(\"talk\")\n",
    "sns.set_style(\"white\")\n",
    "\n",
    "mypal=[\"lightgrey\",\"mistyrose\", \"crimson\", \"maroon\"]\n",
    "ax.title.set_text(all_results[1][\"perturbed_genes\"])\n",
    "#ax.set_ylim(0.0,0.6)\n",
    "for j in range(1, 4):\n",
    "    #stat, p = scipy.stats.mannwhitneyu(neu_dist_all[i][0], neu_dist_all[i][j], alternative=\"greater\")\n",
    "    stat, p = scipy.stats.ttest_ind(alpha_dist_all[i][0], alpha_dist_all[i][j],equal_var=False)\n",
    "    print(p)\n",
    "    print(np.average(beta_dist_all[i][j])-np.average(beta_dist_all[i][0]))\n",
    "    x1, x2 = 0,j\n",
    "    if p < .05:\n",
    "        y=.2\n",
    "        ax.plot(x2, y, \"*\", c=\"r\")\n",
    "box=sns.boxplot(data=np.array(alpha_dist_all[i]).T, ax=ax, palette=mypal)\n",
    "box.set_xticklabels([\"unperturbed\", \"2\", \"5\", \"10\"])\n",
    "box.set_ylabel(\"fraction of alpha cells\")\n",
    "ax.set_xlabel(\"z-score\")\n",
    "plt.show()"
   ]
  },
  {
   "cell_type": "code",
   "execution_count": null,
   "metadata": {},
   "outputs": [],
   "source": []
  },
  {
   "cell_type": "code",
   "execution_count": null,
   "metadata": {},
   "outputs": [],
   "source": []
  }
 ],
 "metadata": {
  "kernelspec": {
   "display_name": "Python 3",
   "language": "python",
   "name": "python3"
  },
  "language_info": {
   "codemirror_mode": {
    "name": "ipython",
    "version": 3
   },
   "file_extension": ".py",
   "mimetype": "text/x-python",
   "name": "python",
   "nbconvert_exporter": "python",
   "pygments_lexer": "ipython3",
   "version": "3.7.8"
  }
 },
 "nbformat": 4,
 "nbformat_minor": 4
}
